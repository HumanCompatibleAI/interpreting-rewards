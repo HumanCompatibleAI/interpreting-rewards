{
 "cells": [
  {
   "cell_type": "code",
   "execution_count": 1,
   "metadata": {},
   "outputs": [],
   "source": [
    "from pathlib import Path\n",
    "\n",
    "import numpy as np\n",
    "import matplotlib.pyplot as plt"
   ]
  },
  {
   "cell_type": "code",
   "execution_count": 12,
   "metadata": {},
   "outputs": [
    {
     "data": {
      "text/plain": [
       "True"
      ]
     },
     "execution_count": 12,
     "metadata": {},
     "output_type": "execute_result"
    }
   ],
   "source": [
    "Path('../scripts/output/regressed_exps')"
   ]
  },
  {
   "cell_type": "code",
   "execution_count": 15,
   "metadata": {},
   "outputs": [],
   "source": [
    "evaluations = {\n",
    "    'CoinFlipGoal': {\n",
    "        'true': Path('../scripts/output/regressed_exps/ppo/EmptyMaze-10x10-CoinFlipGoal-v3_1/evaluations.npz'),\n",
    "        'rm': Path('../scripts/output/regressed_exps/ppo/EmptyMaze-10x10-CoinFlipGoal-v3_2/evaluations.npz')\n",
    "    },\n",
    "    'TwoGoals': {\n",
    "        'true': Path('../scripts/output/regressed_exps/ppo/EmptyMaze-10x10-TwoGoals-v3_1/evaluations.npz'),\n",
    "        'rm': Path('../scripts/output/regressed_exps/ppo/EmptyMaze-10x10-TwoGoals-v3_2/evaluations.npz')\n",
    "    }\n",
    "}\n"
   ]
  },
  {
   "cell_type": "code",
   "execution_count": 53,
   "metadata": {},
   "outputs": [],
   "source": [
    "plt.rcParams.update({\n",
    "#     \"text.usetex\": True,\n",
    "#     \"font.family\": \"serif\",\n",
    "    \"font.serif\": [\"Times\"],\n",
    "})"
   ]
  },
  {
   "cell_type": "code",
   "execution_count": 73,
   "metadata": {},
   "outputs": [
    {
     "data": {
      "image/png": "[encoded data removed]",
      "text/plain": [
       "<Figure size 396x194.4 with 4 Axes>"
      ]
     },
     "metadata": {
      "needs_background": "light"
     },
     "output_type": "display_data"
    }
   ],
   "source": [
    "plt.figure(figsize=(5.5, 2.7))\n",
    "\n",
    "ax = plt.subplot(2, 2, 1)\n",
    "with np.load(evaluations['CoinFlipGoal']['true']) as data:\n",
    "    timesteps = data['timesteps']\n",
    "    results = data['results']\n",
    "means = np.mean(results, axis=1).flatten()\n",
    "stds = np.std(results, axis=1).flatten()\n",
    "ax.plot(timesteps, means, color=\"blue\")\n",
    "ax.fill_between(timesteps, means-stds, means+stds, alpha=0.1, color=\"blue\")\n",
    "# plt.ylim(-5, 40)\n",
    "ax.set_xlabel(\"Timesteps\", fontsize=9, fontfamily='Times New Roman')\n",
    "ax.set_ylabel(\"Episode Return\", fontsize=9, fontfamily='Times New Roman')\n",
    "ax.set_ylim(0, 1.1)\n",
    "plt.xticks(fontsize=7, fontfamily='Times New Roman')\n",
    "plt.yticks(fontsize=7, fontfamily='Times New Roman')\n",
    "plt.yticks([0, 0.5, 1], fontsize=7, fontfamily='Times New Roman')\n",
    "ax.xaxis.labelpad=1\n",
    "# plt.legend(loc='upper left', prop={'size': 6})\n",
    "ax.set_title(\"CoinFlipGoal w/ True Reward\", fontsize=9, fontfamily='Times New Roman')\n",
    "ax.text(0.5, -0.75, \"(a)\", size=10, ha=\"center\", weight=\"bold\", fontfamily='Times New Roman', \n",
    "         transform=ax.transAxes)\n",
    "\n",
    "ax = plt.subplot(2, 2, 3)\n",
    "with np.load(evaluations['CoinFlipGoal']['rm']) as data:\n",
    "    timesteps = data['timesteps']\n",
    "    results = data['results']\n",
    "means = np.mean(results, axis=1).flatten()\n",
    "stds = np.std(results, axis=1).flatten()\n",
    "ax.plot(timesteps, means, color=\"blue\")\n",
    "ax.fill_between(timesteps, means-stds, means+stds, alpha=0.1, color=\"blue\")\n",
    "# plt.ylim(-5, 40)\n",
    "ax.set_xlabel(\"Timesteps\", fontsize=9, fontfamily='Times New Roman')\n",
    "ax.set_ylabel(\"Episode Return\", fontsize=9, fontfamily='Times New Roman')\n",
    "ax.set_ylim(0, 1.1)\n",
    "plt.xticks(fontsize=7, fontfamily='Times New Roman')\n",
    "plt.yticks([0, 0.5, 1], fontsize=7, fontfamily='Times New Roman')\n",
    "ax.xaxis.labelpad=1\n",
    "# plt.legend(loc='upper left', prop={'size': 6})\n",
    "ax.set_title(\"CoinFlipGoal w/ Regressed Reward\", fontsize=9, fontfamily='Times New Roman')\n",
    "ax.text(0.5, -0.75, \"(c)\", size=10, ha=\"center\", weight=\"bold\", fontfamily='Times New Roman', \n",
    "         transform=ax.transAxes)\n",
    "\n",
    "ax = plt.subplot(2, 2, 2)\n",
    "with np.load(evaluations['TwoGoals']['true']) as data:\n",
    "    timesteps = data['timesteps']\n",
    "    results = data['results']\n",
    "means = np.mean(results, axis=1).flatten()\n",
    "stds = np.std(results, axis=1).flatten()\n",
    "ax.plot(timesteps, means, color=\"blue\")\n",
    "ax.fill_between(timesteps, means-stds, means+stds, alpha=0.1, color=\"blue\")\n",
    "# plt.ylim(-5, 40)\n",
    "ax.set_xlabel(\"Timesteps\", fontsize=9, fontfamily='Times New Roman')\n",
    "ax.set_ylabel(\"Episode Return\", fontsize=9, fontfamily='Times New Roman')\n",
    "ax.set_ylim(0, 1.1)\n",
    "plt.xticks(fontsize=7, fontfamily='Times New Roman')\n",
    "plt.yticks([0, 0.5, 1], fontsize=7, fontfamily='Times New Roman')\n",
    "ax.xaxis.labelpad=1\n",
    "# plt.legend(loc='upper left', prop={'size': 6})\n",
    "ax.set_title(\"TwoGoals w/ True Reward\", fontsize=9, fontfamily='Times New Roman')\n",
    "ax.text(0.5, -0.75, \"(b)\", size=10, ha=\"center\", weight=\"bold\", fontfamily='Times New Roman', \n",
    "         transform=ax.transAxes)\n",
    "\n",
    "ax = plt.subplot(2, 2, 4)\n",
    "with np.load(evaluations['TwoGoals']['rm']) as data:\n",
    "    timesteps = data['timesteps']\n",
    "    results = data['results']\n",
    "means = np.mean(results, axis=1).flatten()\n",
    "stds = np.std(results, axis=1).flatten()\n",
    "ax.plot(timesteps, means, color=\"blue\")\n",
    "ax.fill_between(timesteps, means-stds, means+stds, alpha=0.1, color=\"blue\")\n",
    "# plt.ylim(-5, 40)\n",
    "ax.set_xlabel(\"Timesteps\", fontsize=9, fontfamily='Times New Roman')\n",
    "ax.set_ylabel(\"Episode Return\", fontsize=7, fontfamily='Times New Roman')\n",
    "ax.set_ylim(0, 1.1)\n",
    "plt.xticks(fontsize=7, fontfamily='Times New Roman')\n",
    "plt.yticks([0, 0.5, 1], fontsize=7, fontfamily='Times New Roman')\n",
    "ax.xaxis.labelpad=1\n",
    "# plt.legend(loc='upper left', prop={'size': 6})\n",
    "ax.set_title(\"TwoGoals w/ CoinFlipGoal's Regressed Reward\", fontsize=9, fontfamily='Times New Roman')\n",
    "ax.text(0.5, -0.75, \"(d)\", size=10, ha=\"center\", weight=\"bold\", fontfamily='Times New Roman', \n",
    "         transform=ax.transAxes)\n",
    "\n",
    "\n",
    "plt.subplots_adjust(hspace=1.2, wspace=0.4, bottom=0.2, top=0.92)\n",
    "\n",
    "plt.savefig('figures/maze-training-curves.pdf', dpi=100)"
   ]
  },
  {
   "cell_type": "code",
   "execution_count": null,
   "metadata": {},
   "outputs": [],
   "source": []
  },
  {
   "cell_type": "code",
   "execution_count": null,
   "metadata": {},
   "outputs": [],
   "source": []
  },
  {
   "cell_type": "code",
   "execution_count": null,
   "metadata": {},
   "outputs": [],
   "source": []
  },
  {
   "cell_type": "code",
   "execution_count": null,
   "metadata": {},
   "outputs": [],
   "source": []
  }
 ],
 "metadata": {
  "kernelspec": {
   "display_name": "Python 3",
   "language": "python",
   "name": "python3"
  },
  "language_info": {
   "codemirror_mode": {
    "name": "ipython",
    "version": 3
   },
   "file_extension": ".py",
   "mimetype": "text/x-python",
   "name": "python",
   "nbconvert_exporter": "python",
   "pygments_lexer": "ipython3",
   "version": "3.7.7"
  }
 },
 "nbformat": 4,
 "nbformat_minor": 4
}
