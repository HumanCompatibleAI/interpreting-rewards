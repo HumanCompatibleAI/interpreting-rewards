{
 "cells": [
  {
   "cell_type": "code",
   "execution_count": 116,
   "metadata": {},
   "outputs": [],
   "source": [
    "import os\n",
    "import sys\n",
    "import importlib\n",
    "from pathlib import Path\n",
    "from itertools import product\n",
    "import h5py\n",
    "import random\n",
    "\n",
    "import gym\n",
    "import numpy as np\n",
    "import matplotlib\n",
    "import matplotlib.cm\n",
    "import matplotlib.pyplot as plt\n",
    "import scipy.ndimage\n",
    "import skimage.transform\n",
    "import torch as th\n",
    "import torch.nn as nn\n",
    "\n",
    "from tqdm.auto import tqdm\n",
    "\n",
    "from stable_baselines3.common.utils import set_random_seed\n",
    "from stable_baselines3.common.atari_wrappers import AtariWrapper\n",
    "from stable_baselines3.common.vec_env import VecEnvWrapper, VecEnv, DummyVecEnv, VecFrameStack\n",
    "from stable_baselines3.common.vec_env import VecTransposeImage\n",
    "\n",
    "sys.path.insert(1, \"../rl-baselines3-zoo\")\n",
    "import utils.import_envs  # noqa: F401 pylint: disable=unused-import\n",
    "from utils.utils import StoreDict\n",
    "from utils import ALGOS, create_test_env, get_latest_run_id, get_saved_hyperparams\n",
    "\n",
    "import interp"
   ]
  },
  {
   "cell_type": "code",
   "execution_count": 4,
   "metadata": {},
   "outputs": [
    {
     "name": "stdout",
     "output_type": "stream",
     "text": [
      "Using device: cpu\n"
     ]
    }
   ],
   "source": [
    "########### Set Device ############\n",
    "# device = th.device('cuda' if th.cuda.is_available() else 'cpu')\n",
    "device = 'cpu'\n",
    "dtype = th.float32\n",
    "th.set_default_dtype(dtype)\n",
    "print(\"Using device: {}\".format(device))"
   ]
  },
  {
   "cell_type": "code",
   "execution_count": 5,
   "metadata": {},
   "outputs": [],
   "source": [
    "class RewardModel(nn.Module):\n",
    "    \"\"\"A reward model using an A2C feature extractor\"\"\"\n",
    "    def __init__(self, env, device):\n",
    "        super(RewardModel, self).__init__()\n",
    "        self.ac_model = ALGOS['a2c']('CnnPolicy', env).policy\n",
    "        self.reward_net = nn.Linear(512, 1).to(device)\n",
    "        self.device = device\n",
    "    \n",
    "    def forward(self, obs):\n",
    "        obs_transposed = VecTransposeImage.transpose_image(obs)\n",
    "        latent, _, _= self.ac_model._get_latent(th.tensor(obs_transposed).to(self.device))\n",
    "        return self.reward_net(latent)\n",
    "    \n",
    "    def forward_tensor(self, obs):\n",
    "        \"\"\"obs is a tensor which has already been transposed correctly.\"\"\"\n",
    "        latent, _, _= self.ac_model._get_latent(obs.to(self.device))\n",
    "        return self.reward_net(latent)\n",
    "    \n",
    "    def freeze_extractor(self):\n",
    "        for p in self.ac_model.policy.features_extractor.parameters():\n",
    "            p.requires_grad = False"
   ]
  },
  {
   "cell_type": "code",
   "execution_count": 6,
   "metadata": {},
   "outputs": [],
   "source": [
    "def get_mask(center, size, r):\n",
    "    y,x = np.ogrid[-center[0]:size[0]-center[0], -center[1]:size[1]-center[1]]\n",
    "    keep = x*x + y*y <= 1\n",
    "    mask = np.zeros(size) ; mask[keep] = 1 # select a circle of pixels\n",
    "    mask = scipy.ndimage.gaussian_filter(mask, sigma=r) # blur the circle of pixels. this is a 2D Gaussian for r=r^2=1\n",
    "    return mask/mask.max()\n",
    "\n",
    "def occlude(img, mask):\n",
    "    assert img.shape[1:] == (84, 84, 4)\n",
    "    img = np.copy(img)\n",
    "    for k in range(4):\n",
    "        I = img[0, :, :, k]\n",
    "        img[0, :, :, k] = I*(1-mask) + scipy.ndimage.gaussian_filter(I, sigma=3)*mask\n",
    "    return img\n",
    "\n",
    "def compute_saliency_map(reward_model, obs, stride=5, radius=5):\n",
    "    baseline = reward_model(obs).detach().cpu().numpy()\n",
    "    scores = np.zeros((84 // stride + 1, 84 // stride + 1))\n",
    "    for i in range(0, 84, stride):\n",
    "        for j in range(0, 84, stride):\n",
    "            mask = get_mask(center=(i, j), size=(84, 84), r=radius)\n",
    "            obs_perturbed = occlude(obs, mask)\n",
    "            perturbed_reward = reward_model(obs_perturbed).detach().cpu().numpy()\n",
    "            scores[i // stride, j // stride] = 0.5 * np.abs(perturbed_reward - baseline) ** 2\n",
    "    pmax = scores.max()\n",
    "    scores = skimage.transform.resize(scores, output_shape=(210, 160))\n",
    "    scores = scores.astype(np.float32)\n",
    "#     return pmax * scores / scores.max()\n",
    "    return scores / scores.max()\n",
    "\n",
    "def add_saliency_to_frame(frame, saliency, channel=1):\n",
    "#     def saliency_on_atari_frame(saliency, atari, fudge_factor, channel=2, sigma=0):\n",
    "    # sometimes saliency maps are a bit clearer if you blur them\n",
    "    # slightly...sigma adjusts the radius of that blur\n",
    "    pmax = saliency.max()\n",
    "    I = frame.astype('uint16')\n",
    "    I[:, :, channel] += (frame.max() * saliency).astype('uint16')\n",
    "    I = I.clip(1,255).astype('uint8')\n",
    "    return I"
   ]
  },
  {
   "cell_type": "code",
   "execution_count": 5,
   "metadata": {},
   "outputs": [],
   "source": [
    "env_id = \"BreakoutNoFrameskip-v4\"\n",
    "folder = \"/home/eric/interpreting-rewards/scripts/output/regressed_exps/\"\n",
    "algo = \"ppo\"\n",
    "n_timesteps = 10000\n",
    "num_threads = -1\n",
    "n_envs = 1\n",
    "exp_id = 1\n",
    "verbose = 1\n",
    "no_render = False\n",
    "deterministic = False\n",
    "load_best = True\n",
    "load_checkpoint = None\n",
    "norm_reward = False\n",
    "seed = 0\n",
    "reward_log = ''\n",
    "env_kwargs = None"
   ]
  },
  {
   "cell_type": "code",
   "execution_count": 6,
   "metadata": {},
   "outputs": [
    {
     "name": "stdout",
     "output_type": "stream",
     "text": [
      "Stacking 4 frames\n"
     ]
    }
   ],
   "source": [
    "# Sanity checks\n",
    "if exp_id > 0:\n",
    "    log_path = os.path.join(folder, algo, '{}_{}'.format(env_id, exp_id))\n",
    "else:\n",
    "    log_path = os.path.join(folder, algo)\n",
    "    \n",
    "found = False\n",
    "for ext in ['zip']:\n",
    "    model_path = os.path.join(log_path, f'{env_id}.{ext}')\n",
    "    found = os.path.isfile(model_path)\n",
    "    if found:\n",
    "        break\n",
    "\n",
    "if load_best:\n",
    "    model_path = os.path.join(log_path, \"best_model.zip\")\n",
    "    found = os.path.isfile(model_path)\n",
    "\n",
    "if load_checkpoint is not None:\n",
    "    model_path = os.path.join(log_path, f\"rl_model_{load_checkpoint}_steps.zip\")\n",
    "    found = os.path.isfile(model_path)\n",
    "\n",
    "if not found:\n",
    "    raise ValueError(f\"No model found for {algo} on {env_id}, path: {model_path}\")\n",
    "\n",
    "if algo in ['dqn', 'ddpg', 'sac', 'td3']:\n",
    "    n_envs = 1\n",
    "\n",
    "set_random_seed(seed)\n",
    "\n",
    "if num_threads > 0:\n",
    "    if verbose > 1:\n",
    "        print(f\"Setting torch.num_threads to {num_threads}\")\n",
    "    th.set_num_threads(num_threads)\n",
    "\n",
    "is_atari = 'NoFrameskip' in env_id\n",
    "\n",
    "stats_path = os.path.join(log_path, env_id)\n",
    "hyperparams, stats_path = get_saved_hyperparams(stats_path, norm_reward=norm_reward, test_mode=True)\n",
    "env_kwargs = {} if env_kwargs is None else env_kwargs\n",
    "\n",
    "log_dir = reward_log if reward_log != '' else None\n",
    "\n",
    "env = create_test_env(env_id, n_envs=n_envs,\n",
    "                      stats_path=stats_path, seed=seed, log_dir=log_dir,\n",
    "                      should_render=not no_render,\n",
    "                      hyperparams=hyperparams,\n",
    "                      env_kwargs=env_kwargs)\n",
    "\n",
    "model = ALGOS[algo].load(model_path, env=env, device=device)\n",
    "\n",
    "obs = env.reset()"
   ]
  },
  {
   "cell_type": "code",
   "execution_count": 7,
   "metadata": {},
   "outputs": [],
   "source": [
    "rm = RewardModel(env, device)\n",
    "rm.load_state_dict(th.load(f\"../reward-models/BreakoutNoFrameskip-v4-reward_model.pt\"))\n",
    "rm = rm.to(device)"
   ]
  },
  {
   "cell_type": "code",
   "execution_count": 8,
   "metadata": {},
   "outputs": [],
   "source": [
    "random.seed(0)\n",
    "np.random.seed(0)\n",
    "th.manual_seed(0)\n",
    "th.backends.cudnn.deterministic = True\n",
    "th.backends.cudnn.benchmark = False\n",
    "\n",
    "breakout_images = []\n",
    "n = 0\n",
    "\n",
    "obs = env.reset()\n",
    "while n < 5:\n",
    "    action, _states = model.predict(obs, deterministic=False)\n",
    "    obs, reward, done, info = env.step(action)\n",
    "    if done:\n",
    "        obs = env.reset()\n",
    "    use = (reward[0] and not random.randint(0, 9)) or \\\n",
    "            (not reward[0] and not random.randint(0, 50))\n",
    "    if use:\n",
    "        n += 1\n",
    "        sal = compute_saliency_map(rm, obs)\n",
    "        screenshot = env.render(mode='rgb_array')\n",
    "        image = add_saliency_to_frame(screenshot, sal)\n",
    "        breakout_images.append(image)\n",
    "            "
   ]
  },
  {
   "cell_type": "code",
   "execution_count": 9,
   "metadata": {},
   "outputs": [],
   "source": [
    "env_id = \"SeaquestNoFrameskip-v4\"\n",
    "folder = \"/home/eric/interpreting-rewards/scripts/output/regressed_exps/\"\n",
    "algo = \"ppo\"\n",
    "n_timesteps = 10000\n",
    "num_threads = -1\n",
    "n_envs = 1\n",
    "exp_id = 1\n",
    "verbose = 1\n",
    "no_render = False\n",
    "deterministic = False\n",
    "load_best = True\n",
    "load_checkpoint = None\n",
    "norm_reward = False\n",
    "seed = 0\n",
    "reward_log = ''\n",
    "env_kwargs = None"
   ]
  },
  {
   "cell_type": "code",
   "execution_count": 10,
   "metadata": {},
   "outputs": [
    {
     "name": "stdout",
     "output_type": "stream",
     "text": [
      "Stacking 4 frames\n"
     ]
    }
   ],
   "source": [
    "# Sanity checks\n",
    "if exp_id > 0:\n",
    "    log_path = os.path.join(folder, algo, '{}_{}'.format(env_id, exp_id))\n",
    "else:\n",
    "    log_path = os.path.join(folder, algo)\n",
    "    \n",
    "found = False\n",
    "for ext in ['zip']:\n",
    "    model_path = os.path.join(log_path, f'{env_id}.{ext}')\n",
    "    found = os.path.isfile(model_path)\n",
    "    if found:\n",
    "        break\n",
    "\n",
    "if load_best:\n",
    "    model_path = os.path.join(log_path, \"best_model.zip\")\n",
    "    found = os.path.isfile(model_path)\n",
    "\n",
    "if load_checkpoint is not None:\n",
    "    model_path = os.path.join(log_path, f\"rl_model_{load_checkpoint}_steps.zip\")\n",
    "    found = os.path.isfile(model_path)\n",
    "\n",
    "if not found:\n",
    "    raise ValueError(f\"No model found for {algo} on {env_id}, path: {model_path}\")\n",
    "\n",
    "if algo in ['dqn', 'ddpg', 'sac', 'td3']:\n",
    "    n_envs = 1\n",
    "\n",
    "set_random_seed(seed)\n",
    "\n",
    "if num_threads > 0:\n",
    "    if verbose > 1:\n",
    "        print(f\"Setting torch.num_threads to {num_threads}\")\n",
    "    th.set_num_threads(num_threads)\n",
    "\n",
    "is_atari = 'NoFrameskip' in env_id\n",
    "\n",
    "stats_path = os.path.join(log_path, env_id)\n",
    "hyperparams, stats_path = get_saved_hyperparams(stats_path, norm_reward=norm_reward, test_mode=True)\n",
    "env_kwargs = {} if env_kwargs is None else env_kwargs\n",
    "\n",
    "log_dir = reward_log if reward_log != '' else None\n",
    "\n",
    "env = create_test_env(env_id, n_envs=n_envs,\n",
    "                      stats_path=stats_path, seed=seed, log_dir=log_dir,\n",
    "                      should_render=not no_render,\n",
    "                      hyperparams=hyperparams,\n",
    "                      env_kwargs=env_kwargs)\n",
    "\n",
    "model = ALGOS[algo].load(model_path, env=env, device=device)\n",
    "\n",
    "obs = env.reset()"
   ]
  },
  {
   "cell_type": "code",
   "execution_count": 11,
   "metadata": {},
   "outputs": [],
   "source": [
    "rm = RewardModel(env, device)\n",
    "rm.load_state_dict(th.load(f\"../reward-models/SeaquestNoFrameskip-v4-reward_model.pt\"))\n",
    "rm = rm.to(device)"
   ]
  },
  {
   "cell_type": "code",
   "execution_count": 12,
   "metadata": {},
   "outputs": [],
   "source": [
    "random.seed(0)\n",
    "np.random.seed(0)\n",
    "th.manual_seed(0)\n",
    "th.backends.cudnn.deterministic = True\n",
    "th.backends.cudnn.benchmark = False\n",
    "\n",
    "seaquest_images = []\n",
    "n = 0\n",
    "\n",
    "obs = env.reset()\n",
    "cumulative_reward = 0\n",
    "while n < 5:\n",
    "    action, _states = model.predict(obs, deterministic=False)\n",
    "    obs, reward, done, info = env.step(action)\n",
    "    cumulative_reward += reward\n",
    "    if done:\n",
    "        obs = env.reset()\n",
    "    use = (reward[0] and not random.randint(0, 9)) or \\\n",
    "            (not reward[0] and not random.randint(0, 50)) and cumulative_reward >= 1\n",
    "    if use:\n",
    "        n += 1\n",
    "        sal = compute_saliency_map(rm, obs)\n",
    "        screenshot = env.render(mode='rgb_array')\n",
    "        image = add_saliency_to_frame(screenshot, sal)\n",
    "        seaquest_images.append(image)\n",
    "            "
   ]
  },
  {
   "cell_type": "code",
   "execution_count": 15,
   "metadata": {},
   "outputs": [
    {
     "data": {
      "image/png": "[encoded data removed]",
      "text/plain": [
       "<Figure size 396x230.4 with 10 Axes>"
      ]
     },
     "metadata": {
      "needs_background": "light"
     },
     "output_type": "display_data"
    }
   ],
   "source": [
    "plt.figure(figsize=(5.5, 3.2))\n",
    "\n",
    "for k in range(5):\n",
    "    ax = plt.subplot(2, 5, k+1)\n",
    "    ax.imshow(breakout_images[k])\n",
    "    ax.axis('off')\n",
    "    if k == 2:\n",
    "        ax.text(0.5, -0.17, \"(a)\", size=9, ha=\"center\", weight=\"bold\", \n",
    "         transform=ax.transAxes)\n",
    "        \n",
    "for k in range(5):\n",
    "    ax = plt.subplot(2, 5, 5 + k+1)\n",
    "    ax.imshow(seaquest_images[k])\n",
    "    ax.axis('off')\n",
    "    if k == 2:\n",
    "        ax.text(0.5, -0.17, \"(b)\", size=9, ha=\"center\", weight=\"bold\", \n",
    "         transform=ax.transAxes)\n",
    "\n",
    "plt.savefig('figures/atarisaliencymaps.pdf', dpi=300)"
   ]
  },
  {
   "cell_type": "markdown",
   "metadata": {},
   "source": [
    "# timeseries plots"
   ]
  },
  {
   "cell_type": "code",
   "execution_count": 117,
   "metadata": {},
   "outputs": [],
   "source": [
    "env_id = \"BreakoutNoFrameskipNoScore-v4\"\n",
    "folder = \"/home/eric/interpreting-rewards/scripts/output/regressed_exps/\"\n",
    "algo = \"ppo\"\n",
    "n_timesteps = 10000\n",
    "num_threads = -1\n",
    "n_envs = 1\n",
    "exp_id = 1\n",
    "verbose = 1\n",
    "no_render = False\n",
    "deterministic = False\n",
    "load_best = True\n",
    "load_checkpoint = None\n",
    "norm_reward = False\n",
    "seed = 0\n",
    "reward_log = ''\n",
    "env_kwargs = None"
   ]
  },
  {
   "cell_type": "code",
   "execution_count": 11,
   "metadata": {},
   "outputs": [
    {
     "name": "stdout",
     "output_type": "stream",
     "text": [
      "Stacking 4 frames\n"
     ]
    }
   ],
   "source": [
    "# Sanity checks\n",
    "if exp_id > 0:\n",
    "    log_path = os.path.join(folder, algo, '{}_{}'.format(env_id, exp_id))\n",
    "else:\n",
    "    log_path = os.path.join(folder, algo)\n",
    "    \n",
    "found = False\n",
    "for ext in ['zip']:\n",
    "    model_path = os.path.join(log_path, f'{env_id}.{ext}')\n",
    "    found = os.path.isfile(model_path)\n",
    "    if found:\n",
    "        break\n",
    "\n",
    "if load_best:\n",
    "    model_path = os.path.join(log_path, \"best_model.zip\")\n",
    "    found = os.path.isfile(model_path)\n",
    "\n",
    "if load_checkpoint is not None:\n",
    "    model_path = os.path.join(log_path, f\"rl_model_{load_checkpoint}_steps.zip\")\n",
    "    found = os.path.isfile(model_path)\n",
    "\n",
    "if not found:\n",
    "    raise ValueError(f\"No model found for {algo} on {env_id}, path: {model_path}\")\n",
    "\n",
    "if algo in ['dqn', 'ddpg', 'sac', 'td3']:\n",
    "    n_envs = 1\n",
    "\n",
    "set_random_seed(seed)\n",
    "\n",
    "if num_threads > 0:\n",
    "    if verbose > 1:\n",
    "        print(f\"Setting torch.num_threads to {num_threads}\")\n",
    "    th.set_num_threads(num_threads)\n",
    "\n",
    "is_atari = 'NoFrameskip' in env_id\n",
    "\n",
    "stats_path = os.path.join(log_path, env_id)\n",
    "hyperparams, stats_path = get_saved_hyperparams(stats_path, norm_reward=norm_reward, test_mode=True)\n",
    "env_kwargs = {} if env_kwargs is None else env_kwargs\n",
    "\n",
    "log_dir = reward_log if reward_log != '' else None\n",
    "\n",
    "env = create_test_env(env_id, n_envs=n_envs,\n",
    "                      stats_path=stats_path, seed=seed, log_dir=log_dir,\n",
    "                      should_render=not no_render,\n",
    "                      hyperparams=hyperparams,\n",
    "                      env_kwargs=env_kwargs)\n",
    "\n",
    "model = ALGOS[algo].load(model_path, env=env, device=device)\n",
    "\n",
    "obs = env.reset()"
   ]
  },
  {
   "cell_type": "code",
   "execution_count": 12,
   "metadata": {},
   "outputs": [],
   "source": [
    "rm = RewardModel(env, device)\n",
    "rm.load_state_dict(th.load(f\"../reward-models/BreakoutNoFrameskip-v4-reward_model.pt\"))\n",
    "rm = rm.to(device)\n"
   ]
  },
  {
   "cell_type": "code",
   "execution_count": 20,
   "metadata": {},
   "outputs": [
    {
     "data": {
      "application/vnd.jupyter.widget-view+json": {
       "model_id": "72d48b30723146c39db003f84204db1b",
       "version_major": 2,
       "version_minor": 0
      },
      "text/plain": [
       "HBox(children=(FloatProgress(value=0.0, max=200.0), HTML(value='')))"
      ]
     },
     "metadata": {},
     "output_type": "display_data"
    },
    {
     "name": "stdout",
     "output_type": "stream",
     "text": [
      "\n"
     ]
    }
   ],
   "source": [
    "radius = 5\n",
    "stride = 4\n",
    "\n",
    "TIMESTEPS = 200\n",
    "\n",
    "breakout_obs = env.reset()\n",
    "breakout_rewards = []\n",
    "for i in tqdm(range(TIMESTEPS)):\n",
    "    action, _states = model.predict(breakout_obs, deterministic=False)\n",
    "    breakout_obs, reward, done, info = env.step(action)\n",
    "    if done:\n",
    "        breakout_obs = env.reset()\n",
    "    if i == TIMESTEPS - 1:\n",
    "        sal = compute_saliency_map(rm, breakout_obs)\n",
    "        screenshot = env.render(mode='rgb_array')\n",
    "        breakout_image = add_saliency_to_frame(screenshot, sal)\n",
    "    breakout_rewards.append(rm(breakout_obs).item())"
   ]
  },
  {
   "cell_type": "code",
   "execution_count": 21,
   "metadata": {},
   "outputs": [],
   "source": [
    "env_id = \"SeaquestNoFrameskipNoScore-v4\"\n",
    "folder = \"/home/eric/interpreting-rewards/scripts/output/regressed_exps/\"\n",
    "algo = \"ppo\"\n",
    "n_timesteps = 10000\n",
    "num_threads = -1\n",
    "n_envs = 1\n",
    "exp_id = 1\n",
    "verbose = 1\n",
    "no_render = False\n",
    "deterministic = False\n",
    "load_best = True\n",
    "load_checkpoint = None\n",
    "norm_reward = False\n",
    "seed = 0\n",
    "reward_log = ''\n",
    "env_kwargs = None"
   ]
  },
  {
   "cell_type": "code",
   "execution_count": 22,
   "metadata": {},
   "outputs": [
    {
     "name": "stdout",
     "output_type": "stream",
     "text": [
      "Stacking 4 frames\n"
     ]
    }
   ],
   "source": [
    "# Sanity checks\n",
    "if exp_id > 0:\n",
    "    log_path = os.path.join(folder, algo, '{}_{}'.format(env_id, exp_id))\n",
    "else:\n",
    "    log_path = os.path.join(folder, algo)\n",
    "    \n",
    "found = False\n",
    "for ext in ['zip']:\n",
    "    model_path = os.path.join(log_path, f'{env_id}.{ext}')\n",
    "    found = os.path.isfile(model_path)\n",
    "    if found:\n",
    "        break\n",
    "\n",
    "if load_best:\n",
    "    model_path = os.path.join(log_path, \"best_model.zip\")\n",
    "    found = os.path.isfile(model_path)\n",
    "\n",
    "if load_checkpoint is not None:\n",
    "    model_path = os.path.join(log_path, f\"rl_model_{load_checkpoint}_steps.zip\")\n",
    "    found = os.path.isfile(model_path)\n",
    "\n",
    "if not found:\n",
    "    raise ValueError(f\"No model found for {algo} on {env_id}, path: {model_path}\")\n",
    "\n",
    "if algo in ['dqn', 'ddpg', 'sac', 'td3']:\n",
    "    n_envs = 1\n",
    "\n",
    "set_random_seed(seed)\n",
    "\n",
    "if num_threads > 0:\n",
    "    if verbose > 1:\n",
    "        print(f\"Setting torch.num_threads to {num_threads}\")\n",
    "    th.set_num_threads(num_threads)\n",
    "\n",
    "is_atari = 'NoFrameskip' in env_id\n",
    "\n",
    "stats_path = os.path.join(log_path, env_id)\n",
    "hyperparams, stats_path = get_saved_hyperparams(stats_path, norm_reward=norm_reward, test_mode=True)\n",
    "env_kwargs = {} if env_kwargs is None else env_kwargs\n",
    "\n",
    "log_dir = reward_log if reward_log != '' else None\n",
    "\n",
    "env = create_test_env(env_id, n_envs=n_envs,\n",
    "                      stats_path=stats_path, seed=seed, log_dir=log_dir,\n",
    "                      should_render=not no_render,\n",
    "                      hyperparams=hyperparams,\n",
    "                      env_kwargs=env_kwargs)\n",
    "\n",
    "model = ALGOS[algo].load(model_path, env=env, device=device)\n",
    "\n",
    "obs = env.reset()"
   ]
  },
  {
   "cell_type": "code",
   "execution_count": 23,
   "metadata": {},
   "outputs": [],
   "source": [
    "rm = RewardModel(env, device)\n",
    "rm.load_state_dict(th.load(f\"../reward-models/SeaquestNoFrameskip-v4-reward_model.pt\"))\n",
    "rm = rm.to(device)"
   ]
  },
  {
   "cell_type": "code",
   "execution_count": 24,
   "metadata": {},
   "outputs": [
    {
     "data": {
      "application/vnd.jupyter.widget-view+json": {
       "model_id": "f2ab43304c5a4451ba4bb614007b0781",
       "version_major": 2,
       "version_minor": 0
      },
      "text/plain": [
       "HBox(children=(FloatProgress(value=0.0, max=200.0), HTML(value='')))"
      ]
     },
     "metadata": {},
     "output_type": "display_data"
    },
    {
     "name": "stdout",
     "output_type": "stream",
     "text": [
      "\n"
     ]
    }
   ],
   "source": [
    "radius = 5\n",
    "stride = 4\n",
    "\n",
    "TIMESTEPS = 200\n",
    "\n",
    "seaquest_obs = env.reset()\n",
    "seaquest_rewards = []\n",
    "for i in tqdm(range(TIMESTEPS)):\n",
    "    action, _states = model.predict(seaquest_obs, deterministic=False)\n",
    "    seaquest_obs, reward, done, info = env.step(action)\n",
    "    if done:\n",
    "        seaquest_obs = env.reset()\n",
    "    if i == TIMESTEPS - 1:\n",
    "        sal = compute_saliency_map(rm, seaquest_obs)\n",
    "        screenshot = env.render(mode='rgb_array')\n",
    "        seaquest_image = add_saliency_to_frame(screenshot, sal)\n",
    "    seaquest_rewards.append(rm(seaquest_obs).item())"
   ]
  },
  {
   "cell_type": "code",
   "execution_count": 136,
   "metadata": {},
   "outputs": [
    {
     "data": {
      "image/png": "[encoded data removed]",
      "text/plain": [
       "<Figure size 396x144 with 4 Axes>"
      ]
     },
     "metadata": {
      "needs_background": "light"
     },
     "output_type": "display_data"
    }
   ],
   "source": [
    "fig, (ax2, ax1, ax4, ax3) = plt.subplots(1, 4, figsize=(5.5, 2), gridspec_kw={'width_ratios': [1, 1, 1, 1]})\n",
    "\n",
    "ax1.plot(list(range(100, 200)), breakout_rewards[100:])\n",
    "ax1.set_ylim(0, 1)\n",
    "ax1.set_xlabel('Time step', fontsize=9, fontfamily='Serif')\n",
    "ax1.set_ylabel('Reward', fontsize=7, fontfamily='Serif')\n",
    "ax1.set_xticklabels([None, 100, 200], fontsize=7, fontfamily='Serif')\n",
    "ax1.set_yticklabels([0, None, 0.5, None, 1.0], fontsize=7, fontfamily='Serif')\n",
    "\n",
    "ax2.imshow(breakout_image)\n",
    "ax2.axis('off')\n",
    "ax2.set_title(\"s'\", fontsize=9, fontfamily='Serif')\n",
    "\n",
    "asp = np.diff(ax1.get_xlim())[0] / np.diff(ax1.get_ylim())[0]\n",
    "asp /= np.abs(np.diff(ax2.get_xlim())[0] / np.diff(ax2.get_ylim())[0])\n",
    "ax1.set_aspect(asp)\n",
    "ax1.text(-0.33, -0.45, \"(a) Breakout\", size=9, ha=\"center\", weight=\"bold\", fontfamily='Serif', \n",
    "         transform=ax1.transAxes)\n",
    "ax1.yaxis.labelpad=-1\n",
    "\n",
    "ax3.plot(list(range(100, 200)), seaquest_rewards[100:])\n",
    "ax3.set_ylim(0, 1)\n",
    "ax3.set_xlabel('Time step', fontsize=9, fontfamily='Serif')\n",
    "ax3.set_ylabel('Reward', fontsize=7, fontfamily='Serif')\n",
    "ax3.set_xticklabels([None, 100, 200], fontsize=7, fontfamily='Serif')\n",
    "ax3.set_yticklabels([0, None, 0.5, None, 1.0], fontsize=7, fontfamily='Serif')\n",
    "\n",
    "ax4.imshow(seaquest_image)\n",
    "ax4.axis('off')\n",
    "ax4.set_title(\"s'\", fontsize=9, fontfamily='Serif')\n",
    "\n",
    "asp = np.diff(ax3.get_xlim())[0] / np.diff(ax3.get_ylim())[0]\n",
    "asp /= np.abs(np.diff(ax4.get_xlim())[0] / np.diff(ax4.get_ylim())[0])\n",
    "ax3.set_aspect(asp)\n",
    "ax3.text(-0.33, -0.45, \"(b) Seaquest\", size=9, ha=\"center\", weight=\"bold\", fontfamily='Serif', \n",
    "         transform=ax3.transAxes)\n",
    "ax3.yaxis.labelpad=-1\n",
    "\n",
    "plt.subplots_adjust(wspace=0.6, top=0.99, bottom=0.17, left=0.05, right=0.95)\n",
    "\n",
    "plt.savefig('figures/atari-noscore-timeseries.pdf', dpi=300)"
   ]
  },
  {
   "cell_type": "code",
   "execution_count": null,
   "metadata": {},
   "outputs": [],
   "source": []
  },
  {
   "cell_type": "code",
   "execution_count": null,
   "metadata": {},
   "outputs": [],
   "source": []
  },
  {
   "cell_type": "code",
   "execution_count": null,
   "metadata": {},
   "outputs": [],
   "source": []
  }
 ],
 "metadata": {
  "kernelspec": {
   "display_name": "Python 3",
   "language": "python",
   "name": "python3"
  },
  "language_info": {
   "codemirror_mode": {
    "name": "ipython",
    "version": 3
   },
   "file_extension": ".py",
   "mimetype": "text/x-python",
   "name": "python",
   "nbconvert_exporter": "python",
   "pygments_lexer": "ipython3",
   "version": "3.7.7"
  }
 },
 "nbformat": 4,
 "nbformat_minor": 4
}
