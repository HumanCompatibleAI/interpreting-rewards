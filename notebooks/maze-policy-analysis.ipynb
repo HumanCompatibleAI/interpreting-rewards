{
 "cells": [
  {
   "cell_type": "code",
   "execution_count": 1,
   "metadata": {},
   "outputs": [
    {
     "name": "stderr",
     "output_type": "stream",
     "text": [
      "/home/eric/Code/miniconda3/envs/interp/lib/python3.7/site-packages/tensorboard/compat/tensorflow_stub/dtypes.py:541: FutureWarning: Passing (type, 1) or '1type' as a synonym of type is deprecated; in a future version of numpy, it will be understood as (type, (1,)) / '(1,)type'.\n",
      "  _np_qint8 = np.dtype([(\"qint8\", np.int8, 1)])\n",
      "/home/eric/Code/miniconda3/envs/interp/lib/python3.7/site-packages/tensorboard/compat/tensorflow_stub/dtypes.py:542: FutureWarning: Passing (type, 1) or '1type' as a synonym of type is deprecated; in a future version of numpy, it will be understood as (type, (1,)) / '(1,)type'.\n",
      "  _np_quint8 = np.dtype([(\"quint8\", np.uint8, 1)])\n",
      "/home/eric/Code/miniconda3/envs/interp/lib/python3.7/site-packages/tensorboard/compat/tensorflow_stub/dtypes.py:543: FutureWarning: Passing (type, 1) or '1type' as a synonym of type is deprecated; in a future version of numpy, it will be understood as (type, (1,)) / '(1,)type'.\n",
      "  _np_qint16 = np.dtype([(\"qint16\", np.int16, 1)])\n",
      "/home/eric/Code/miniconda3/envs/interp/lib/python3.7/site-packages/tensorboard/compat/tensorflow_stub/dtypes.py:544: FutureWarning: Passing (type, 1) or '1type' as a synonym of type is deprecated; in a future version of numpy, it will be understood as (type, (1,)) / '(1,)type'.\n",
      "  _np_quint16 = np.dtype([(\"quint16\", np.uint16, 1)])\n",
      "/home/eric/Code/miniconda3/envs/interp/lib/python3.7/site-packages/tensorboard/compat/tensorflow_stub/dtypes.py:545: FutureWarning: Passing (type, 1) or '1type' as a synonym of type is deprecated; in a future version of numpy, it will be understood as (type, (1,)) / '(1,)type'.\n",
      "  _np_qint32 = np.dtype([(\"qint32\", np.int32, 1)])\n",
      "/home/eric/Code/miniconda3/envs/interp/lib/python3.7/site-packages/tensorboard/compat/tensorflow_stub/dtypes.py:550: FutureWarning: Passing (type, 1) or '1type' as a synonym of type is deprecated; in a future version of numpy, it will be understood as (type, (1,)) / '(1,)type'.\n",
      "  np_resource = np.dtype([(\"resource\", np.ubyte, 1)])\n"
     ]
    }
   ],
   "source": [
    "import os\n",
    "import sys\n",
    "import importlib\n",
    "from pathlib import Path\n",
    "from itertools import product\n",
    "import h5py\n",
    "\n",
    "import gym\n",
    "import numpy as np\n",
    "import matplotlib\n",
    "import matplotlib.cm\n",
    "import matplotlib.pyplot as plt\n",
    "import scipy.ndimage\n",
    "import skimage.transform\n",
    "import torch as th\n",
    "import torch.nn as nn\n",
    "\n",
    "from tqdm.auto import tqdm\n",
    "\n",
    "from stable_baselines3.common.utils import set_random_seed\n",
    "from stable_baselines3.common.vec_env import VecEnvWrapper, VecEnv, DummyVecEnv\n",
    "from stable_baselines3.common.vec_env import VecTransposeImage\n",
    "\n",
    "import mazelab\n",
    "\n",
    "sys.path.insert(1, \"../rl-baselines3-zoo\")\n",
    "import utils.import_envs  # noqa: F401 pylint: disable=unused-import\n",
    "from utils.utils import StoreDict\n",
    "from utils import ALGOS, create_test_env, get_latest_run_id, get_saved_hyperparams"
   ]
  },
  {
   "cell_type": "code",
   "execution_count": 2,
   "metadata": {},
   "outputs": [
    {
     "name": "stdout",
     "output_type": "stream",
     "text": [
      "Using device: cuda\n"
     ]
    }
   ],
   "source": [
    "########### Set Device ############\n",
    "device = th.device('cuda' if th.cuda.is_available() else 'cpu')\n",
    "dtype = th.float32\n",
    "th.set_default_dtype(dtype)\n",
    "print(\"Using device: {}\".format(device))"
   ]
  },
  {
   "cell_type": "code",
   "execution_count": 5,
   "metadata": {},
   "outputs": [],
   "source": [
    "env = gym.make('Maze-15x15-FixedGoal-v0')"
   ]
  },
  {
   "cell_type": "code",
   "execution_count": 6,
   "metadata": {},
   "outputs": [
    {
     "data": {
      "text/plain": [
       "<matplotlib.image.AxesImage at 0x7f7af8f941d0>"
      ]
     },
     "execution_count": 6,
     "metadata": {},
     "output_type": "execute_result"
    },
    {
     "data": {
      "image/png": "[encoded data removed]",
      "text/plain": [
       "<Figure size 432x288 with 1 Axes>"
      ]
     },
     "metadata": {
      "needs_background": "light"
     },
     "output_type": "display_data"
    }
   ],
   "source": [
    "plt.imshow(env.reset())"
   ]
  },
  {
   "cell_type": "code",
   "execution_count": 8,
   "metadata": {},
   "outputs": [],
   "source": [
    "model = ALGOS['ppo'].load('../agents/ppo/Maze-15x15-FixedGoal-v0_1/Maze-15x15-FixedGoal-v0.zip')"
   ]
  },
  {
   "cell_type": "code",
   "execution_count": 110,
   "metadata": {},
   "outputs": [],
   "source": [
    "def create_circular_mask(h, w, center, radius=5):\n",
    "    Y, X = np.ogrid[:h, :w]\n",
    "    dist_from_center = np.sqrt((X - center[1])**2 + (Y-center[0])**2)\n",
    "    mask = dist_from_center <= radius\n",
    "    return np.array(mask, dtype=np.float32)\n",
    "\n",
    "def max_k(k, iterator, key=lambda x: x):\n",
    "    items = [None for _ in range(k)]\n",
    "    values = [-float('inf') for _ in range(k)]\n",
    "    for item in iterator:\n",
    "        val = key(item)\n",
    "        for i in range(k):\n",
    "            if val > values[i]:\n",
    "                items.insert(i, item)\n",
    "                items.pop()\n",
    "                values.insert(i, val)\n",
    "                values.pop()\n",
    "                break\n",
    "    return items\n",
    "\n",
    "def max_k_and_values(k, iterator, key=lambda x: x):\n",
    "    items = [None for _ in range(k)]\n",
    "    values = [-float('inf') for _ in range(k)]\n",
    "    for item in iterator:\n",
    "        val = key(item)\n",
    "        for i in range(k):\n",
    "            if val > values[i]:\n",
    "                items.insert(i, item)\n",
    "                items.pop()\n",
    "                values.insert(i, val)\n",
    "                values.pop()\n",
    "                break\n",
    "    return list(zip(items, values))\n",
    "\n",
    "loss_fn = th.nn.MSELoss()\n",
    "def policy_saliency(model, obs, loc, radius=2, device='cuda'):\n",
    "    obs = np.copy(obs).astype(np.float32)\n",
    "    latent, _, _ = model.policy._get_latent(th.from_numpy(obs.reshape((1, -1))).to(device))\n",
    "    baseline = model.policy.action_net(latent)\n",
    "    M = create_circular_mask(15, 15, center=loc, radius=radius)\n",
    "    A = scipy.ndimage.gaussian_filter(obs, 1)\n",
    "    obs = obs*(1 - M) + A*M\n",
    "    latent, _, _ = model.policy._get_latent(th.from_numpy(obs.reshape((1, -1))).to(device))\n",
    "    modified = model.policy.action_net(latent)\n",
    "    return loss_fn(baseline, modified).item()"
   ]
  },
  {
   "cell_type": "code",
   "execution_count": 128,
   "metadata": {},
   "outputs": [],
   "source": [
    "obs = env.reset().astype(np.float32)"
   ]
  },
  {
   "cell_type": "code",
   "execution_count": 129,
   "metadata": {},
   "outputs": [
    {
     "data": {
      "text/plain": [
       "<matplotlib.image.AxesImage at 0x7f7acae95d50>"
      ]
     },
     "execution_count": 129,
     "metadata": {},
     "output_type": "execute_result"
    },
    {
     "data": {
      "image/png": "[encoded data removed]",
      "text/plain": [
       "<Figure size 432x288 with 1 Axes>"
      ]
     },
     "metadata": {
      "needs_background": "light"
     },
     "output_type": "display_data"
    }
   ],
   "source": [
    "plt.imshow(obs)"
   ]
  },
  {
   "cell_type": "code",
   "execution_count": 130,
   "metadata": {},
   "outputs": [],
   "source": [
    "b = scipy.ndimage.gaussian_filter(obs, 1)"
   ]
  },
  {
   "cell_type": "code",
   "execution_count": 131,
   "metadata": {},
   "outputs": [
    {
     "data": {
      "text/plain": [
       "<matplotlib.image.AxesImage at 0x7f7acb746910>"
      ]
     },
     "execution_count": 131,
     "metadata": {},
     "output_type": "execute_result"
    },
    {
     "data": {
      "image/png": "[encoded data removed]",
      "text/plain": [
       "<Figure size 432x288 with 1 Axes>"
      ]
     },
     "metadata": {
      "needs_background": "light"
     },
     "output_type": "display_data"
    }
   ],
   "source": [
    "plt.imshow(b)"
   ]
  },
  {
   "cell_type": "code",
   "execution_count": 132,
   "metadata": {},
   "outputs": [
    {
     "data": {
      "text/plain": [
       "<matplotlib.image.AxesImage at 0x7f7acb0e57d0>"
      ]
     },
     "execution_count": 132,
     "metadata": {},
     "output_type": "execute_result"
    },
    {
     "data": {
      "image/png": "[encoded data removed]",
      "text/plain": [
       "<Figure size 432x288 with 1 Axes>"
      ]
     },
     "metadata": {
      "needs_background": "light"
     },
     "output_type": "display_data"
    }
   ],
   "source": [
    "plt.imshow(scipy.ndimage.gaussian_filter(obs, 2))"
   ]
  },
  {
   "cell_type": "code",
   "execution_count": 136,
   "metadata": {},
   "outputs": [
    {
     "data": {
      "text/plain": [
       "<matplotlib.image.AxesImage at 0x7f7aca88e2d0>"
      ]
     },
     "execution_count": 136,
     "metadata": {},
     "output_type": "execute_result"
    },
    {
     "data": {
      "image/png": "[encoded data removed]",
      "text/plain": [
       "<Figure size 432x288 with 1 Axes>"
      ]
     },
     "metadata": {
      "needs_background": "light"
     },
     "output_type": "display_data"
    }
   ],
   "source": [
    "obs = env.reset().astype(np.float32)\n",
    "plt.imshow(obs)"
   ]
  },
  {
   "cell_type": "code",
   "execution_count": 174,
   "metadata": {},
   "outputs": [
    {
     "data": {
      "text/plain": [
       "Text(0.5, 1.0, 'saliency')"
      ]
     },
     "execution_count": 174,
     "metadata": {},
     "output_type": "execute_result"
    },
    {
     "data": {
      "image/png": "[encoded data removed]",
      "text/plain": [
       "<Figure size 432x288 with 2 Axes>"
      ]
     },
     "metadata": {
      "needs_background": "light"
     },
     "output_type": "display_data"
    }
   ],
   "source": [
    "radius = 0\n",
    "stride = 1\n",
    "\n",
    "pairs = max_k_and_values(25, product(range(0, 15, stride), range(0, 15, stride)), key=lambda e: policy_saliency(model, obs, e, radius=radius))\n",
    "max_value = pairs[0][1]\n",
    "\n",
    "screenshot = np.zeros((15, 15, 3))\n",
    "screenshot[:, :, 0] = obs\n",
    "screenshot[:, :, 1] = obs\n",
    "screenshot[:, :, 2] = obs\n",
    "screenshot = screenshot / screenshot.max()\n",
    "\n",
    "for loc, value in pairs:\n",
    "    r, g, b, a = matplotlib.cm.hot(value / max_value)\n",
    "    region = create_circular_mask(15, 15, center=loc, radius=radius)\n",
    "    mask = np.zeros((15, 15, 3))\n",
    "    mask[:, :, 0] = region\n",
    "    mask[:, :, 1] = region\n",
    "    mask[:, :, 2] = region\n",
    "    spot = np.zeros((15, 15, 3))\n",
    "    spot[:, :, 0] = r * region\n",
    "    spot[:, :, 1] = g * region\n",
    "    spot[:, :, 2] = b * region\n",
    "    spot = spot * a\n",
    "    spot = spot / spot.max()\n",
    "    screenshot = screenshot * (1 - mask) + (spot * mask)\n",
    "# screenshot = spot / spot.max()\n",
    "\n",
    "# screenshot /= screenshot.max()\n",
    "plt.subplot(1, 2, 1)\n",
    "plt.imshow(obs)\n",
    "plt.title(\"obs\")\n",
    "plt.subplot(1, 2, 2)\n",
    "plt.imshow(screenshot)\n",
    "plt.title(\"saliency\")"
   ]
  },
  {
   "cell_type": "code",
   "execution_count": 164,
   "metadata": {},
   "outputs": [
    {
     "data": {
      "text/plain": [
       "1.6666666666666665"
      ]
     },
     "execution_count": 164,
     "metadata": {},
     "output_type": "execute_result"
    }
   ],
   "source": [
    "screenshot.max()"
   ]
  },
  {
   "cell_type": "code",
   "execution_count": 152,
   "metadata": {},
   "outputs": [],
   "source": [
    "matplotlib.use(\"Agg\")\n",
    "import matplotlib.animation as manimation"
   ]
  },
  {
   "cell_type": "code",
   "execution_count": 179,
   "metadata": {},
   "outputs": [
    {
     "data": {
      "application/vnd.jupyter.widget-view+json": {
       "model_id": "88b54afddd6649fba8debd8a66fd914d",
       "version_major": 2,
       "version_minor": 0
      },
      "text/plain": [
       "HBox(children=(FloatProgress(value=0.0, max=200.0), HTML(value='')))"
      ]
     },
     "metadata": {},
     "output_type": "display_data"
    },
    {
     "name": "stdout",
     "output_type": "stream",
     "text": [
      "\n"
     ]
    },
    {
     "data": {
      "image/png": "[encoded data removed]",
      "text/plain": [
       "<Figure size 432x288 with 2 Axes>"
      ]
     },
     "metadata": {
      "needs_background": "light"
     },
     "output_type": "display_data"
    }
   ],
   "source": [
    "radius = 0\n",
    "stride = 1\n",
    "\n",
    "TIMESTEPS = 200\n",
    "\n",
    "FFMpegWriter = manimation.writers['ffmpeg']\n",
    "metadata = dict(title=f\"Maze15x15 Policy Saliency Map\", artist='Matplotlib',\n",
    "                comment='Movie support!')\n",
    "writer = FFMpegWriter(fps=8, metadata=metadata)\n",
    "\n",
    "fig, (ax1, ax2) = plt.subplots(1, 2)\n",
    "\n",
    "obs = env.reset()\n",
    "imshow1 = ax1.imshow(obs)\n",
    "imshow2 = ax2.imshow(np.zeros((15, 15, 3)))\n",
    "ax1.set_title(\"obs\")\n",
    "ax2.set_title(\"saliency\")\n",
    "with writer.saving(fig, \"../videos/maze/maze15x15_policy_saliency_hot.mp4\", dpi=200):\n",
    "    for i in tqdm(range(TIMESTEPS)):\n",
    "        action, _states = model.predict(obs, deterministic=False)\n",
    "        obs, reward, done, info = env.step(action)\n",
    "        if done:\n",
    "            env.reset()\n",
    "            \n",
    "        pairs = max_k_and_values(25, product(range(0, 15, stride), range(0, 15, stride)), key=lambda e: policy_saliency(model, obs, e, radius=radius))\n",
    "        max_value = pairs[0][1]\n",
    "        \n",
    "        screenshot = np.zeros((15, 15, 3))\n",
    "        screenshot[:, :, 0] = obs\n",
    "        screenshot[:, :, 1] = obs\n",
    "        screenshot[:, :, 2] = obs\n",
    "        screenshot = screenshot / screenshot.max()\n",
    "        \n",
    "        for loc, value in pairs:\n",
    "            r, g, b, a = matplotlib.cm.hot(value / max_value)\n",
    "            region = create_circular_mask(15, 15, center=loc, radius=radius)\n",
    "            mask = np.zeros((15, 15, 3))\n",
    "            mask[:, :, 0] = region\n",
    "            mask[:, :, 1] = region\n",
    "            mask[:, :, 2] = region\n",
    "            spot = np.zeros((15, 15, 3))\n",
    "            spot[:, :, 0] = r * region\n",
    "            spot[:, :, 1] = g * region\n",
    "            spot[:, :, 2] = b * region\n",
    "            spot = spot * a\n",
    "            spot = spot / spot.max()\n",
    "            screenshot = screenshot * (1 - mask) + (spot * mask)\n",
    "        imshow1.set_data(obs)\n",
    "        imshow2.set_data(screenshot)\n",
    "        writer.grab_frame()"
   ]
  },
  {
   "cell_type": "markdown",
   "metadata": {},
   "source": [
    "## Todo: experiment with saliency a bit more"
   ]
  },
  {
   "cell_type": "markdown",
   "metadata": {},
   "source": [
    "# Let's see about using the gradient for saliency"
   ]
  },
  {
   "cell_type": "code",
   "execution_count": 218,
   "metadata": {},
   "outputs": [],
   "source": [
    "obs = env.reset()"
   ]
  },
  {
   "cell_type": "code",
   "execution_count": 219,
   "metadata": {},
   "outputs": [
    {
     "data": {
      "text/plain": [
       "<matplotlib.image.AxesImage at 0x7f7ac865c310>"
      ]
     },
     "execution_count": 219,
     "metadata": {},
     "output_type": "execute_result"
    },
    {
     "data": {
      "image/png": "[encoded data removed]",
      "text/plain": [
       "<Figure size 432x288 with 1 Axes>"
      ]
     },
     "metadata": {
      "needs_background": "light"
     },
     "output_type": "display_data"
    }
   ],
   "source": [
    "plt.imshow(obs)"
   ]
  },
  {
   "cell_type": "code",
   "execution_count": 13,
   "metadata": {},
   "outputs": [],
   "source": [
    "action_to_direction = {\n",
    "    0: \"⬆\",\n",
    "    1: \"⬇\",\n",
    "    2: \"⬅\",\n",
    "    3: \"➡\"\n",
    "}"
   ]
  },
  {
   "cell_type": "code",
   "execution_count": 252,
   "metadata": {},
   "outputs": [
    {
     "data": {
      "image/png": "[encoded data removed]",
      "text/plain": [
       "<Figure size 720x720 with 4 Axes>"
      ]
     },
     "metadata": {
      "needs_background": "light"
     },
     "output_type": "display_data"
    }
   ],
   "source": [
    "plt.figure(figsize=(10, 10))\n",
    "for k in range(4):\n",
    "    obs_t = th.tensor(obs).to(device).to(dtype).reshape((1, 225))\n",
    "    obs_t.requires_grad = True\n",
    "\n",
    "    policy_latent, value_latent = model.policy.mlp_extractor(obs_t)\n",
    "    model.policy.action_net(policy_latent)[0][k].backward()\n",
    "    gradients = obs_t.grad.cpu().detach().numpy().reshape((15, 15))\n",
    "\n",
    "    plt.subplot(1, 4, k+1)\n",
    "    plt.title(f\"Logit for {action_to_direction[k]}\")\n",
    "    plt.imshow(np.abs(gradients))"
   ]
  },
  {
   "cell_type": "code",
   "execution_count": 251,
   "metadata": {},
   "outputs": [],
   "source": [
    "matplotlib.use(\"Agg\")\n",
    "import matplotlib.animation as manimation"
   ]
  },
  {
   "cell_type": "code",
   "execution_count": 298,
   "metadata": {},
   "outputs": [
    {
     "data": {
      "application/vnd.jupyter.widget-view+json": {
       "model_id": "5f2757b37df8422fb8d7634ac25c57a0",
       "version_major": 2,
       "version_minor": 0
      },
      "text/plain": [
       "HBox(children=(FloatProgress(value=0.0, max=300.0), HTML(value='')))"
      ]
     },
     "metadata": {},
     "output_type": "display_data"
    },
    {
     "name": "stdout",
     "output_type": "stream",
     "text": [
      "\n"
     ]
    },
    {
     "data": {
      "image/png": "[encoded data removed]",
      "text/plain": [
       "<Figure size 864x216 with 5 Axes>"
      ]
     },
     "metadata": {
      "needs_background": "light"
     },
     "output_type": "display_data"
    }
   ],
   "source": [
    "radius = 5\n",
    "stride = 4\n",
    "\n",
    "TIMESTEPS = 300\n",
    "\n",
    "FFMpegWriter = manimation.writers['ffmpeg']\n",
    "metadata = dict(title=f\"Maze Policy Saliency Map\", artist='Matplotlib',\n",
    "                comment='Movie support!')\n",
    "writer = FFMpegWriter(fps=10, metadata=metadata)\n",
    "\n",
    "fig, (game, ax1, ax2, ax3, ax4) = plt.subplots(1, 5, figsize=(12, 3))\n",
    "\n",
    "obs = env.reset()\n",
    "game_imshow = game.imshow(obs)\n",
    "\n",
    "logit_axes = [ax1, ax2, ax3, ax4]\n",
    "for i, ax in enumerate(logit_axes):\n",
    "    ax.set_title(f\"Logit for {action_to_direction[i]}\")\n",
    "logit_imshows = [ax.imshow(obs) for ax in logit_axes]\n",
    "\n",
    "with writer.saving(fig, \"../videos/maze/maze_policy_saliency_gradients.mp4\", dpi=200):\n",
    "    for i in tqdm(range(TIMESTEPS)):\n",
    "        action, _states = model.predict(obs, deterministic=False)\n",
    "        obs, reward, done, info = env.step(action)\n",
    "        if done:\n",
    "            env.reset()\n",
    "        \n",
    "        game_imshow.set_data(obs)\n",
    "        \n",
    "        for k in range(4):\n",
    "            obs_t = th.tensor(obs).to(device).to(dtype).reshape((1, 225))\n",
    "            obs_t.requires_grad = True\n",
    "            policy_latent, value_latent = model.policy.mlp_extractor(obs_t)\n",
    "            model.policy.action_net(policy_latent)[0][k].backward()\n",
    "            gradients = obs_t.grad.cpu().detach().numpy().reshape((15, 15))\n",
    "            gradients = np.abs(gradients)\n",
    "            logit_imshows[k].set_data(gradients)\n",
    "            logit_imshows[k].set_clim(gradients.min(), gradients.max())\n",
    "        writer.grab_frame()\n",
    "plt.subplots_adjust(hspace=0.5)"
   ]
  },
  {
   "cell_type": "code",
   "execution_count": 14,
   "metadata": {},
   "outputs": [],
   "source": [
    "def get_logits(obs_t: th.Tensor, model):\n",
    "    policy_latent, value_latent = model.policy.mlp_extractor(obs_t)\n",
    "    return model.policy.action_net(policy_latent)[0]\n",
    "\n",
    "def get_grad(obs, model, k=0):\n",
    "    obs_t = th.tensor(obs).to(device).to(dtype).reshape((1, 225))\n",
    "    obs_t.requires_grad = True\n",
    "    logits = get_logits(obs_t, model)\n",
    "    logits[k].backward()\n",
    "    gradients = obs_t.grad.cpu().detach().numpy().reshape((15, 15))\n",
    "    return gradients\n",
    "\n",
    "def int_grad(obs, model, k=0, dalpha=0.05, baseline=np.zeros((15, 15))):\n",
    "    obs_scaled = [obs * alpha for alpha in np.arange(0, 1, dalpha)]\n",
    "    s = sum([get_grad(obs, model, k=k) for obs in obs_scaled]) * dalpha\n",
    "    IG = (obs - baseline) * s\n",
    "    return IG"
   ]
  },
  {
   "cell_type": "code",
   "execution_count": 318,
   "metadata": {},
   "outputs": [
    {
     "data": {
      "text/plain": [
       "[6.742468771291897,\n",
       " -1.3234350974817062,\n",
       " -1.9689153605140746,\n",
       " -4.804497248958796]"
      ]
     },
     "execution_count": 318,
     "metadata": {},
     "output_type": "execute_result"
    }
   ],
   "source": [
    "[int_grad(obs, model, k=k, dalpha=0.01).sum() for k in range(4)]"
   ]
  },
  {
   "cell_type": "code",
   "execution_count": 314,
   "metadata": {},
   "outputs": [
    {
     "name": "stdout",
     "output_type": "stream",
     "text": [
      "tensor([ 6.6521, -1.5971, -1.8139, -4.4553], device='cuda:0')\n"
     ]
    }
   ],
   "source": [
    "with th.no_grad():\n",
    "    obs_t = th.tensor(obs).to(device).to(dtype).reshape((1, 225))\n",
    "    baseline_t = th.tensor(np.zeros((15, 15))).to(device).to(dtype).reshape((1, 225))\n",
    "    print(get_logits(obs_t, model) - get_logits(baseline_t, model))"
   ]
  },
  {
   "cell_type": "markdown",
   "metadata": {},
   "source": [
    "### Okay we're passing the sanity check for integrated gradients now!:\n",
    "\n",
    "$$ \\sum_i IG_i(x) = F(x) - F(x'))$$"
   ]
  },
  {
   "cell_type": "code",
   "execution_count": 327,
   "metadata": {},
   "outputs": [
    {
     "data": {
      "text/plain": [
       "<matplotlib.image.AxesImage at 0x7f7ac3474f10>"
      ]
     },
     "execution_count": 327,
     "metadata": {},
     "output_type": "execute_result"
    },
    {
     "data": {
      "image/png": "[encoded data removed]",
      "text/plain": [
       "<Figure size 432x288 with 1 Axes>"
      ]
     },
     "metadata": {
      "needs_background": "light"
     },
     "output_type": "display_data"
    }
   ],
   "source": [
    "plt.imshow(int_grad(obs, model, k=0, dalpha=0.01))"
   ]
  },
  {
   "cell_type": "code",
   "execution_count": 328,
   "metadata": {},
   "outputs": [
    {
     "data": {
      "application/vnd.jupyter.widget-view+json": {
       "model_id": "b3ee6c704c434f099c3c479dc14b251b",
       "version_major": 2,
       "version_minor": 0
      },
      "text/plain": [
       "HBox(children=(FloatProgress(value=0.0, max=300.0), HTML(value='')))"
      ]
     },
     "metadata": {},
     "output_type": "display_data"
    },
    {
     "name": "stdout",
     "output_type": "stream",
     "text": [
      "\n"
     ]
    },
    {
     "data": {
      "image/png": "[encoded data removed]",
      "text/plain": [
       "<Figure size 864x216 with 5 Axes>"
      ]
     },
     "metadata": {
      "needs_background": "light"
     },
     "output_type": "display_data"
    }
   ],
   "source": [
    "radius = 5\n",
    "stride = 4\n",
    "\n",
    "TIMESTEPS = 300\n",
    "\n",
    "FFMpegWriter = manimation.writers['ffmpeg']\n",
    "metadata = dict(title=f\"Maze Policy Saliency Map\", artist='Matplotlib',\n",
    "                comment='Movie support!')\n",
    "writer = FFMpegWriter(fps=10, metadata=metadata)\n",
    "\n",
    "fig, (game, ax1, ax2, ax3, ax4) = plt.subplots(1, 5, figsize=(12, 3))\n",
    "\n",
    "obs = env.reset()\n",
    "game_imshow = game.imshow(obs)\n",
    "\n",
    "logit_axes = [ax1, ax2, ax3, ax4]\n",
    "for i, ax in enumerate(logit_axes):\n",
    "    ax.set_title(f\"Logit for {action_to_direction[i]}\")\n",
    "logit_imshows = [ax.imshow(obs) for ax in logit_axes]\n",
    "\n",
    "with writer.saving(fig, \"../videos/maze/maze_policy_saliency_integrated_gradients.mp4\", dpi=200):\n",
    "    for i in tqdm(range(TIMESTEPS)):\n",
    "        action, _states = model.predict(obs, deterministic=False)\n",
    "        obs, reward, done, info = env.step(action)\n",
    "        if done:\n",
    "            env.reset()\n",
    "        \n",
    "        game_imshow.set_data(obs)\n",
    "        \n",
    "        for k in range(4):\n",
    "            gradients = int_grad(obs, model, k=k, dalpha=0.01)\n",
    "            logit_imshows[k].set_data(gradients)\n",
    "            logit_imshows[k].set_clim(gradients.min(), gradients.max())\n",
    "        writer.grab_frame()\n",
    "plt.subplots_adjust(hspace=0.5)"
   ]
  },
  {
   "cell_type": "markdown",
   "metadata": {},
   "source": [
    "# Let's do a \"sanity checks for saliency maps\" check"
   ]
  },
  {
   "cell_type": "code",
   "execution_count": 334,
   "metadata": {},
   "outputs": [],
   "source": [
    "from stable_baselines3 import PPO"
   ]
  },
  {
   "cell_type": "code",
   "execution_count": 336,
   "metadata": {},
   "outputs": [],
   "source": [
    "model = PPO('MlpPolicy', env)"
   ]
  },
  {
   "cell_type": "code",
   "execution_count": 338,
   "metadata": {},
   "outputs": [
    {
     "data": {
      "application/vnd.jupyter.widget-view+json": {
       "model_id": "0a9896c1f37f41c281f6d8615b4be50d",
       "version_major": 2,
       "version_minor": 0
      },
      "text/plain": [
       "HBox(children=(FloatProgress(value=0.0, max=300.0), HTML(value='')))"
      ]
     },
     "metadata": {},
     "output_type": "display_data"
    },
    {
     "name": "stdout",
     "output_type": "stream",
     "text": [
      "\n"
     ]
    },
    {
     "data": {
      "image/png": "[encoded data removed]",
      "text/plain": [
       "<Figure size 864x216 with 5 Axes>"
      ]
     },
     "metadata": {
      "needs_background": "light"
     },
     "output_type": "display_data"
    }
   ],
   "source": [
    "radius = 5\n",
    "stride = 4\n",
    "\n",
    "TIMESTEPS = 300\n",
    "\n",
    "FFMpegWriter = manimation.writers['ffmpeg']\n",
    "metadata = dict(title=f\"Maze Policy Saliency Map\", artist='Matplotlib',\n",
    "                comment='Movie support!')\n",
    "writer = FFMpegWriter(fps=10, metadata=metadata)\n",
    "\n",
    "fig, (game, ax1, ax2, ax3, ax4) = plt.subplots(1, 5, figsize=(12, 3))\n",
    "\n",
    "obs = env.reset()\n",
    "game_imshow = game.imshow(obs)\n",
    "\n",
    "logit_axes = [ax1, ax2, ax3, ax4]\n",
    "for i, ax in enumerate(logit_axes):\n",
    "    ax.set_title(f\"Logit for {action_to_direction[i]}\")\n",
    "logit_imshows = [ax.imshow(obs) for ax in logit_axes]\n",
    "\n",
    "with writer.saving(fig, \"../videos/maze/maze_policy_saliency_integrated_gradients_random_model.mp4\", dpi=200):\n",
    "    for i in tqdm(range(TIMESTEPS)):\n",
    "        action, _states = model.predict(obs, deterministic=False)\n",
    "        obs, reward, done, info = env.step(action)\n",
    "        if done:\n",
    "            env.reset()\n",
    "        \n",
    "        game_imshow.set_data(obs)\n",
    "        \n",
    "        for k in range(4):\n",
    "            gradients = int_grad(obs, model, k=k, dalpha=0.01)\n",
    "            logit_imshows[k].set_data(gradients)\n",
    "            logit_imshows[k].set_clim(gradients.min(), gradients.max())\n",
    "        writer.grab_frame()\n",
    "plt.subplots_adjust(hspace=0.5)"
   ]
  },
  {
   "cell_type": "markdown",
   "metadata": {},
   "source": [
    "# Okay it passes the sanity check! The saliency is strikingly different with trained policy vs. a randomly initialized one.\n",
    "\n",
    "\n",
    "# Let's load up a model for 8x8-RandomMaze and see if the saliency is more complex"
   ]
  },
  {
   "cell_type": "code",
   "execution_count": 3,
   "metadata": {},
   "outputs": [],
   "source": [
    "env = gym.make('RandomMaze-8x8-FixedGoal-v0')\n"
   ]
  },
  {
   "cell_type": "code",
   "execution_count": 4,
   "metadata": {},
   "outputs": [],
   "source": [
    "model = ALGOS['ppo'].load('../agents/ppo/RandomMaze-8x8-FixedGoal-v0_2/RandomMaze-8x8-FixedGoal-v0.zip')\n"
   ]
  },
  {
   "cell_type": "code",
   "execution_count": 9,
   "metadata": {},
   "outputs": [
    {
     "data": {
      "text/plain": [
       "<matplotlib.image.AxesImage at 0x7f2221637210>"
      ]
     },
     "execution_count": 9,
     "metadata": {},
     "output_type": "execute_result"
    },
    {
     "data": {
      "image/png": "[encoded data removed]",
      "text/plain": [
       "<Figure size 432x288 with 1 Axes>"
      ]
     },
     "metadata": {
      "needs_background": "light"
     },
     "output_type": "display_data"
    }
   ],
   "source": [
    "plt.imshow(env.reset())"
   ]
  },
  {
   "cell_type": "code",
   "execution_count": 19,
   "metadata": {},
   "outputs": [],
   "source": [
    "def get_logits(obs_t: th.Tensor, model):\n",
    "    policy_latent, value_latent = model.policy.mlp_extractor(obs_t)\n",
    "    return model.policy.action_net(policy_latent)[0]\n",
    "\n",
    "def get_grad(obs, model, k=0):\n",
    "    obs_t = th.tensor(obs).to(device).to(dtype).reshape((1, 81))\n",
    "    obs_t.requires_grad = True\n",
    "    logits = get_logits(obs_t, model)\n",
    "    logits[k].backward()\n",
    "    gradients = obs_t.grad.cpu().detach().numpy().reshape((9, 9))\n",
    "    return gradients\n",
    "\n",
    "def int_grad(obs, model, k=0, dalpha=0.05, baseline=np.zeros((9, 9))):\n",
    "    obs_scaled = [obs * alpha for alpha in np.arange(0, 1, dalpha)]\n",
    "    s = sum([get_grad(obs, model, k=k) for obs in obs_scaled]) * dalpha\n",
    "    IG = (obs - baseline) * s\n",
    "    return IG"
   ]
  },
  {
   "cell_type": "code",
   "execution_count": 20,
   "metadata": {},
   "outputs": [],
   "source": [
    "matplotlib.use(\"Agg\")\n",
    "import matplotlib.animation as manimation"
   ]
  },
  {
   "cell_type": "code",
   "execution_count": 24,
   "metadata": {},
   "outputs": [
    {
     "data": {
      "text/plain": [
       "[[5, 4]]"
      ]
     },
     "execution_count": 24,
     "metadata": {},
     "output_type": "execute_result"
    }
   ],
   "source": [
    "env.maze.objects.agent.positions"
   ]
  },
  {
   "cell_type": "code",
   "execution_count": 32,
   "metadata": {},
   "outputs": [
    {
     "data": {
      "application/vnd.jupyter.widget-view+json": {
       "model_id": "2df46b4115af4fb7993459f4163e9c96",
       "version_major": 2,
       "version_minor": 0
      },
      "text/plain": [
       "HBox(children=(FloatProgress(value=0.0, max=300.0), HTML(value='')))"
      ]
     },
     "metadata": {},
     "output_type": "display_data"
    },
    {
     "name": "stdout",
     "output_type": "stream",
     "text": [
      "\n"
     ]
    },
    {
     "data": {
      "image/png": "[encoded data removed]",
      "text/plain": [
       "<Figure size 864x216 with 5 Axes>"
      ]
     },
     "metadata": {
      "needs_background": "light"
     },
     "output_type": "display_data"
    }
   ],
   "source": [
    "TIMESTEPS = 300\n",
    "\n",
    "FFMpegWriter = manimation.writers['ffmpeg']\n",
    "metadata = dict(title=f\"Random Maze Policy Saliency Map\", artist='Matplotlib',\n",
    "                comment='Movie support!')\n",
    "writer = FFMpegWriter(fps=10, metadata=metadata)\n",
    "\n",
    "fig, (game, ax1, ax2, ax3, ax4) = plt.subplots(1, 5, figsize=(12, 3))\n",
    "\n",
    "obs = env.reset()\n",
    "game_imshow = game.imshow(obs)\n",
    "\n",
    "logit_axes = [ax1, ax2, ax3, ax4]\n",
    "for i, ax in enumerate(logit_axes):\n",
    "    ax.set_title(f\"Logit for {action_to_direction[i]}\")\n",
    "logit_imshows = [ax.imshow(obs) for ax in logit_axes]\n",
    "\n",
    "recent_positions = []\n",
    "\n",
    "with writer.saving(fig, \"../videos/maze/random_maze_policy_saliency_integrated_gradients.mp4\", dpi=200):\n",
    "    for i in tqdm(range(TIMESTEPS)):\n",
    "        action, _states = model.predict(obs, deterministic=False)\n",
    "        obs, reward, done, info = env.step(action)\n",
    "        if done:\n",
    "            env.reset()\n",
    "        # determine if stuck\n",
    "        if len(recent_positions) >= 20:\n",
    "            if env.maze.objects.agent.positions[0] == recent_positions[0]:\n",
    "                env.reset()\n",
    "            else:\n",
    "                recent_positions.pop(0)\n",
    "                recent_positions.append(env.maze.objects.agent.positions[0])\n",
    "        else:\n",
    "            recent_positions.append(env.maze.objects.agent.positions[0])\n",
    "        \n",
    "        game_imshow.set_data(obs)\n",
    "        \n",
    "        for k in range(4):\n",
    "            gradients = int_grad(obs, model, k=k, baseline=np.zeros((9, 9)), dalpha=0.01)\n",
    "            logit_imshows[k].set_data(gradients)\n",
    "            logit_imshows[k].set_clim(gradients.min(), gradients.max())\n",
    "        writer.grab_frame()\n",
    "plt.subplots_adjust(hspace=0.5)"
   ]
  },
  {
   "cell_type": "markdown",
   "metadata": {},
   "source": [
    "# What about a policy for when the goal position is randomized?"
   ]
  },
  {
   "cell_type": "code",
   "execution_count": 33,
   "metadata": {},
   "outputs": [],
   "source": [
    "env = gym.make('EmptyMaze-10x10-RandomGoal-v0')"
   ]
  },
  {
   "cell_type": "code",
   "execution_count": 34,
   "metadata": {},
   "outputs": [
    {
     "data": {
      "text/plain": [
       "<matplotlib.image.AxesImage at 0x7f22080255d0>"
      ]
     },
     "execution_count": 34,
     "metadata": {},
     "output_type": "execute_result"
    },
    {
     "data": {
      "image/png": "[encoded data removed]",
      "text/plain": [
       "<Figure size 432x288 with 1 Axes>"
      ]
     },
     "metadata": {
      "needs_background": "light"
     },
     "output_type": "display_data"
    }
   ],
   "source": [
    "plt.imshow(env.reset())"
   ]
  },
  {
   "cell_type": "code",
   "execution_count": 36,
   "metadata": {},
   "outputs": [],
   "source": [
    "model = ALGOS['ppo'].load('../agents/ppo/EmptyMaze-10x10-RandomGoal-v0_1/EmptyMaze-10x10-RandomGoal-v0.zip')\n"
   ]
  },
  {
   "cell_type": "code",
   "execution_count": 37,
   "metadata": {},
   "outputs": [],
   "source": [
    "def get_logits(obs_t: th.Tensor, model):\n",
    "    policy_latent, value_latent = model.policy.mlp_extractor(obs_t)\n",
    "    return model.policy.action_net(policy_latent)[0]\n",
    "\n",
    "def get_grad(obs, model, k=0):\n",
    "    obs_t = th.tensor(obs).to(device).to(dtype).reshape((1, 121))\n",
    "    obs_t.requires_grad = True\n",
    "    logits = get_logits(obs_t, model)\n",
    "    logits[k].backward()\n",
    "    gradients = obs_t.grad.cpu().detach().numpy().reshape((11, 11))\n",
    "    return gradients\n",
    "\n",
    "def int_grad(obs, model, k=0, dalpha=0.05, baseline=np.zeros((11, 11))):\n",
    "    obs_scaled = [obs * alpha for alpha in np.arange(0, 1, dalpha)]\n",
    "    s = sum([get_grad(obs, model, k=k) for obs in obs_scaled]) * dalpha\n",
    "    IG = (obs - baseline) * s\n",
    "    return IG"
   ]
  },
  {
   "cell_type": "code",
   "execution_count": 39,
   "metadata": {},
   "outputs": [
    {
     "data": {
      "application/vnd.jupyter.widget-view+json": {
       "model_id": "17263fcdf9094e278e3d1dc3c1dec1db",
       "version_major": 2,
       "version_minor": 0
      },
      "text/plain": [
       "HBox(children=(FloatProgress(value=0.0, max=300.0), HTML(value='')))"
      ]
     },
     "metadata": {},
     "output_type": "display_data"
    },
    {
     "name": "stdout",
     "output_type": "stream",
     "text": [
      "\n"
     ]
    },
    {
     "data": {
      "image/png": "[encoded data removed]",
      "text/plain": [
       "<Figure size 864x216 with 5 Axes>"
      ]
     },
     "metadata": {
      "needs_background": "light"
     },
     "output_type": "display_data"
    }
   ],
   "source": [
    "TIMESTEPS = 300\n",
    "\n",
    "FFMpegWriter = manimation.writers['ffmpeg']\n",
    "metadata = dict(title=f\"Empty Maze Policy Saliency Map\", artist='Matplotlib',\n",
    "                comment='Movie support!')\n",
    "writer = FFMpegWriter(fps=10, metadata=metadata)\n",
    "\n",
    "fig, (game, ax1, ax2, ax3, ax4) = plt.subplots(1, 5, figsize=(12, 3))\n",
    "\n",
    "obs = env.reset()\n",
    "game_imshow = game.imshow(obs)\n",
    "\n",
    "logit_axes = [ax1, ax2, ax3, ax4]\n",
    "for i, ax in enumerate(logit_axes):\n",
    "    ax.set_title(f\"Logit for {action_to_direction[i]}\")\n",
    "logit_imshows = [ax.imshow(obs) for ax in logit_axes]\n",
    "\n",
    "recent_positions = []\n",
    "\n",
    "with writer.saving(fig, \"../videos/maze/empty_maze_policy_saliency_integrated_gradients.mp4\", dpi=200):\n",
    "    for i in tqdm(range(TIMESTEPS)):\n",
    "        action, _states = model.predict(obs, deterministic=False)\n",
    "        obs, reward, done, info = env.step(action)\n",
    "        if done:\n",
    "            env.reset()\n",
    "        # determine if stuck\n",
    "        if len(recent_positions) >= 20:\n",
    "            if env.maze.objects.agent.positions[0] == recent_positions[0]:\n",
    "                env.reset()\n",
    "            else:\n",
    "                recent_positions.pop(0)\n",
    "                recent_positions.append(env.maze.objects.agent.positions[0])\n",
    "        else:\n",
    "            recent_positions.append(env.maze.objects.agent.positions[0])\n",
    "        \n",
    "        game_imshow.set_data(obs)\n",
    "        \n",
    "        for k in range(4):\n",
    "            gradients = int_grad(obs, model, k=k, baseline=np.zeros((11, 11)), dalpha=0.01)\n",
    "            logit_imshows[k].set_data(gradients)\n",
    "            logit_imshows[k].set_clim(gradients.min(), gradients.max())\n",
    "        writer.grab_frame()\n",
    "plt.subplots_adjust(hspace=0.5)"
   ]
  },
  {
   "cell_type": "code",
   "execution_count": 40,
   "metadata": {},
   "outputs": [],
   "source": [
    "model = ALGOS['ppo']('MlpPolicy', env)"
   ]
  },
  {
   "cell_type": "code",
   "execution_count": 41,
   "metadata": {},
   "outputs": [
    {
     "data": {
      "application/vnd.jupyter.widget-view+json": {
       "model_id": "aecbf3a829294170b9def9bcd771283a",
       "version_major": 2,
       "version_minor": 0
      },
      "text/plain": [
       "HBox(children=(FloatProgress(value=0.0, max=300.0), HTML(value='')))"
      ]
     },
     "metadata": {},
     "output_type": "display_data"
    },
    {
     "name": "stdout",
     "output_type": "stream",
     "text": [
      "\n"
     ]
    },
    {
     "data": {
      "image/png": "[encoded data removed]",
      "text/plain": [
       "<Figure size 864x216 with 5 Axes>"
      ]
     },
     "metadata": {
      "needs_background": "light"
     },
     "output_type": "display_data"
    }
   ],
   "source": [
    "TIMESTEPS = 300\n",
    "\n",
    "FFMpegWriter = manimation.writers['ffmpeg']\n",
    "metadata = dict(title=f\"Empty Maze Policy Saliency Map\", artist='Matplotlib',\n",
    "                comment='Movie support!')\n",
    "writer = FFMpegWriter(fps=10, metadata=metadata)\n",
    "\n",
    "fig, (game, ax1, ax2, ax3, ax4) = plt.subplots(1, 5, figsize=(12, 3))\n",
    "\n",
    "obs = env.reset()\n",
    "game_imshow = game.imshow(obs)\n",
    "\n",
    "logit_axes = [ax1, ax2, ax3, ax4]\n",
    "for i, ax in enumerate(logit_axes):\n",
    "    ax.set_title(f\"Logit for {action_to_direction[i]}\")\n",
    "logit_imshows = [ax.imshow(obs) for ax in logit_axes]\n",
    "\n",
    "recent_positions = []\n",
    "\n",
    "with writer.saving(fig, \"../videos/maze/empty_maze_random_policy_saliency_integrated_gradients.mp4\", dpi=200):\n",
    "    for i in tqdm(range(TIMESTEPS)):\n",
    "        action, _states = model.predict(obs, deterministic=False)\n",
    "        obs, reward, done, info = env.step(action)\n",
    "        if done:\n",
    "            env.reset()\n",
    "        # determine if stuck\n",
    "        if len(recent_positions) >= 20:\n",
    "            if env.maze.objects.agent.positions[0] == recent_positions[0]:\n",
    "                env.reset()\n",
    "            else:\n",
    "                recent_positions.pop(0)\n",
    "                recent_positions.append(env.maze.objects.agent.positions[0])\n",
    "        else:\n",
    "            recent_positions.append(env.maze.objects.agent.positions[0])\n",
    "        \n",
    "        game_imshow.set_data(obs)\n",
    "        \n",
    "        for k in range(4):\n",
    "            gradients = int_grad(obs, model, k=k, baseline=np.zeros((11, 11)), dalpha=0.01)\n",
    "            logit_imshows[k].set_data(gradients)\n",
    "            logit_imshows[k].set_clim(gradients.min(), gradients.max())\n",
    "        writer.grab_frame()\n",
    "plt.subplots_adjust(hspace=0.5)"
   ]
  },
  {
   "cell_type": "markdown",
   "metadata": {},
   "source": [
    "# Okay so it "
   ]
  },
  {
   "cell_type": "code",
   "execution_count": null,
   "metadata": {},
   "outputs": [],
   "source": []
  },
  {
   "cell_type": "code",
   "execution_count": null,
   "metadata": {},
   "outputs": [],
   "source": []
  },
  {
   "cell_type": "code",
   "execution_count": null,
   "metadata": {},
   "outputs": [],
   "source": []
  },
  {
   "cell_type": "code",
   "execution_count": null,
   "metadata": {},
   "outputs": [],
   "source": []
  },
  {
   "cell_type": "code",
   "execution_count": null,
   "metadata": {},
   "outputs": [],
   "source": []
  },
  {
   "cell_type": "code",
   "execution_count": null,
   "metadata": {},
   "outputs": [],
   "source": []
  },
  {
   "cell_type": "code",
   "execution_count": null,
   "metadata": {},
   "outputs": [],
   "source": []
  },
  {
   "cell_type": "code",
   "execution_count": null,
   "metadata": {},
   "outputs": [],
   "source": []
  },
  {
   "cell_type": "code",
   "execution_count": null,
   "metadata": {},
   "outputs": [],
   "source": []
  },
  {
   "cell_type": "code",
   "execution_count": null,
   "metadata": {},
   "outputs": [],
   "source": []
  },
  {
   "cell_type": "code",
   "execution_count": null,
   "metadata": {},
   "outputs": [],
   "source": []
  },
  {
   "cell_type": "code",
   "execution_count": null,
   "metadata": {},
   "outputs": [],
   "source": []
  },
  {
   "cell_type": "code",
   "execution_count": null,
   "metadata": {},
   "outputs": [],
   "source": []
  },
  {
   "cell_type": "code",
   "execution_count": null,
   "metadata": {},
   "outputs": [],
   "source": []
  }
 ],
 "metadata": {
  "kernelspec": {
   "display_name": "Python 3",
   "language": "python",
   "name": "python3"
  },
  "language_info": {
   "codemirror_mode": {
    "name": "ipython",
    "version": 3
   },
   "file_extension": ".py",
   "mimetype": "text/x-python",
   "name": "python",
   "nbconvert_exporter": "python",
   "pygments_lexer": "ipython3",
   "version": "3.7.7"
  }
 },
 "nbformat": 4,
 "nbformat_minor": 4
}
