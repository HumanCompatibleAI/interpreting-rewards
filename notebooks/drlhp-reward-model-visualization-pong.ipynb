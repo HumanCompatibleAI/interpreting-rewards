{
 "cells": [
  {
   "cell_type": "code",
   "execution_count": 1,
   "metadata": {},
   "outputs": [
    {
     "name": "stderr",
     "output_type": "stream",
     "text": [
      "/home/eric/Code/miniconda3/envs/interp/lib/python3.7/site-packages/tensorboard/compat/tensorflow_stub/dtypes.py:541: FutureWarning: Passing (type, 1) or '1type' as a synonym of type is deprecated; in a future version of numpy, it will be understood as (type, (1,)) / '(1,)type'.\n",
      "  _np_qint8 = np.dtype([(\"qint8\", np.int8, 1)])\n",
      "/home/eric/Code/miniconda3/envs/interp/lib/python3.7/site-packages/tensorboard/compat/tensorflow_stub/dtypes.py:542: FutureWarning: Passing (type, 1) or '1type' as a synonym of type is deprecated; in a future version of numpy, it will be understood as (type, (1,)) / '(1,)type'.\n",
      "  _np_quint8 = np.dtype([(\"quint8\", np.uint8, 1)])\n",
      "/home/eric/Code/miniconda3/envs/interp/lib/python3.7/site-packages/tensorboard/compat/tensorflow_stub/dtypes.py:543: FutureWarning: Passing (type, 1) or '1type' as a synonym of type is deprecated; in a future version of numpy, it will be understood as (type, (1,)) / '(1,)type'.\n",
      "  _np_qint16 = np.dtype([(\"qint16\", np.int16, 1)])\n",
      "/home/eric/Code/miniconda3/envs/interp/lib/python3.7/site-packages/tensorboard/compat/tensorflow_stub/dtypes.py:544: FutureWarning: Passing (type, 1) or '1type' as a synonym of type is deprecated; in a future version of numpy, it will be understood as (type, (1,)) / '(1,)type'.\n",
      "  _np_quint16 = np.dtype([(\"quint16\", np.uint16, 1)])\n",
      "/home/eric/Code/miniconda3/envs/interp/lib/python3.7/site-packages/tensorboard/compat/tensorflow_stub/dtypes.py:545: FutureWarning: Passing (type, 1) or '1type' as a synonym of type is deprecated; in a future version of numpy, it will be understood as (type, (1,)) / '(1,)type'.\n",
      "  _np_qint32 = np.dtype([(\"qint32\", np.int32, 1)])\n",
      "/home/eric/Code/miniconda3/envs/interp/lib/python3.7/site-packages/tensorboard/compat/tensorflow_stub/dtypes.py:550: FutureWarning: Passing (type, 1) or '1type' as a synonym of type is deprecated; in a future version of numpy, it will be understood as (type, (1,)) / '(1,)type'.\n",
      "  np_resource = np.dtype([(\"resource\", np.ubyte, 1)])\n"
     ]
    }
   ],
   "source": [
    "import os\n",
    "import sys\n",
    "import importlib\n",
    "from pathlib import Path\n",
    "from itertools import product\n",
    "import h5py\n",
    "import pickle\n",
    "\n",
    "import logging\n",
    "\n",
    "import gym\n",
    "import numpy as np\n",
    "import matplotlib\n",
    "import matplotlib.cm\n",
    "import matplotlib.pyplot as plt\n",
    "import scipy.ndimage\n",
    "import skimage.transform\n",
    "import torch as th\n",
    "import torch.nn as nn\n",
    "\n",
    "from tqdm.auto import tqdm\n",
    "\n",
    "sys.path.insert(1, \"/home/eric/Code/chai/test/learning-from-human-preferences\")\n",
    "sys.path.insert(2, \"/home/eric/Code/chai/test/learning-from-human-preferences/drlhp\")\n",
    "\n",
    "from stable_baselines3.common.utils import set_random_seed\n",
    "from stable_baselines3.common.vec_env import VecEnvWrapper, VecEnv, DummyVecEnv\n",
    "from stable_baselines3.common.vec_env import VecTransposeImage\n",
    "\n",
    "sys.path.insert(1, \"../rl-baselines3-zoo\")\n",
    "import utils.import_envs  # noqa: F401 pylint: disable=unused-import\n",
    "from utils.utils import StoreDict\n",
    "from utils import ALGOS, create_test_env, get_latest_run_id, get_saved_hyperparams"
   ]
  },
  {
   "cell_type": "code",
   "execution_count": 2,
   "metadata": {},
   "outputs": [],
   "source": [
    "import warnings\n",
    "with warnings.catch_warnings():\n",
    "    warnings.simplefilter(\"ignore\")\n",
    "    import easy_tf_log\n",
    "#     from drlhp import reward_predictor\n",
    "    from drlhp.reward_predictor_core_network import net_cnn\n",
    "    from drlhp.HumanPreferencesEnvWrapper import _make_reward_predictor"
   ]
  },
  {
   "cell_type": "code",
   "execution_count": 3,
   "metadata": {},
   "outputs": [],
   "source": [
    "ckpt_dir = Path('/home/eric/Code/chai/test/learning-from-human-preferences/runs/pong_45cb953/reward_predictor_checkpoints')\n",
    "log_dir = Path('logs')\n",
    "logger = logging.getLogger(\"testytest\")\n",
    "\n",
    "obs_shape = (84, 84, 4)"
   ]
  },
  {
   "cell_type": "code",
   "execution_count": 4,
   "metadata": {},
   "outputs": [
    {
     "name": "stdout",
     "output_type": "stream",
     "text": [
      "WARNING: Entity <bound method Conv.call of <tensorflow.python.layers.convolutional.Conv2D object at 0x7f70e84a9350>> could not be transformed and will be executed as-is. Please report this to the AutgoGraph team. When filing the bug, set the verbosity to 10 (on Linux, `export AUTOGRAPH_VERBOSITY=10`) and attach the full output. Cause: converting <bound method Conv.call of <tensorflow.python.layers.convolutional.Conv2D object at 0x7f70e84a9350>>: AssertionError: Bad argument number for Name: 3, expecting 4\n",
      "WARNING: Entity <bound method Dropout.call of <tensorflow.python.layers.core.Dropout object at 0x7f70e84d7ed0>> could not be transformed and will be executed as-is. Please report this to the AutgoGraph team. When filing the bug, set the verbosity to 10 (on Linux, `export AUTOGRAPH_VERBOSITY=10`) and attach the full output. Cause: converting <bound method Dropout.call of <tensorflow.python.layers.core.Dropout object at 0x7f70e84d7ed0>>: AssertionError: Bad argument number for Name: 3, expecting 4\n",
      "WARNING: Entity <bound method Conv.call of <tensorflow.python.layers.convolutional.Conv2D object at 0x7f70e84d7ed0>> could not be transformed and will be executed as-is. Please report this to the AutgoGraph team. When filing the bug, set the verbosity to 10 (on Linux, `export AUTOGRAPH_VERBOSITY=10`) and attach the full output. Cause: converting <bound method Conv.call of <tensorflow.python.layers.convolutional.Conv2D object at 0x7f70e84d7ed0>>: AssertionError: Bad argument number for Name: 3, expecting 4\n",
      "WARNING: Entity <bound method Dropout.call of <tensorflow.python.layers.core.Dropout object at 0x7f70e84d7ed0>> could not be transformed and will be executed as-is. Please report this to the AutgoGraph team. When filing the bug, set the verbosity to 10 (on Linux, `export AUTOGRAPH_VERBOSITY=10`) and attach the full output. Cause: converting <bound method Dropout.call of <tensorflow.python.layers.core.Dropout object at 0x7f70e84d7ed0>>: AssertionError: Bad argument number for Name: 3, expecting 4\n",
      "WARNING: Entity <bound method Conv.call of <tensorflow.python.layers.convolutional.Conv2D object at 0x7f70e84d7ed0>> could not be transformed and will be executed as-is. Please report this to the AutgoGraph team. When filing the bug, set the verbosity to 10 (on Linux, `export AUTOGRAPH_VERBOSITY=10`) and attach the full output. Cause: converting <bound method Conv.call of <tensorflow.python.layers.convolutional.Conv2D object at 0x7f70e84d7ed0>>: AssertionError: Bad argument number for Name: 3, expecting 4\n",
      "WARNING: Entity <bound method Dropout.call of <tensorflow.python.layers.core.Dropout object at 0x7f70e84d7ed0>> could not be transformed and will be executed as-is. Please report this to the AutgoGraph team. When filing the bug, set the verbosity to 10 (on Linux, `export AUTOGRAPH_VERBOSITY=10`) and attach the full output. Cause: converting <bound method Dropout.call of <tensorflow.python.layers.core.Dropout object at 0x7f70e84d7ed0>>: AssertionError: Bad argument number for Name: 3, expecting 4\n",
      "WARNING: Entity <bound method Conv.call of <tensorflow.python.layers.convolutional.Conv2D object at 0x7f70e84d7ed0>> could not be transformed and will be executed as-is. Please report this to the AutgoGraph team. When filing the bug, set the verbosity to 10 (on Linux, `export AUTOGRAPH_VERBOSITY=10`) and attach the full output. Cause: converting <bound method Conv.call of <tensorflow.python.layers.convolutional.Conv2D object at 0x7f70e84d7ed0>>: AssertionError: Bad argument number for Name: 3, expecting 4\n",
      "WARNING: Entity <bound method Dense.call of <tensorflow.python.layers.core.Dense object at 0x7f700afa8f90>> could not be transformed and will be executed as-is. Please report this to the AutgoGraph team. When filing the bug, set the verbosity to 10 (on Linux, `export AUTOGRAPH_VERBOSITY=10`) and attach the full output. Cause: converting <bound method Dense.call of <tensorflow.python.layers.core.Dense object at 0x7f700afa8f90>>: AssertionError: Bad argument number for Name: 3, expecting 4\n",
      "WARNING: Entity <bound method Dense.call of <tensorflow.python.layers.core.Dense object at 0x7f700afa8f90>> could not be transformed and will be executed as-is. Please report this to the AutgoGraph team. When filing the bug, set the verbosity to 10 (on Linux, `export AUTOGRAPH_VERBOSITY=10`) and attach the full output. Cause: converting <bound method Dense.call of <tensorflow.python.layers.core.Dense object at 0x7f700afa8f90>>: AssertionError: Bad argument number for Name: 3, expecting 4\n",
      "WARNING: Entity <bound method Conv.call of <tensorflow.python.layers.convolutional.Conv2D object at 0x7f700b4b0a10>> could not be transformed and will be executed as-is. Please report this to the AutgoGraph team. When filing the bug, set the verbosity to 10 (on Linux, `export AUTOGRAPH_VERBOSITY=10`) and attach the full output. Cause: converting <bound method Conv.call of <tensorflow.python.layers.convolutional.Conv2D object at 0x7f700b4b0a10>>: AssertionError: Bad argument number for Name: 3, expecting 4\n",
      "WARNING: Entity <bound method Dropout.call of <tensorflow.python.layers.core.Dropout object at 0x7f700b4b0a10>> could not be transformed and will be executed as-is. Please report this to the AutgoGraph team. When filing the bug, set the verbosity to 10 (on Linux, `export AUTOGRAPH_VERBOSITY=10`) and attach the full output. Cause: converting <bound method Dropout.call of <tensorflow.python.layers.core.Dropout object at 0x7f700b4b0a10>>: AssertionError: Bad argument number for Name: 3, expecting 4\n",
      "WARNING: Entity <bound method Conv.call of <tensorflow.python.layers.convolutional.Conv2D object at 0x7f700b4b0a10>> could not be transformed and will be executed as-is. Please report this to the AutgoGraph team. When filing the bug, set the verbosity to 10 (on Linux, `export AUTOGRAPH_VERBOSITY=10`) and attach the full output. Cause: converting <bound method Conv.call of <tensorflow.python.layers.convolutional.Conv2D object at 0x7f700b4b0a10>>: AssertionError: Bad argument number for Name: 3, expecting 4\n",
      "WARNING: Entity <bound method Dropout.call of <tensorflow.python.layers.core.Dropout object at 0x7f700b4b0a10>> could not be transformed and will be executed as-is. Please report this to the AutgoGraph team. When filing the bug, set the verbosity to 10 (on Linux, `export AUTOGRAPH_VERBOSITY=10`) and attach the full output. Cause: converting <bound method Dropout.call of <tensorflow.python.layers.core.Dropout object at 0x7f700b4b0a10>>: AssertionError: Bad argument number for Name: 3, expecting 4\n",
      "WARNING: Entity <bound method Conv.call of <tensorflow.python.layers.convolutional.Conv2D object at 0x7f700b4b0a10>> could not be transformed and will be executed as-is. Please report this to the AutgoGraph team. When filing the bug, set the verbosity to 10 (on Linux, `export AUTOGRAPH_VERBOSITY=10`) and attach the full output. Cause: converting <bound method Conv.call of <tensorflow.python.layers.convolutional.Conv2D object at 0x7f700b4b0a10>>: AssertionError: Bad argument number for Name: 3, expecting 4\n",
      "WARNING: Entity <bound method Dropout.call of <tensorflow.python.layers.core.Dropout object at 0x7f700b4b0a10>> could not be transformed and will be executed as-is. Please report this to the AutgoGraph team. When filing the bug, set the verbosity to 10 (on Linux, `export AUTOGRAPH_VERBOSITY=10`) and attach the full output. Cause: converting <bound method Dropout.call of <tensorflow.python.layers.core.Dropout object at 0x7f700b4b0a10>>: AssertionError: Bad argument number for Name: 3, expecting 4\n",
      "WARNING: Entity <bound method Conv.call of <tensorflow.python.layers.convolutional.Conv2D object at 0x7f700b4b0a10>> could not be transformed and will be executed as-is. Please report this to the AutgoGraph team. When filing the bug, set the verbosity to 10 (on Linux, `export AUTOGRAPH_VERBOSITY=10`) and attach the full output. Cause: converting <bound method Conv.call of <tensorflow.python.layers.convolutional.Conv2D object at 0x7f700b4b0a10>>: AssertionError: Bad argument number for Name: 3, expecting 4\n",
      "WARNING: Entity <bound method Dense.call of <tensorflow.python.layers.core.Dense object at 0x7f700b320790>> could not be transformed and will be executed as-is. Please report this to the AutgoGraph team. When filing the bug, set the verbosity to 10 (on Linux, `export AUTOGRAPH_VERBOSITY=10`) and attach the full output. Cause: converting <bound method Dense.call of <tensorflow.python.layers.core.Dense object at 0x7f700b320790>>: AssertionError: Bad argument number for Name: 3, expecting 4\n"
     ]
    },
    {
     "name": "stdout",
     "output_type": "stream",
     "text": [
      "WARNING: Entity <bound method Dense.call of <tensorflow.python.layers.core.Dense object at 0x7f700b320790>> could not be transformed and will be executed as-is. Please report this to the AutgoGraph team. When filing the bug, set the verbosity to 10 (on Linux, `export AUTOGRAPH_VERBOSITY=10`) and attach the full output. Cause: converting <bound method Dense.call of <tensorflow.python.layers.core.Dense object at 0x7f700b320790>>: AssertionError: Bad argument number for Name: 3, expecting 4\n",
      "RewardPredictorEnsemble created\n",
      "RewardPredictorEnsemble initialized\n"
     ]
    }
   ],
   "source": [
    "rp = _make_reward_predictor(reward_predictor_network=net_cnn,\n",
    "                           log_dir=log_dir,\n",
    "                           obs_shape=obs_shape,\n",
    "                           logger=logger,\n",
    "                           checkpoint_dir=ckpt_dir)"
   ]
  },
  {
   "cell_type": "code",
   "execution_count": 6,
   "metadata": {},
   "outputs": [
    {
     "data": {
      "text/plain": [
       "array([0.], dtype=float32)"
      ]
     },
     "execution_count": 6,
     "metadata": {},
     "output_type": "execute_result"
    }
   ],
   "source": [
    "rp.reward(np.random.randn(1, 84, 84, 4))"
   ]
  },
  {
   "cell_type": "code",
   "execution_count": 2,
   "metadata": {},
   "outputs": [],
   "source": [
    "from stable_baselines3.common.utils import set_random_seed\n",
    "from stable_baselines3.common.vec_env import VecEnvWrapper, VecEnv, DummyVecEnv\n",
    "from stable_baselines3.common.vec_env import VecTransposeImage\n",
    "\n",
    "sys.path.insert(1, \"../rl-baselines3-zoo\")\n",
    "import utils.import_envs  # noqa: F401 pylint: disable=unused-import\n",
    "from utils.utils import StoreDict\n",
    "from utils import ALGOS, create_test_env, get_latest_run_id, get_saved_hyperparams"
   ]
  },
  {
   "cell_type": "code",
   "execution_count": 11,
   "metadata": {},
   "outputs": [
    {
     "name": "stdout",
     "output_type": "stream",
     "text": [
      "Using device: cuda\n"
     ]
    }
   ],
   "source": [
    "########### Set Device ############\n",
    "device = th.device('cuda' if th.cuda.is_available() else 'cpu')\n",
    "dtype = th.float32\n",
    "th.set_default_dtype(dtype)\n",
    "print(\"Using device: {}\".format(device))"
   ]
  },
  {
   "cell_type": "code",
   "execution_count": 14,
   "metadata": {},
   "outputs": [],
   "source": [
    "env_id = \"PongNoFrameskip-v4\"\n",
    "folder = \"../agents\"\n",
    "algo = \"a2c\"\n",
    "n_timesteps = 10000\n",
    "num_threads = -1\n",
    "n_envs = 1\n",
    "exp_id = 1\n",
    "verbose = 1\n",
    "no_render = False\n",
    "deterministic = False\n",
    "load_best = True\n",
    "load_checkpoint = None\n",
    "norm_reward = False\n",
    "seed = 0\n",
    "reward_log = ''\n",
    "env_kwargs = None"
   ]
  },
  {
   "cell_type": "code",
   "execution_count": 15,
   "metadata": {
    "scrolled": true
   },
   "outputs": [
    {
     "name": "stdout",
     "output_type": "stream",
     "text": [
      "Stacking 4 frames\n"
     ]
    }
   ],
   "source": [
    "# Sanity checks\n",
    "if exp_id > 0:\n",
    "    log_path = os.path.join(folder, algo, '{}_{}'.format(env_id, exp_id))\n",
    "else:\n",
    "    log_path = os.path.join(folder, algo)\n",
    "    \n",
    "found = False\n",
    "for ext in ['zip']:\n",
    "    model_path = os.path.join(log_path, f'{env_id}.{ext}')\n",
    "    found = os.path.isfile(model_path)\n",
    "    if found:\n",
    "        break\n",
    "\n",
    "if load_best:\n",
    "    model_path = os.path.join(log_path, \"best_model.zip\")\n",
    "    found = os.path.isfile(model_path)\n",
    "\n",
    "if load_checkpoint is not None:\n",
    "    model_path = os.path.join(log_path, f\"rl_model_{load_checkpoint}_steps.zip\")\n",
    "    found = os.path.isfile(model_path)\n",
    "\n",
    "if not found:\n",
    "    raise ValueError(f\"No model found for {algo} on {env_id}, path: {model_path}\")\n",
    "\n",
    "if algo in ['dqn', 'ddpg', 'sac', 'td3']:\n",
    "    n_envs = 1\n",
    "\n",
    "set_random_seed(seed)\n",
    "\n",
    "if num_threads > 0:\n",
    "    if verbose > 1:\n",
    "        print(f\"Setting torch.num_threads to {num_threads}\")\n",
    "    th.set_num_threads(num_threads)\n",
    "\n",
    "is_atari = 'NoFrameskip' in env_id\n",
    "\n",
    "stats_path = os.path.join(log_path, env_id)\n",
    "hyperparams, stats_path = get_saved_hyperparams(stats_path, norm_reward=norm_reward, test_mode=True)\n",
    "env_kwargs = {} if env_kwargs is None else env_kwargs\n",
    "\n",
    "log_dir = reward_log if reward_log != '' else None\n",
    "\n",
    "env = create_test_env(env_id, n_envs=n_envs,\n",
    "                      stats_path=stats_path, seed=seed, log_dir=log_dir,\n",
    "                      should_render=not no_render,\n",
    "                      hyperparams=hyperparams,\n",
    "                      env_kwargs=env_kwargs)\n",
    "\n",
    "model = ALGOS[algo].load(model_path, env=env)\n",
    "\n",
    "obs = env.reset()"
   ]
  },
  {
   "cell_type": "code",
   "execution_count": 48,
   "metadata": {},
   "outputs": [],
   "source": [
    "def create_circular_mask(h, w, center, radius=5):\n",
    "    Y, X = np.ogrid[:h, :w]\n",
    "    dist_from_center = np.sqrt((X - center[1])**2 + (Y-center[0])**2)\n",
    "    mask = dist_from_center <= radius\n",
    "    return np.array(mask, dtype=np.float32)\n",
    "\n",
    "def max_k(k, iterator, key=lambda x: x):\n",
    "    items = [None for _ in range(k)]\n",
    "    values = [-float('inf') for _ in range(k)]\n",
    "    for item in iterator:\n",
    "        val = key(item)\n",
    "        for i in range(k):\n",
    "            if val > values[i]:\n",
    "                items.insert(i, item)\n",
    "                items.pop()\n",
    "                values.insert(i, val)\n",
    "                values.pop()\n",
    "                break\n",
    "    return items\n",
    "\n",
    "def max_k_and_values(k, iterator, key=lambda x: x):\n",
    "    items = [None for _ in range(k)]\n",
    "    values = [-float('inf') for _ in range(k)]\n",
    "    for item in iterator:\n",
    "        val = key(item)\n",
    "        for i in range(k):\n",
    "            if val > values[i]:\n",
    "                items.insert(i, item)\n",
    "                items.pop()\n",
    "                values.insert(i, val)\n",
    "                values.pop()\n",
    "                break\n",
    "    return list(zip(items, values))\n",
    "\n",
    "def reward_model_saliency(model, obs, loc, radius=5, device='cuda'):\n",
    "    obs_copy = np.copy(obs)\n",
    "    baseline = model.reward(obs_copy)\n",
    "    M = create_circular_mask(84, 84, center=loc, radius=radius)\n",
    "    for k in range(4):\n",
    "        img = obs_copy[0, :, :, k]\n",
    "        A = scipy.ndimage.gaussian_filter(img, 3)\n",
    "        obs_copy[0, :, :, k] = img*(1 - M) + A*M\n",
    "    modified = model.reward(obs_copy)\n",
    "    return abs(baseline[0] - modified[0])**2\n"
   ]
  },
  {
   "cell_type": "code",
   "execution_count": 57,
   "metadata": {},
   "outputs": [],
   "source": [
    "obs = env.reset()\n",
    "for i in range(100):\n",
    "    action, _states = model.predict(obs, deterministic=False)\n",
    "    obs, reward, done, info = env.step(action)\n",
    "    if reward[0] == 1.0:\n",
    "        break"
   ]
  },
  {
   "cell_type": "code",
   "execution_count": 58,
   "metadata": {},
   "outputs": [
    {
     "data": {
      "text/plain": [
       "<matplotlib.image.AxesImage at 0x7faefc5859d0>"
      ]
     },
     "execution_count": 58,
     "metadata": {},
     "output_type": "execute_result"
    },
    {
     "data": {
      "image/png": "[encoded data removed]",
      "text/plain": [
       "<Figure size 432x288 with 1 Axes>"
      ]
     },
     "metadata": {
      "needs_background": "light"
     },
     "output_type": "display_data"
    }
   ],
   "source": [
    "plt.imshow(env.get_images()[0])"
   ]
  },
  {
   "cell_type": "code",
   "execution_count": 59,
   "metadata": {},
   "outputs": [
    {
     "data": {
      "text/plain": [
       "<matplotlib.image.AxesImage at 0x7faefc502610>"
      ]
     },
     "execution_count": 59,
     "metadata": {},
     "output_type": "execute_result"
    },
    {
     "data": {
      "image/png": "[encoded data removed]",
      "text/plain": [
       "<Figure size 432x288 with 1 Axes>"
      ]
     },
     "metadata": {
      "needs_background": "light"
     },
     "output_type": "display_data"
    }
   ],
   "source": [
    "radius = 5\n",
    "stride = 4\n",
    "\n",
    "pairs = max_k_and_values(10, product(range(0, 84, stride), range(0, 84, stride)), key=lambda e: reward_model_saliency(rp, obs, e, radius=radius))\n",
    "screenshot = env.get_images()[0]\n",
    "screenshot = screenshot / screenshot.max()\n",
    "# max_value = pairs[0][1]\n",
    "for loc, value in pairs:\n",
    "    r, g, b, a = matplotlib.cm.hot(value)\n",
    "    m = max(r, g, b)\n",
    "    region = create_circular_mask(84, 84, center=loc, radius=radius)\n",
    "    region = skimage.transform.resize(region, (210, 160))\n",
    "    spot = np.zeros((210, 160, 3))\n",
    "    spot[:, :, 0] = r * region / m\n",
    "    spot[:, :, 1] = g * region / m\n",
    "    spot[:, :, 2] = b * region / m\n",
    "    spot = spot * a\n",
    "    screenshot = spot + (1-spot)*screenshot\n",
    "    screenshot = screenshot / screenshot.max()\n",
    "plt.imshow(screenshot)\n"
   ]
  },
  {
   "cell_type": "code",
   "execution_count": 62,
   "metadata": {},
   "outputs": [
    {
     "data": {
      "image/png": "[encoded data removed]",
      "text/plain": [
       "<Figure size 720x288 with 4 Axes>"
      ]
     },
     "metadata": {
      "needs_background": "light"
     },
     "output_type": "display_data"
    }
   ],
   "source": [
    "plt.figure(figsize=(10, 4))\n",
    "for k in range(4):\n",
    "    plt.subplot(1, 4, k+1)\n",
    "    plt.imshow(obs[0, :, :, k])"
   ]
  },
  {
   "cell_type": "code",
   "execution_count": 64,
   "metadata": {},
   "outputs": [],
   "source": [
    "matplotlib.use(\"Agg\")\n",
    "import matplotlib.animation as manimation"
   ]
  },
  {
   "cell_type": "code",
   "execution_count": 69,
   "metadata": {},
   "outputs": [
    {
     "data": {
      "application/vnd.jupyter.widget-view+json": {
       "model_id": "7eeaea78b3e4457ca49f1bf30fd04eb4",
       "version_major": 2,
       "version_minor": 0
      },
      "text/plain": [
       "HBox(children=(FloatProgress(value=0.0, max=300.0), HTML(value='')))"
      ]
     },
     "metadata": {},
     "output_type": "display_data"
    },
    {
     "name": "stdout",
     "output_type": "stream",
     "text": [
      "\n"
     ]
    },
    {
     "data": {
      "image/png": "[encoded data removed]",
      "text/plain": [
       "<Figure size 432x288 with 1 Axes>"
      ]
     },
     "metadata": {
      "needs_background": "light"
     },
     "output_type": "display_data"
    }
   ],
   "source": [
    "radius = 7\n",
    "stride = 6\n",
    "\n",
    "TIMESTEPS = 300\n",
    "\n",
    "FFMpegWriter = manimation.writers['ffmpeg']\n",
    "metadata = dict(title=f\"Breakout Policy Saliency Map\", artist='Matplotlib',\n",
    "                comment='Movie support!')\n",
    "writer = FFMpegWriter(fps=20, metadata=metadata)\n",
    "\n",
    "fig, ax = plt.subplots(1, 1)\n",
    "\n",
    "obs = env.reset()\n",
    "for i in range(500):\n",
    "    action, _states = model.predict(obs, deterministic=False)\n",
    "    obs, reward, done, info = env.step(action)\n",
    "    if done:\n",
    "        break\n",
    "\n",
    "imshow = ax.imshow(env.get_images()[0])\n",
    "with writer.saving(fig, \"../videos/pong/pong_drlhp_reward_model_saliency.mp4\", dpi=200):\n",
    "    for i in tqdm(range(TIMESTEPS)):\n",
    "        action, _states = model.predict(obs, deterministic=False)\n",
    "        obs, reward, done, info = env.step(action)\n",
    "        locs = max_k(5, product(range(0, 84, stride), range(0, 84, stride)), key=lambda e: reward_model_saliency(rp, obs, e, radius=radius))\n",
    "        screenshot = env.get_images()[0]\n",
    "        screenshot = screenshot / screenshot.max()\n",
    "#         screenshot = screenshot * 0.4\n",
    "        for loc in locs:\n",
    "                r, g, b, a = matplotlib.cm.hot(value)\n",
    "                m = max(r, g, b)\n",
    "                region = create_circular_mask(84, 84, center=loc, radius=radius)\n",
    "                region = skimage.transform.resize(region, (210, 160))\n",
    "                spot = np.zeros((210, 160, 3))\n",
    "                spot[:, :, 0] = r * region / m\n",
    "                spot[:, :, 1] = g * region / m\n",
    "                spot[:, :, 2] = b * region / m\n",
    "                spot = spot * a\n",
    "                screenshot = spot + (1-spot)*screenshot\n",
    "                screenshot = screenshot / screenshot.max()\n",
    "        imshow.set_data(screenshot)\n",
    "        writer.grab_frame()"
   ]
  },
  {
   "cell_type": "code",
   "execution_count": 79,
   "metadata": {},
   "outputs": [
    {
     "data": {
      "application/vnd.jupyter.widget-view+json": {
       "model_id": "0ef1406251074d47b1e49ae4b4cc713e",
       "version_major": 2,
       "version_minor": 0
      },
      "text/plain": [
       "HBox(children=(FloatProgress(value=0.0, max=400.0), HTML(value='')))"
      ]
     },
     "metadata": {},
     "output_type": "display_data"
    },
    {
     "name": "stderr",
     "output_type": "stream",
     "text": [
      "/home/eric/Code/miniconda3/envs/interp/lib/python3.7/site-packages/ipykernel_launcher.py:42: UserWarning: Attempting to set identical left == right == 0 results in singular transformations; automatically expanding.\n"
     ]
    },
    {
     "name": "stdout",
     "output_type": "stream",
     "text": [
      "\n"
     ]
    },
    {
     "data": {
      "image/png": "[encoded data removed]",
      "text/plain": [
       "<Figure size 720x360 with 2 Axes>"
      ]
     },
     "metadata": {
      "needs_background": "light"
     },
     "output_type": "display_data"
    }
   ],
   "source": [
    "radius = 5\n",
    "stride = 4\n",
    "\n",
    "TIMESTEPS = 400\n",
    "\n",
    "FFMpegWriter = manimation.writers['ffmpeg']\n",
    "metadata = dict(title=f\"Breakout Policy Saliency Map\", artist='Matplotlib',\n",
    "                comment='Movie support!')\n",
    "writer = FFMpegWriter(fps=20, metadata=metadata)\n",
    "\n",
    "fig, (ax, ax2) = plt.subplots(1, 2, gridspec_kw={'width_ratios': [1, 1]}, figsize=(10, 5))\n",
    "ax2.set_xlabel(\"Time\", fontsize=15)\n",
    "ax2.set_title(\"Max Saliency\", fontsize=15)\n",
    "\n",
    "obs = env.reset()\n",
    "imshow = ax.imshow(env.get_images()[0])\n",
    "timeseries = ax2.plot([], [], c='black')[0]\n",
    "max_saliencies = []\n",
    "with writer.saving(fig, \"../videos/pong/pong_drlhp_reward_model_saliency_withtimeseries.mp4\", dpi=200):\n",
    "    for i in tqdm(range(TIMESTEPS)):\n",
    "        action, _states = model.predict(obs, deterministic=False)\n",
    "        obs, reward, done, info = env.step(action)\n",
    "        if done:\n",
    "            break\n",
    "        pairs = max_k_and_values(10, product(range(0, 84, stride), range(0, 84, stride)), key=lambda e: reward_model_saliency(rp, obs, e, radius=radius))\n",
    "        screenshot = env.get_images()[0]\n",
    "        screenshot = screenshot / screenshot.max()\n",
    "        max_value = pairs[0][1]\n",
    "        max_saliencies.append(max_value)\n",
    "        for loc, value in pairs:\n",
    "            r, g, b, a = matplotlib.cm.hot(value / max_value)\n",
    "            region = create_circular_mask(84, 84, center=loc, radius=radius)\n",
    "            region = skimage.transform.resize(region, (210, 160))\n",
    "            spot = np.zeros((210, 160, 3))\n",
    "            spot[:, :, 0] = r * region\n",
    "            spot[:, :, 1] = g * region\n",
    "            spot[:, :, 2] = b * region\n",
    "            spot = spot * a\n",
    "            screenshot = spot + (1-spot)*screenshot\n",
    "            screenshot = screenshot / screenshot.max()\n",
    "        imshow.set_data(screenshot)\n",
    "        ax2.set_xlim(list(range(i+1))[-40:][0], list(range(i+1))[-40:][-1])\n",
    "#         ax2.set_yscale('log')\n",
    "        ax2.set_ylim(min(max_saliencies), 1.1*max(max_saliencies))\n",
    "        timeseries.set_data(list(range(i+1))[-40:], max_saliencies[-40:])\n",
    "        writer.grab_frame()\n",
    "#         plt.subplots_adjust(wspace=0.2)"
   ]
  },
  {
   "cell_type": "code",
   "execution_count": 78,
   "metadata": {},
   "outputs": [
    {
     "data": {
      "text/plain": [
       "<matplotlib.image.AxesImage at 0x7faefc4085d0>"
      ]
     },
     "execution_count": 78,
     "metadata": {},
     "output_type": "execute_result"
    },
    {
     "data": {
      "image/png": "[encoded data removed]",
      "text/plain": [
       "<Figure size 432x288 with 1 Axes>"
      ]
     },
     "metadata": {
      "needs_background": "light"
     },
     "output_type": "display_data"
    }
   ],
   "source": [
    "radius = 5\n",
    "stride = 4\n",
    "\n",
    "pairs = max_k_and_values(10, product(range(0, 84, stride), range(0, 84, stride)), key=lambda e: reward_model_saliency(rp, obs, e, radius=radius))\n",
    "max_value = pairs[0][1]\n",
    "screenshot = env.get_images()[0]\n",
    "screenshot = screenshot / screenshot.max()\n",
    "# max_value = pairs[0][1]\n",
    "for loc, value in pairs:\n",
    "    r, g, b, a = matplotlib.cm.hot(value / max_value)\n",
    "    region = create_circular_mask(84, 84, center=loc, radius=radius)\n",
    "    region = skimage.transform.resize(region, (210, 160))\n",
    "    spot = np.zeros((210, 160, 3))\n",
    "    spot[:, :, 0] = r * region\n",
    "    spot[:, :, 1] = g * region\n",
    "    spot[:, :, 2] = b * region\n",
    "    spot = spot * a\n",
    "    screenshot = spot + (1-spot)*screenshot\n",
    "    screenshot = screenshot / screenshot.max()\n",
    "plt.imshow(screenshot)"
   ]
  },
  {
   "cell_type": "code",
   "execution_count": null,
   "metadata": {},
   "outputs": [],
   "source": []
  },
  {
   "cell_type": "code",
   "execution_count": null,
   "metadata": {},
   "outputs": [],
   "source": []
  },
  {
   "cell_type": "code",
   "execution_count": null,
   "metadata": {},
   "outputs": [],
   "source": []
  },
  {
   "cell_type": "code",
   "execution_count": null,
   "metadata": {},
   "outputs": [],
   "source": []
  },
  {
   "cell_type": "code",
   "execution_count": null,
   "metadata": {},
   "outputs": [],
   "source": []
  },
  {
   "cell_type": "code",
   "execution_count": null,
   "metadata": {},
   "outputs": [],
   "source": []
  },
  {
   "cell_type": "code",
   "execution_count": null,
   "metadata": {},
   "outputs": [],
   "source": []
  },
  {
   "cell_type": "code",
   "execution_count": null,
   "metadata": {},
   "outputs": [],
   "source": []
  },
  {
   "cell_type": "code",
   "execution_count": null,
   "metadata": {},
   "outputs": [],
   "source": []
  },
  {
   "cell_type": "code",
   "execution_count": null,
   "metadata": {},
   "outputs": [],
   "source": []
  },
  {
   "cell_type": "code",
   "execution_count": null,
   "metadata": {},
   "outputs": [],
   "source": []
  },
  {
   "cell_type": "code",
   "execution_count": null,
   "metadata": {},
   "outputs": [],
   "source": []
  },
  {
   "cell_type": "code",
   "execution_count": null,
   "metadata": {},
   "outputs": [],
   "source": []
  },
  {
   "cell_type": "code",
   "execution_count": null,
   "metadata": {},
   "outputs": [],
   "source": []
  },
  {
   "cell_type": "code",
   "execution_count": null,
   "metadata": {},
   "outputs": [],
   "source": []
  },
  {
   "cell_type": "code",
   "execution_count": null,
   "metadata": {},
   "outputs": [],
   "source": []
  },
  {
   "cell_type": "code",
   "execution_count": null,
   "metadata": {},
   "outputs": [],
   "source": []
  }
 ],
 "metadata": {
  "kernelspec": {
   "display_name": "Python 3",
   "language": "python",
   "name": "python3"
  },
  "language_info": {
   "codemirror_mode": {
    "name": "ipython",
    "version": 3
   },
   "file_extension": ".py",
   "mimetype": "text/x-python",
   "name": "python",
   "nbconvert_exporter": "python",
   "pygments_lexer": "ipython3",
   "version": "3.7.7"
  }
 },
 "nbformat": 4,
 "nbformat_minor": 4
}
