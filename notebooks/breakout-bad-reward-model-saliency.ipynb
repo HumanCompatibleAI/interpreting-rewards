{
 "cells": [
  {
   "cell_type": "markdown",
   "metadata": {},
   "source": [
    "# In this notebook, I'll train a reward model with some systematic noise added and see how this affects the interpretability of the reward model"
   ]
  },
  {
   "cell_type": "code",
   "execution_count": 1,
   "metadata": {},
   "outputs": [],
   "source": [
    "import os\n",
    "import sys\n",
    "import importlib\n",
    "from pathlib import Path\n",
    "from itertools import product, islice\n",
    "import h5py\n",
    "import random\n",
    "\n",
    "from tqdm.auto import tqdm\n",
    "\n",
    "import gym\n",
    "import numpy as np\n",
    "import matplotlib\n",
    "import matplotlib.pyplot as plt\n",
    "import scipy.ndimage\n",
    "import skimage.transform\n",
    "import torch as th\n",
    "import torch.nn as nn\n",
    "\n",
    "from tqdm.auto import tqdm\n",
    "\n",
    "from stable_baselines3.common.utils import set_random_seed\n",
    "from stable_baselines3.common.vec_env import VecEnvWrapper, VecEnv, DummyVecEnv\n",
    "from stable_baselines3.common.vec_env import VecTransposeImage\n",
    "\n",
    "sys.path.insert(1, \"../rl-baselines3-zoo\")\n",
    "import utils.import_envs  # noqa: F401 pylint: disable=unused-import\n",
    "from utils.utils import StoreDict\n",
    "from utils import ALGOS, create_test_env, get_latest_run_id, get_saved_hyperparams"
   ]
  },
  {
   "cell_type": "code",
   "execution_count": 2,
   "metadata": {},
   "outputs": [
    {
     "name": "stdout",
     "output_type": "stream",
     "text": [
      "Using device: cuda\n"
     ]
    }
   ],
   "source": [
    "########### Set Device ############\n",
    "device = th.device('cuda' if th.cuda.is_available() else 'cpu')\n",
    "dtype = th.float32\n",
    "th.set_default_dtype(dtype)\n",
    "print(\"Using device: {}\".format(device))"
   ]
  },
  {
   "cell_type": "code",
   "execution_count": 3,
   "metadata": {},
   "outputs": [],
   "source": [
    "env_id = \"BreakoutNoFrameskip-v4\"\n",
    "folder = \"../agents\"\n",
    "algo = \"a2c\"\n",
    "n_timesteps = 10000\n",
    "num_threads = -1\n",
    "n_envs = 1\n",
    "exp_id = 3\n",
    "verbose = 1\n",
    "no_render = False\n",
    "deterministic = False\n",
    "load_best = True\n",
    "load_checkpoint = None\n",
    "norm_reward = False\n",
    "seed = 0\n",
    "reward_log = ''\n",
    "env_kwargs = None"
   ]
  },
  {
   "cell_type": "code",
   "execution_count": 4,
   "metadata": {},
   "outputs": [
    {
     "name": "stdout",
     "output_type": "stream",
     "text": [
      "Stacking 4 frames\n"
     ]
    }
   ],
   "source": [
    "# Sanity checks\n",
    "if exp_id > 0:\n",
    "    log_path = os.path.join(folder, algo, '{}_{}'.format(env_id, exp_id))\n",
    "else:\n",
    "    log_path = os.path.join(folder, algo)\n",
    "    \n",
    "found = False\n",
    "for ext in ['zip']:\n",
    "    model_path = os.path.join(log_path, f'{env_id}.{ext}')\n",
    "    found = os.path.isfile(model_path)\n",
    "    if found:\n",
    "        break\n",
    "\n",
    "if load_best:\n",
    "    model_path = os.path.join(log_path, \"best_model.zip\")\n",
    "    found = os.path.isfile(model_path)\n",
    "\n",
    "if load_checkpoint is not None:\n",
    "    model_path = os.path.join(log_path, f\"rl_model_{load_checkpoint}_steps.zip\")\n",
    "    found = os.path.isfile(model_path)\n",
    "\n",
    "if not found:\n",
    "    raise ValueError(f\"No model found for {algo} on {env_id}, path: {model_path}\")\n",
    "\n",
    "if algo in ['dqn', 'ddpg', 'sac', 'td3']:\n",
    "    n_envs = 1\n",
    "\n",
    "set_random_seed(seed)\n",
    "\n",
    "if num_threads > 0:\n",
    "    if verbose > 1:\n",
    "        print(f\"Setting torch.num_threads to {num_threads}\")\n",
    "    th.set_num_threads(num_threads)\n",
    "\n",
    "is_atari = 'NoFrameskip' in env_id\n",
    "\n",
    "stats_path = os.path.join(log_path, env_id)\n",
    "hyperparams, stats_path = get_saved_hyperparams(stats_path, norm_reward=norm_reward, test_mode=True)\n",
    "env_kwargs = {} if env_kwargs is None else env_kwargs\n",
    "\n",
    "log_dir = reward_log if reward_log != '' else None\n",
    "\n",
    "env = create_test_env(env_id, n_envs=n_envs,\n",
    "                      stats_path=stats_path, seed=seed, log_dir=log_dir,\n",
    "                      should_render=not no_render,\n",
    "                      hyperparams=hyperparams,\n",
    "                      env_kwargs=env_kwargs)\n",
    "\n",
    "model = ALGOS[algo].load(model_path, env=env)\n",
    "\n",
    "obs = env.reset()"
   ]
  },
  {
   "cell_type": "code",
   "execution_count": 5,
   "metadata": {},
   "outputs": [],
   "source": [
    "class RewardData(th.utils.data.Dataset):\n",
    "    def __init__(self, train=True):\n",
    "        self.f = h5py.File(f\"../datasets/rewards_{env_id}.hdf5\", 'r')\n",
    "        if train:\n",
    "            self.group = self.f['train']\n",
    "        else:\n",
    "            self.group = self.f['test']\n",
    "    \n",
    "    def __getitem__(self, k):\n",
    "        if k % 2 == 0:\n",
    "            input = self.group['zeros-inputs'][k // 2]\n",
    "            label = self.group['zeros-labels'][k // 2]\n",
    "            return (input, label)\n",
    "        else:\n",
    "            input = self.group['ones-inputs'][k // 2]\n",
    "            label = self.group['ones-labels'][k // 2]\n",
    "            return (input, label)\n",
    "    \n",
    "    def __len__(self):\n",
    "        return self.group['ones-labels'].shape[0] + self.group['zeros-labels'].shape[0]\n",
    "    \n",
    "    def close(self):\n",
    "        self.f.close()\n",
    "        \n",
    "class RewardModel(nn.Module):\n",
    "    \"\"\"A reward model using an A2C feature extractor\"\"\"\n",
    "    def __init__(self, env, device):\n",
    "        super(RewardModel, self).__init__()\n",
    "        self.ac_model = ALGOS['a2c']('CnnPolicy', env).policy\n",
    "        self.reward_net = nn.Linear(512, 1).to(device)\n",
    "        self.device = device\n",
    "    \n",
    "    def forward(self, obs):\n",
    "        obs_transposed = VecTransposeImage.transpose_image(obs)\n",
    "        latent, _, _= self.ac_model._get_latent(th.tensor(obs_transposed).to(self.device))\n",
    "        return self.reward_net(latent)\n",
    "    \n",
    "    def freeze_extractor(self):\n",
    "        for p in self.ac_model.policy.features_extractor.parameters():\n",
    "            p.requires_grad = False"
   ]
  },
  {
   "cell_type": "code",
   "execution_count": 6,
   "metadata": {},
   "outputs": [],
   "source": [
    "def create_circular_mask(h, w, center, radius=5):\n",
    "#     Y, X = np.ogrid[:h, :w]\n",
    "#     dist_from_center = np.sqrt((X - center[1])**2 + (Y-center[0])**2)\n",
    "#     mask = dist_from_center <= radius\n",
    "    mask = np.zeros((h, w))\n",
    "    y, x = center\n",
    "    mask[y-radius//5:y+radius//2, x-radius//2:x+radius//2] = 1.0\n",
    "    return np.array(mask, dtype=np.float32)\n",
    "\n",
    "def max_k(k, iterator, key=lambda x: x):\n",
    "    items = [None for _ in range(k)]\n",
    "    values = [-float('inf') for _ in range(k)]\n",
    "    for item in iterator:\n",
    "        val = key(item)\n",
    "        for i in range(k):\n",
    "            if val > values[i]:\n",
    "                items.insert(i, item)\n",
    "                items.pop()\n",
    "                values.insert(i, val)\n",
    "                values.pop()\n",
    "                break\n",
    "    return items\n",
    "\n",
    "def max_k_and_values(k, iterator, key=lambda x: x):\n",
    "    items = [None for _ in range(k)]\n",
    "    values = [-float('inf') for _ in range(k)]\n",
    "    for item in iterator:\n",
    "        val = key(item)\n",
    "        for i in range(k):\n",
    "            if val > values[i]:\n",
    "                items.insert(i, item)\n",
    "                items.pop()\n",
    "                values.insert(i, val)\n",
    "                values.pop()\n",
    "                break\n",
    "    return list(zip(items, values))\n",
    "\n",
    "loss_fn = th.nn.MSELoss()\n",
    "def policy_saliency(model, obs, loc, radius=5, device='cuda'):\n",
    "    obs_transposed = VecTransposeImage.transpose_image(np.copy(obs))\n",
    "    latent, _, _ = model.policy._get_latent(th.from_numpy(obs_transposed).to(device))\n",
    "    baseline = model.policy.action_net(latent)\n",
    "    M = create_circular_mask(84, 84, center=loc, radius=radius)\n",
    "    for k in range(4):\n",
    "        img = obs_transposed[0, k, :, :]\n",
    "        A = scipy.ndimage.gaussian_filter(img, 3)\n",
    "        obs_transposed[0, k, :, :] = img*(1 - M) + A*M\n",
    "    latent, _, _ = model.policy._get_latent(th.from_numpy(obs_transposed).to(device))\n",
    "    modified = model.policy.action_net(latent)\n",
    "    return loss_fn(baseline, modified).item()\n",
    "\n",
    "def value_saliency(model, obs, loc, radius=5, device='cuda'):\n",
    "    obs_transposed = VecTransposeImage.transpose_image(np.copy(obs))\n",
    "    latent, _, _ = model.policy._get_latent(th.from_numpy(obs_transposed).to(device))\n",
    "    baseline = model.policy.value_net(latent)\n",
    "    M = create_circular_mask(84, 84, center=loc, radius=radius)\n",
    "    for k in range(4):\n",
    "        img = obs_transposed[0, k, :, :]\n",
    "        A = scipy.ndimage.gaussian_filter(img, 3)\n",
    "        obs_transposed[0, k, :, :] = img*(1 - M) + A*M\n",
    "    latent, _, _ = model.policy._get_latent(th.from_numpy(obs_transposed).to(device))\n",
    "    modified = model.policy.value_net(latent)\n",
    "    return loss_fn(baseline, modified).item()\n",
    "\n",
    "def reward_model_saliency(model: RewardModel, obs, loc, radius=5, device='cuda'):\n",
    "    obs_copy = np.copy(obs)\n",
    "    baseline = model(obs_copy)\n",
    "    M = create_circular_mask(84, 84, center=loc, radius=radius)\n",
    "    for k in range(4):\n",
    "        img = obs_copy[0, :, :, k]\n",
    "        A = scipy.ndimage.gaussian_filter(img, 3)\n",
    "        obs_copy[0, :, :, k] = img*(1 - M) + A*M\n",
    "    modified = model(obs_copy)\n",
    "    return loss_fn(baseline, modified).item()\n",
    "\n",
    "def invert_preprocessing(loc):\n",
    "    x, y = loc\n",
    "    return (int(210/84*x), int(160/84*y))"
   ]
  },
  {
   "cell_type": "code",
   "execution_count": 7,
   "metadata": {},
   "outputs": [],
   "source": [
    "obs = env.reset()\n",
    "for i in range(300):\n",
    "    action, _states = model.predict(obs, deterministic=False)\n",
    "    obs, reward, done, info = env.step(action)\n",
    "    if done:\n",
    "        break"
   ]
  },
  {
   "cell_type": "code",
   "execution_count": 8,
   "metadata": {},
   "outputs": [
    {
     "data": {
      "text/plain": [
       "<matplotlib.image.AxesImage at 0x7f77cdc8cf50>"
      ]
     },
     "execution_count": 8,
     "metadata": {},
     "output_type": "execute_result"
    },
    {
     "data": {
      "image/png": "[encoded data removed]",
      "text/plain": [
       "<Figure size 432x288 with 1 Axes>"
      ]
     },
     "metadata": {
      "needs_background": "light"
     },
     "output_type": "display_data"
    }
   ],
   "source": [
    "plt.imshow(env.get_images()[0])"
   ]
  },
  {
   "cell_type": "markdown",
   "metadata": {},
   "source": [
    "## Create randomly-initialized reward model, sample its mean and std, and define reshaping function so that the model outputs values with mean 0 and std 1. (technically, the model does not output this, but we define a function ot transform its output to have these statistics)"
   ]
  },
  {
   "cell_type": "code",
   "execution_count": 9,
   "metadata": {},
   "outputs": [],
   "source": [
    "train = RewardData(train=True)\n",
    "test = RewardData(train=False)\n",
    "\n",
    "train_loader = th.utils.data.DataLoader(train, batch_size=20, shuffle=True, num_workers=0)\n",
    "test_loader = th.utils.data.DataLoader(test, batch_size=20, shuffle=False, num_workers=0)"
   ]
  },
  {
   "cell_type": "code",
   "execution_count": 28,
   "metadata": {},
   "outputs": [
    {
     "data": {
      "application/vnd.jupyter.widget-view+json": {
       "model_id": "8c2e880cb1054418a062728872a23230",
       "version_major": 2,
       "version_minor": 0
      },
      "text/plain": [
       "HBox(children=(FloatProgress(value=0.0, max=5000.0), HTML(value='')))"
      ]
     },
     "metadata": {},
     "output_type": "display_data"
    },
    {
     "name": "stderr",
     "output_type": "stream",
     "text": [
      "/home/eric/Code/miniconda3/envs/interp/lib/python3.7/site-packages/ipykernel_launcher.py:35: UserWarning: To copy construct from a tensor, it is recommended to use sourceTensor.clone().detach() or sourceTensor.clone().detach().requires_grad_(True), rather than torch.tensor(sourceTensor).\n"
     ]
    },
    {
     "name": "stdout",
     "output_type": "stream",
     "text": [
      "\n"
     ]
    },
    {
     "data": {
      "application/vnd.jupyter.widget-view+json": {
       "model_id": "b6143ab87da04a92bfa13c4ae9188288",
       "version_major": 2,
       "version_minor": 0
      },
      "text/plain": [
       "HBox(children=(FloatProgress(value=0.0, max=5000.0), HTML(value='')))"
      ]
     },
     "metadata": {},
     "output_type": "display_data"
    },
    {
     "name": "stdout",
     "output_type": "stream",
     "text": [
      "\n",
      "Loss after training without noise: 0.029149910435080528\n"
     ]
    },
    {
     "data": {
      "application/vnd.jupyter.widget-view+json": {
       "model_id": "b6c33205b01d418ba5351fd0e13ce7f2",
       "version_major": 2,
       "version_minor": 0
      },
      "text/plain": [
       "HBox(children=(FloatProgress(value=0.0, max=3.0), HTML(value='')))"
      ]
     },
     "metadata": {},
     "output_type": "display_data"
    },
    {
     "name": "stdout",
     "output_type": "stream",
     "text": [
      "Alpha: 0.2 | Testing Loss: 0.05681\n",
      "Alpha: 0.2 | Testing Loss: 0.06827\n",
      "Alpha: 0.2 | Testing Loss: 0.06480\n",
      "\n"
     ]
    },
    {
     "data": {
      "application/vnd.jupyter.widget-view+json": {
       "model_id": "9d050e27c86445eaa03745022b593983",
       "version_major": 2,
       "version_minor": 0
      },
      "text/plain": [
       "HBox(children=(FloatProgress(value=0.0, max=5000.0), HTML(value='')))"
      ]
     },
     "metadata": {},
     "output_type": "display_data"
    },
    {
     "name": "stdout",
     "output_type": "stream",
     "text": [
      "\n"
     ]
    },
    {
     "data": {
      "application/vnd.jupyter.widget-view+json": {
       "model_id": "2385ecc8e634420ea2f5cf67252ad516",
       "version_major": 2,
       "version_minor": 0
      },
      "text/plain": [
       "HBox(children=(FloatProgress(value=0.0, max=5000.0), HTML(value='')))"
      ]
     },
     "metadata": {},
     "output_type": "display_data"
    },
    {
     "name": "stdout",
     "output_type": "stream",
     "text": [
      "\n",
      "Loss after training without noise: 0.028051171451807022\n"
     ]
    },
    {
     "data": {
      "application/vnd.jupyter.widget-view+json": {
       "model_id": "e1018d598b0d44c8b645c9fcf7801a31",
       "version_major": 2,
       "version_minor": 0
      },
      "text/plain": [
       "HBox(children=(FloatProgress(value=0.0, max=3.0), HTML(value='')))"
      ]
     },
     "metadata": {},
     "output_type": "display_data"
    },
    {
     "name": "stdout",
     "output_type": "stream",
     "text": [
      "Alpha: 0.4 | Testing Loss: 0.05925\n",
      "Alpha: 0.4 | Testing Loss: 0.07892\n",
      "Alpha: 0.4 | Testing Loss: 0.06602\n",
      "\n"
     ]
    },
    {
     "data": {
      "application/vnd.jupyter.widget-view+json": {
       "model_id": "551a7d3ada4d4a65890a59a9283430be",
       "version_major": 2,
       "version_minor": 0
      },
      "text/plain": [
       "HBox(children=(FloatProgress(value=0.0, max=5000.0), HTML(value='')))"
      ]
     },
     "metadata": {},
     "output_type": "display_data"
    },
    {
     "name": "stdout",
     "output_type": "stream",
     "text": [
      "\n"
     ]
    },
    {
     "data": {
      "application/vnd.jupyter.widget-view+json": {
       "model_id": "5602f2f65f194590a024814b44fb4f46",
       "version_major": 2,
       "version_minor": 0
      },
      "text/plain": [
       "HBox(children=(FloatProgress(value=0.0, max=5000.0), HTML(value='')))"
      ]
     },
     "metadata": {},
     "output_type": "display_data"
    },
    {
     "name": "stdout",
     "output_type": "stream",
     "text": [
      "\n",
      "Loss after training without noise: 0.02800794690847397\n"
     ]
    },
    {
     "data": {
      "application/vnd.jupyter.widget-view+json": {
       "model_id": "017922d63c774bb7b2b954c57d2f493f",
       "version_major": 2,
       "version_minor": 0
      },
      "text/plain": [
       "HBox(children=(FloatProgress(value=0.0, max=3.0), HTML(value='')))"
      ]
     },
     "metadata": {},
     "output_type": "display_data"
    },
    {
     "name": "stdout",
     "output_type": "stream",
     "text": [
      "Alpha: 1.5 | Testing Loss: 3.56912\n",
      "Alpha: 1.5 | Testing Loss: 3.16158\n",
      "Alpha: 1.5 | Testing Loss: 3.19640\n",
      "\n"
     ]
    }
   ],
   "source": [
    "for alpha in [0.2, 0.4, 1.5]:\n",
    "    \n",
    "    rm_noise = RewardModel(env, device) # define noisy network\n",
    "    \n",
    "    predicted_rewards = []\n",
    "    obs = env.reset()\n",
    "    for i in range(1000):\n",
    "        action, _states = model.predict(obs, deterministic=False)\n",
    "        obs, reward, done, info = env.step(action)\n",
    "        predicted_rewards.append(rm_noise(obs).item())\n",
    "        if done:\n",
    "            break\n",
    "    predicted_rewards = np.array(predicted_rewards)\n",
    "\n",
    "    m, s = predicted_rewards.mean(), predicted_rewards.std()\n",
    "\n",
    "    def shaped(x):\n",
    "        return (x - m) * 1/s\n",
    "    \n",
    "    rm = RewardModel(env, device) # define the real reward network\n",
    "    loss_fn = th.nn.MSELoss()\n",
    "    optimizer = th.optim.Adam(rm.parameters())\n",
    "    \n",
    "    for epoch in range(2):\n",
    "        for samples, targets in tqdm(train_loader):\n",
    "            optimizer.zero_grad()\n",
    "            batch_loss = loss_fn(rm(samples), targets.to(device))\n",
    "            batch_loss.backward()\n",
    "            optimizer.step()\n",
    "            \n",
    "    outof = 0\n",
    "    testing_loss = 0\n",
    "    with th.no_grad():\n",
    "        for samples, target in islice(test_loader, 500):\n",
    "            testing_loss += loss_fn(rm(samples), targets.to(device))\n",
    "            outof += len(target)\n",
    "    testing_loss = float(testing_loss / outof)\n",
    "    print(\"Loss after training without noise: {}\".format(testing_loss))\n",
    "    \n",
    "    for epoch in tqdm(range(3)):\n",
    "        for samples, targets in islice(train_loader, 500):\n",
    "            optimizer.zero_grad()\n",
    "            noise = shaped(rm_noise(samples))\n",
    "            targets = targets.to(device) + alpha*noise\n",
    "            batch_loss = loss_fn(rm(samples), targets.to(device))\n",
    "            batch_loss.backward()\n",
    "            optimizer.step()\n",
    "        outof = 0\n",
    "        testing_loss = 0\n",
    "        with th.no_grad():\n",
    "            for samples, target in islice(train_loader, 500):\n",
    "                testing_loss += loss_fn(rm(samples), targets.to(device))\n",
    "                outof += len(target)\n",
    "        testing_loss = float(testing_loss / outof)\n",
    "        print(\"Alpha: {} | Testing Loss: {:.5f}\".format(alpha, testing_loss))\n",
    "    th.save(rm.state_dict(), f\"../reward-models/breakout_rm_alpha{alpha}.pt\")\n",
    "    "
   ]
  },
  {
   "cell_type": "code",
   "execution_count": 34,
   "metadata": {},
   "outputs": [
    {
     "data": {
      "text/plain": [
       "<All keys matched successfully>"
      ]
     },
     "execution_count": 34,
     "metadata": {},
     "output_type": "execute_result"
    }
   ],
   "source": [
    "rm = RewardModel(env, device)\n",
    "rm.load_state_dict(th.load(\"../reward-models/breakout_rm_alpha1.5.pt\"))"
   ]
  },
  {
   "cell_type": "code",
   "execution_count": 36,
   "metadata": {},
   "outputs": [
    {
     "name": "stdout",
     "output_type": "stream",
     "text": [
      "True: 0.000 | Predicted: 6.337\n",
      "True: 0.000 | Predicted: -5.484\n",
      "True: 0.000 | Predicted: -3.327\n",
      "True: 0.000 | Predicted: -2.755\n",
      "True: 0.000 | Predicted: -2.607\n",
      "True: 0.000 | Predicted: -2.871\n",
      "True: 0.000 | Predicted: -2.454\n",
      "True: 0.000 | Predicted: -3.220\n",
      "True: 0.000 | Predicted: -3.348\n",
      "True: 0.000 | Predicted: -2.608\n",
      "True: 0.000 | Predicted: -3.173\n",
      "True: 0.000 | Predicted: -2.647\n",
      "True: 0.000 | Predicted: -2.725\n",
      "True: 0.000 | Predicted: -3.206\n",
      "True: 0.000 | Predicted: -2.927\n",
      "True: 0.000 | Predicted: -2.421\n",
      "True: 0.000 | Predicted: -2.130\n",
      "True: 0.000 | Predicted: -2.350\n",
      "True: 0.000 | Predicted: -2.754\n",
      "True: 0.000 | Predicted: -3.138\n",
      "True: 0.000 | Predicted: -2.791\n",
      "True: 0.000 | Predicted: -3.088\n",
      "True: 0.000 | Predicted: -2.550\n",
      "True: 0.000 | Predicted: -1.992\n",
      "True: 0.000 | Predicted: -2.396\n",
      "True: 0.000 | Predicted: -1.906\n",
      "True: 1.000 | Predicted: -2.359\n",
      "True: 0.000 | Predicted: -1.958\n",
      "True: 0.000 | Predicted: -2.119\n",
      "True: 0.000 | Predicted: -3.032\n",
      "True: 0.000 | Predicted: -2.696\n",
      "True: 0.000 | Predicted: -3.231\n",
      "True: 0.000 | Predicted: -2.979\n",
      "True: 0.000 | Predicted: -3.424\n",
      "True: 0.000 | Predicted: -3.110\n",
      "True: 0.000 | Predicted: -2.846\n",
      "True: 0.000 | Predicted: -2.513\n",
      "True: 0.000 | Predicted: -1.997\n",
      "True: 0.000 | Predicted: -1.948\n",
      "True: 0.000 | Predicted: -1.844\n",
      "True: 0.000 | Predicted: -2.096\n",
      "True: 0.000 | Predicted: -2.224\n",
      "True: 0.000 | Predicted: -2.341\n",
      "True: 0.000 | Predicted: -2.564\n",
      "True: 0.000 | Predicted: -2.754\n",
      "True: 0.000 | Predicted: -2.739\n",
      "True: 0.000 | Predicted: -2.796\n",
      "True: 0.000 | Predicted: -2.452\n",
      "True: 0.000 | Predicted: -2.452\n",
      "True: 0.000 | Predicted: -2.494\n"
     ]
    }
   ],
   "source": [
    "obs = env.reset()\n",
    "for i in range(50):\n",
    "    action, _states = model.predict(obs, deterministic=False)\n",
    "    obs, reward, done, info = env.step(action)\n",
    "    if done:\n",
    "        break\n",
    "    print(\"True: {:.3f} | Predicted: {:.3f}\".format(reward[0], rm(obs).item()))\n",
    "        "
   ]
  },
  {
   "cell_type": "code",
   "execution_count": 38,
   "metadata": {},
   "outputs": [
    {
     "name": "stderr",
     "output_type": "stream",
     "text": [
      "Clipping input data to the valid range for imshow with RGB data ([0..1] for floats or [0..255] for integers).\n",
      "Clipping input data to the valid range for imshow with RGB data ([0..1] for floats or [0..255] for integers).\n",
      "Clipping input data to the valid range for imshow with RGB data ([0..1] for floats or [0..255] for integers).\n",
      "Clipping input data to the valid range for imshow with RGB data ([0..1] for floats or [0..255] for integers).\n",
      "Clipping input data to the valid range for imshow with RGB data ([0..1] for floats or [0..255] for integers).\n",
      "Clipping input data to the valid range for imshow with RGB data ([0..1] for floats or [0..255] for integers).\n",
      "Clipping input data to the valid range for imshow with RGB data ([0..1] for floats or [0..255] for integers).\n",
      "Clipping input data to the valid range for imshow with RGB data ([0..1] for floats or [0..255] for integers).\n"
     ]
    },
    {
     "data": {
      "image/png": "[encoded data removed]",
      "text/plain": [
       "<Figure size 792x576 with 8 Axes>"
      ]
     },
     "metadata": {
      "needs_background": "light"
     },
     "output_type": "display_data"
    }
   ],
   "source": [
    "plt.figure(figsize=(11, 8))\n",
    "\n",
    "radius = 8\n",
    "stride = 3\n",
    "k = 0\n",
    "N = 8\n",
    "\n",
    "obs = env.reset()\n",
    "while True:\n",
    "    action, _states = model.predict(obs, deterministic=False)\n",
    "    obs, reward, done, info = env.step(action)\n",
    "    if random.randint(0, 50) == 0:\n",
    "        plt.subplot(2, N//2, k+1)\n",
    "        pairs = max_k_and_values(10, product(range(0, 84, stride), range(0, 84, stride)), key=lambda e: reward_model_saliency(rm, obs, e, radius=radius))\n",
    "        screenshot = env.get_images()[0]\n",
    "        screenshot = screenshot / screenshot.max()\n",
    "        # max_value = pairs[0][1]\n",
    "        heatmap = np.zeros((210, 160, 3))\n",
    "        for loc, value in pairs:\n",
    "            r, g, b, a = matplotlib.cm.hot(value)\n",
    "            region = create_circular_mask(84, 84, center=loc, radius=radius)\n",
    "            region = skimage.transform.resize(region, (210, 160))\n",
    "            spot = np.zeros((210, 160, 3))\n",
    "            spot[:, :, 0] = r * region\n",
    "            spot[:, :, 1] = g * region\n",
    "            spot[:, :, 2] = b * region\n",
    "            spot = spot * a\n",
    "            heatmap = spot + (1-spot)*heatmap\n",
    "        #     screenshot = screenshot / screenshot.max()\n",
    "        #     screenshot[:, :, 2] += region * a\n",
    "        screenshot = screenshot + heatmap\n",
    "        plt.imshow(screenshot)\n",
    "        k += 1\n",
    "    if k == N:\n",
    "        break"
   ]
  },
  {
   "cell_type": "code",
   "execution_count": null,
   "metadata": {},
   "outputs": [],
   "source": []
  },
  {
   "cell_type": "code",
   "execution_count": null,
   "metadata": {},
   "outputs": [],
   "source": []
  },
  {
   "cell_type": "code",
   "execution_count": null,
   "metadata": {},
   "outputs": [],
   "source": []
  },
  {
   "cell_type": "code",
   "execution_count": null,
   "metadata": {},
   "outputs": [],
   "source": []
  },
  {
   "cell_type": "code",
   "execution_count": null,
   "metadata": {},
   "outputs": [],
   "source": []
  },
  {
   "cell_type": "code",
   "execution_count": 11,
   "metadata": {},
   "outputs": [],
   "source": [
    "matplotlib.use(\"Agg\")\n",
    "import matplotlib.animation as manimation"
   ]
  },
  {
   "cell_type": "markdown",
   "metadata": {},
   "source": [
    "# The order is:\n",
    "\n",
    "#1 = most noise\n",
    "#2 = no noise\n",
    "#3 = some noise"
   ]
  },
  {
   "cell_type": "code",
   "execution_count": 44,
   "metadata": {},
   "outputs": [
    {
     "data": {
      "application/vnd.jupyter.widget-view+json": {
       "model_id": "8c61bdf0333f4030be108b3dda24fb4f",
       "version_major": 2,
       "version_minor": 0
      },
      "text/plain": [
       "HBox(children=(FloatProgress(value=0.0, max=30.0), HTML(value='')))"
      ]
     },
     "metadata": {},
     "output_type": "display_data"
    },
    {
     "name": "stdout",
     "output_type": "stream",
     "text": [
      "\n"
     ]
    },
    {
     "data": {
      "image/png": "[encoded data removed]",
      "text/plain": [
       "<Figure size 720x360 with 4 Axes>"
      ]
     },
     "metadata": {
      "needs_background": "light"
     },
     "output_type": "display_data"
    }
   ],
   "source": [
    "alphas = [0.4, 1.5]\n",
    "\n",
    "radius = 8\n",
    "stride = 3\n",
    "\n",
    "TIMESTEPS = 30\n",
    "\n",
    "FFMpegWriter = manimation.writers['ffmpeg']\n",
    "metadata = dict(title=f\"Can you tell which is best?\", artist='Matplotlib',\n",
    "                comment='Movie support!')\n",
    "writer = FFMpegWriter(fps=14, metadata=metadata)\n",
    "\n",
    "fig, (axes) = plt.subplots(1, 4, gridspec_kw={'width_ratios': [1, 1, 1, 1]}, figsize=(10, 5))\n",
    "axes[0].set_title(\"No Heatmaps\")\n",
    "for k in range(1, 4):\n",
    "    axes[k].set_title(f\"#{k}\")\n",
    "frames = [ax.imshow(env.get_images()[0]) for ax in axes]\n",
    "\n",
    "models = []\n",
    "\n",
    "rm = RewardModel(env, device)\n",
    "rm.load_state_dict(th.load(f\"../reward-models/breakout_rm_alpha1.5.pt\"))\n",
    "models.append(rm)\n",
    "\n",
    "rm = RewardModel(env, device)\n",
    "rm.load_state_dict(th.load(f\"../reward-models/breakout_rm_v1.pt\"))\n",
    "models.append(rm)\n",
    "\n",
    "rm = RewardModel(env, device)\n",
    "rm.load_state_dict(th.load(f\"../reward-models/breakout_rm_alpha0.4.pt\"))\n",
    "models.append(rm)\n",
    "\n",
    "obs = env.reset()\n",
    "with writer.saving(fig, \"../videos/breakout/comparing_reward_models.mp4\", dpi=200):\n",
    "    for i in tqdm(range(TIMESTEPS)):\n",
    "        action, _states = model.predict(obs, deterministic=False)\n",
    "        obs, reward, done, info = env.step(action)\n",
    "        if done:\n",
    "            break\n",
    "        for k in range(3):\n",
    "            pairs = max_k_and_values(10, product(range(0, 84, stride), range(0, 84, stride)), key=lambda e: reward_model_saliency(models[k], obs, e, radius=radius))\n",
    "            screenshot = env.get_images()[0]\n",
    "            screenshot = screenshot / screenshot.max()\n",
    "#             max_value = pairs[0][1]\n",
    "#             max_saliencies.append(max_value)\n",
    "            for loc, value in pairs:\n",
    "                r, g, b, a = matplotlib.cm.hot(value)\n",
    "                region = create_circular_mask(84, 84, center=loc, radius=radius)\n",
    "                region = skimage.transform.resize(region, (210, 160))\n",
    "                spot = np.zeros((210, 160, 3))\n",
    "                spot[:, :, 0] = r * region\n",
    "                spot[:, :, 1] = g * region\n",
    "                spot[:, :, 2] = b * region\n",
    "                spot = spot * a\n",
    "                screenshot = spot + (1-spot)*screenshot\n",
    "                screenshot = screenshot / screenshot.max()\n",
    "            frames[k+1].set_data(screenshot)\n",
    "        frames[0].set_data(env.get_images()[0])\n",
    "        writer.grab_frame()\n",
    "#         plt.subplots_adjust(wspace=0.2)"
   ]
  },
  {
   "cell_type": "markdown",
   "metadata": {},
   "source": [
    "# Eh 0.4 isn't enough. Let's do 0.6 now"
   ]
  },
  {
   "cell_type": "code",
   "execution_count": 45,
   "metadata": {},
   "outputs": [
    {
     "data": {
      "application/vnd.jupyter.widget-view+json": {
       "model_id": "8b38e96e864e4207a4ad0de63695af0b",
       "version_major": 2,
       "version_minor": 0
      },
      "text/plain": [
       "HBox(children=(FloatProgress(value=0.0, max=5000.0), HTML(value='')))"
      ]
     },
     "metadata": {},
     "output_type": "display_data"
    },
    {
     "name": "stderr",
     "output_type": "stream",
     "text": [
      "/home/eric/Code/miniconda3/envs/interp/lib/python3.7/site-packages/ipykernel_launcher.py:35: UserWarning: To copy construct from a tensor, it is recommended to use sourceTensor.clone().detach() or sourceTensor.clone().detach().requires_grad_(True), rather than torch.tensor(sourceTensor).\n"
     ]
    },
    {
     "name": "stdout",
     "output_type": "stream",
     "text": [
      "\n"
     ]
    },
    {
     "data": {
      "application/vnd.jupyter.widget-view+json": {
       "model_id": "ddabb1db8a57465595f82c8e3a6b863a",
       "version_major": 2,
       "version_minor": 0
      },
      "text/plain": [
       "HBox(children=(FloatProgress(value=0.0, max=5000.0), HTML(value='')))"
      ]
     },
     "metadata": {},
     "output_type": "display_data"
    },
    {
     "name": "stdout",
     "output_type": "stream",
     "text": [
      "\n",
      "Loss after training without noise: 0.035702310502529144\n"
     ]
    },
    {
     "data": {
      "application/vnd.jupyter.widget-view+json": {
       "model_id": "64224423f0014392b24fc0e1af52e5bf",
       "version_major": 2,
       "version_minor": 0
      },
      "text/plain": [
       "HBox(children=(FloatProgress(value=0.0, max=3.0), HTML(value='')))"
      ]
     },
     "metadata": {},
     "output_type": "display_data"
    },
    {
     "name": "stdout",
     "output_type": "stream",
     "text": [
      "Alpha: 0.6 | Testing Loss: 0.09416\n",
      "Alpha: 0.6 | Testing Loss: 0.16782\n",
      "Alpha: 0.6 | Testing Loss: 0.12992\n",
      "\n"
     ]
    }
   ],
   "source": [
    "for alpha in [0.6]:\n",
    "    \n",
    "    rm_noise = RewardModel(env, device) # define noisy network\n",
    "    \n",
    "    predicted_rewards = []\n",
    "    obs = env.reset()\n",
    "    for i in range(1000):\n",
    "        action, _states = model.predict(obs, deterministic=False)\n",
    "        obs, reward, done, info = env.step(action)\n",
    "        predicted_rewards.append(rm_noise(obs).item())\n",
    "        if done:\n",
    "            break\n",
    "    predicted_rewards = np.array(predicted_rewards)\n",
    "\n",
    "    m, s = predicted_rewards.mean(), predicted_rewards.std()\n",
    "\n",
    "    def shaped(x):\n",
    "        return (x - m) * 1/s\n",
    "    \n",
    "    rm = RewardModel(env, device) # define the real reward network\n",
    "    loss_fn = th.nn.MSELoss()\n",
    "    optimizer = th.optim.Adam(rm.parameters())\n",
    "    \n",
    "    for epoch in range(2):\n",
    "        for samples, targets in tqdm(train_loader):\n",
    "            optimizer.zero_grad()\n",
    "            batch_loss = loss_fn(rm(samples), targets.to(device))\n",
    "            batch_loss.backward()\n",
    "            optimizer.step()\n",
    "            \n",
    "    outof = 0\n",
    "    testing_loss = 0\n",
    "    with th.no_grad():\n",
    "        for samples, target in islice(test_loader, 500):\n",
    "            testing_loss += loss_fn(rm(samples), targets.to(device))\n",
    "            outof += len(target)\n",
    "    testing_loss = float(testing_loss / outof)\n",
    "    print(\"Loss after training without noise: {}\".format(testing_loss))\n",
    "    \n",
    "    for epoch in tqdm(range(3)):\n",
    "        for samples, targets in islice(train_loader, 500):\n",
    "            optimizer.zero_grad()\n",
    "            noise = shaped(rm_noise(samples))\n",
    "            targets = targets.to(device) + alpha*noise\n",
    "            batch_loss = loss_fn(rm(samples), targets.to(device))\n",
    "            batch_loss.backward()\n",
    "            optimizer.step()\n",
    "        outof = 0\n",
    "        testing_loss = 0\n",
    "        with th.no_grad():\n",
    "            for samples, target in islice(train_loader, 500):\n",
    "                testing_loss += loss_fn(rm(samples), targets.to(device))\n",
    "                outof += len(target)\n",
    "        testing_loss = float(testing_loss / outof)\n",
    "        print(\"Alpha: {} | Testing Loss: {:.5f}\".format(alpha, testing_loss))\n",
    "    th.save(rm.state_dict(), f\"../reward-models/breakout_rm_alpha{alpha}.pt\")\n",
    "    "
   ]
  },
  {
   "cell_type": "code",
   "execution_count": 12,
   "metadata": {},
   "outputs": [
    {
     "data": {
      "application/vnd.jupyter.widget-view+json": {
       "model_id": "f961c80c2da646c986063c6d92e893a3",
       "version_major": 2,
       "version_minor": 0
      },
      "text/plain": [
       "HBox(children=(FloatProgress(value=0.0, max=300.0), HTML(value='')))"
      ]
     },
     "metadata": {},
     "output_type": "display_data"
    },
    {
     "name": "stdout",
     "output_type": "stream",
     "text": [
      "\n"
     ]
    },
    {
     "data": {
      "image/png": "[encoded data removed]",
      "text/plain": [
       "<Figure size 720x360 with 4 Axes>"
      ]
     },
     "metadata": {
      "needs_background": "light"
     },
     "output_type": "display_data"
    }
   ],
   "source": [
    "radius = 8\n",
    "stride = 3\n",
    "\n",
    "TIMESTEPS = 300\n",
    "\n",
    "FFMpegWriter = manimation.writers['ffmpeg']\n",
    "metadata = dict(title=f\"Can you tell which is best?\", artist='Matplotlib',\n",
    "                comment='Movie support!')\n",
    "writer = FFMpegWriter(fps=14, metadata=metadata)\n",
    "\n",
    "fig, (axes) = plt.subplots(1, 4, gridspec_kw={'width_ratios': [1, 1, 1, 1]}, figsize=(10, 5))\n",
    "axes[0].set_title(\"No Heatmaps\")\n",
    "for k in range(1, 4):\n",
    "    axes[k].set_title(f\"#{k}\")\n",
    "frames = [ax.imshow(env.get_images()[0]) for ax in axes]\n",
    "\n",
    "models = []\n",
    "\n",
    "rm = RewardModel(env, device)\n",
    "rm.load_state_dict(th.load(f\"../reward-models/breakout_rm_alpha1.5.pt\"))\n",
    "models.append(rm)\n",
    "\n",
    "rm = RewardModel(env, device)\n",
    "rm.load_state_dict(th.load(f\"../reward-models/breakout_rm_v1.pt\"))\n",
    "models.append(rm)\n",
    "\n",
    "rm = RewardModel(env, device)\n",
    "rm.load_state_dict(th.load(f\"../reward-models/breakout_rm_alpha0.6.pt\"))\n",
    "models.append(rm)\n",
    "\n",
    "obs = env.reset()\n",
    "with writer.saving(fig, \"atariocclusion/comparing-noisy-reward-functions.mp4\", dpi=200):\n",
    "    for i in tqdm(range(TIMESTEPS)):\n",
    "        action, _states = model.predict(obs, deterministic=False)\n",
    "        obs, reward, done, info = env.step(action)\n",
    "        if done:\n",
    "            env.reset()\n",
    "        for k in range(3):\n",
    "            pairs = max_k_and_values(10, product(range(0, 84, stride), range(0, 84, stride)), key=lambda e: reward_model_saliency(models[k], obs, e, radius=radius))\n",
    "            screenshot = env.get_images()[0]\n",
    "            screenshot = screenshot / screenshot.max()\n",
    "#             max_value = pairs[0][1]\n",
    "#             max_saliencies.append(max_value)\n",
    "            for loc, value in pairs:\n",
    "                r, g, b, a = matplotlib.cm.hot(value)\n",
    "                region = create_circular_mask(84, 84, center=loc, radius=radius)\n",
    "                region = skimage.transform.resize(region, (210, 160))\n",
    "                spot = np.zeros((210, 160, 3))\n",
    "                spot[:, :, 0] = r * region\n",
    "                spot[:, :, 1] = g * region\n",
    "                spot[:, :, 2] = b * region\n",
    "                spot = spot * a\n",
    "                screenshot = spot + (1-spot)*screenshot\n",
    "                screenshot = screenshot / screenshot.max()\n",
    "            frames[k+1].set_data(screenshot)\n",
    "        frames[0].set_data(env.get_images()[0])\n",
    "        writer.grab_frame()\n",
    "#         plt.subplots_adjust(wspace=0.2)"
   ]
  },
  {
   "cell_type": "code",
   "execution_count": null,
   "metadata": {},
   "outputs": [],
   "source": []
  },
  {
   "cell_type": "code",
   "execution_count": null,
   "metadata": {},
   "outputs": [],
   "source": []
  },
  {
   "cell_type": "code",
   "execution_count": null,
   "metadata": {},
   "outputs": [],
   "source": []
  },
  {
   "cell_type": "code",
   "execution_count": null,
   "metadata": {},
   "outputs": [],
   "source": []
  },
  {
   "cell_type": "code",
   "execution_count": null,
   "metadata": {},
   "outputs": [],
   "source": []
  },
  {
   "cell_type": "code",
   "execution_count": null,
   "metadata": {},
   "outputs": [],
   "source": []
  },
  {
   "cell_type": "code",
   "execution_count": null,
   "metadata": {},
   "outputs": [],
   "source": []
  },
  {
   "cell_type": "code",
   "execution_count": null,
   "metadata": {},
   "outputs": [],
   "source": []
  },
  {
   "cell_type": "code",
   "execution_count": null,
   "metadata": {},
   "outputs": [],
   "source": []
  },
  {
   "cell_type": "code",
   "execution_count": null,
   "metadata": {},
   "outputs": [],
   "source": []
  },
  {
   "cell_type": "code",
   "execution_count": null,
   "metadata": {},
   "outputs": [],
   "source": []
  },
  {
   "cell_type": "code",
   "execution_count": null,
   "metadata": {},
   "outputs": [],
   "source": []
  },
  {
   "cell_type": "code",
   "execution_count": 9,
   "metadata": {},
   "outputs": [],
   "source": [
    "rm_noise = RewardModel(env, device)\n",
    "\n",
    "predicted_rewards = []\n",
    "obs = env.reset()\n",
    "for i in range(1000):\n",
    "    action, _states = model.predict(obs, deterministic=False)\n",
    "    obs, reward, done, info = env.step(action)\n",
    "    predicted_rewards.append(rm_noise(obs).item())\n",
    "    if done:\n",
    "        break\n",
    "predicted_rewards = np.array(predicted_rewards)\n",
    "\n",
    "m, s = predicted_rewards.mean(), predicted_rewards.std()\n",
    "\n",
    "def shaped(x):\n",
    "    return (x - m) * 1/s"
   ]
  },
  {
   "cell_type": "code",
   "execution_count": 10,
   "metadata": {},
   "outputs": [
    {
     "data": {
      "text/plain": [
       "(1.8474111129762604e-16, 1.0)"
      ]
     },
     "execution_count": 10,
     "metadata": {},
     "output_type": "execute_result"
    }
   ],
   "source": [
    "shaped(predicted_rewards).mean(), shaped(predicted_rewards).std()"
   ]
  },
  {
   "cell_type": "code",
   "execution_count": 11,
   "metadata": {},
   "outputs": [
    {
     "name": "stdout",
     "output_type": "stream",
     "text": [
      "tensor([[-3.7175]], device='cuda:0', grad_fn=<DivBackward0>)\n",
      "tensor([[1.2648]], device='cuda:0', grad_fn=<DivBackward0>)\n",
      "tensor([[1.5971]], device='cuda:0', grad_fn=<DivBackward0>)\n",
      "tensor([[1.8105]], device='cuda:0', grad_fn=<DivBackward0>)\n",
      "tensor([[2.2557]], device='cuda:0', grad_fn=<DivBackward0>)\n",
      "tensor([[2.2804]], device='cuda:0', grad_fn=<DivBackward0>)\n",
      "tensor([[1.0624]], device='cuda:0', grad_fn=<DivBackward0>)\n",
      "tensor([[1.1314]], device='cuda:0', grad_fn=<DivBackward0>)\n",
      "tensor([[0.0841]], device='cuda:0', grad_fn=<DivBackward0>)\n",
      "tensor([[0.5612]], device='cuda:0', grad_fn=<DivBackward0>)\n"
     ]
    }
   ],
   "source": [
    "obs = env.reset()\n",
    "for i in range(100):\n",
    "    action, _states = model.predict(obs, deterministic=False)\n",
    "    obs, reward, done, info = env.step(action)\n",
    "    if i % 10 == 0:\n",
    "        print(shaped(rm_noise(obs)))\n",
    "    if done:\n",
    "        break"
   ]
  },
  {
   "cell_type": "markdown",
   "metadata": {},
   "source": [
    "# Save several models with varying amounts of noise"
   ]
  },
  {
   "cell_type": "code",
   "execution_count": 12,
   "metadata": {},
   "outputs": [],
   "source": [
    "train = RewardData(train=True)\n",
    "test = RewardData(train=False)\n",
    "\n",
    "train_loader = th.utils.data.DataLoader(train, batch_size=20, shuffle=True, num_workers=0)\n",
    "test_loader = th.utils.data.DataLoader(test, batch_size=20, shuffle=False, num_workers=0)"
   ]
  },
  {
   "cell_type": "code",
   "execution_count": 13,
   "metadata": {},
   "outputs": [],
   "source": [
    "samples, targets = next(iter(train_loader))"
   ]
  },
  {
   "cell_type": "code",
   "execution_count": 35,
   "metadata": {},
   "outputs": [
    {
     "name": "stderr",
     "output_type": "stream",
     "text": [
      "/home/eric/Code/miniconda3/envs/interp/lib/python3.7/site-packages/ipykernel_launcher.py:35: UserWarning: To copy construct from a tensor, it is recommended to use sourceTensor.clone().detach() or sourceTensor.clone().detach().requires_grad_(True), rather than torch.tensor(sourceTensor).\n"
     ]
    },
    {
     "name": "stdout",
     "output_type": "stream",
     "text": [
      "Alpha: 0.0 | Testing Loss: 0.01427\n"
     ]
    }
   ],
   "source": [
    "loss_fn = th.nn.MSELoss()\n",
    "alpha = 0.0\n",
    "rm = RewardModel(env, device)\n",
    "optimizer = th.optim.Adam(rm.parameters())\n",
    "for epoch in range(1):\n",
    "    for samples, targets in islice(train_loader, 500):\n",
    "        optimizer.zero_grad()\n",
    "        noise = shaped(rm_noise(samples))\n",
    "        targets = targets.to(device) + alpha*noise\n",
    "        batch_loss = loss_fn(rm(samples), targets.to(device))\n",
    "        batch_loss.backward()\n",
    "        optimizer.step()\n",
    "outof = 0\n",
    "testing_loss = 0\n",
    "with th.no_grad():\n",
    "    for samples, target in islice(test_loader, 500):\n",
    "        testing_loss += loss_fn(rm(samples), targets.to(device))\n",
    "        outof += len(target)\n",
    "testing_loss = float(testing_loss / outof)\n",
    "print(\"Alpha: {} | Testing Loss: {:.5f}\".format(alpha, testing_loss))\n",
    "# th.save(rm.state_dict(), f\"../reward-models/breakout_rm_alpha{alpha}.pt\")"
   ]
  },
  {
   "cell_type": "markdown",
   "metadata": {},
   "source": [
    "### Okay after regenerating the dataset, it looks like the model can train."
   ]
  },
  {
   "cell_type": "code",
   "execution_count": 39,
   "metadata": {},
   "outputs": [
    {
     "name": "stderr",
     "output_type": "stream",
     "text": [
      "/home/eric/Code/miniconda3/envs/interp/lib/python3.7/site-packages/ipykernel_launcher.py:35: UserWarning: To copy construct from a tensor, it is recommended to use sourceTensor.clone().detach() or sourceTensor.clone().detach().requires_grad_(True), rather than torch.tensor(sourceTensor).\n"
     ]
    },
    {
     "name": "stdout",
     "output_type": "stream",
     "text": [
      "Alpha: 0 | Testing Loss: 0.01836\n",
      "Alpha: 0.1 | Testing Loss: 0.03364\n",
      "Alpha: 0.3 | Testing Loss: 0.27588\n",
      "Alpha: 0.7 | Testing Loss: 2.20345\n",
      "Alpha: 1.5 | Testing Loss: 6.96891\n"
     ]
    }
   ],
   "source": [
    "loss_fn = th.nn.MSELoss()\n",
    "for alpha in [0, 0.1, 0.3, 0.7, 1.5]:\n",
    "    rm = RewardModel(env, device)\n",
    "    optimizer = th.optim.Adam(rm.parameters())\n",
    "    for epoch in range(1):\n",
    "        for samples, targets in islice(train_loader, 2000):\n",
    "            optimizer.zero_grad()\n",
    "            noise = shaped(rm_noise(samples))\n",
    "            targets = targets.to(device) + alpha*noise\n",
    "            batch_loss = loss_fn(rm(samples), targets)\n",
    "            batch_loss.backward()\n",
    "            optimizer.step()\n",
    "    outof = 0\n",
    "    testing_loss = 0\n",
    "    with th.no_grad():\n",
    "        for samples, target in islice(test_loader, 2000):\n",
    "            testing_loss += loss_fn(rm(samples), targets.to(device))\n",
    "            outof += len(target)\n",
    "    testing_loss = float(testing_loss / outof)\n",
    "    print(\"Alpha: {} | Testing Loss: {:.5f}\".format(alpha, testing_loss))\n",
    "    th.save(rm.state_dict(), f\"../reward-models/breakout_rm_alpha{alpha}.pt\")"
   ]
  },
  {
   "cell_type": "markdown",
   "metadata": {},
   "source": [
    "## Let's now view the saliency maps"
   ]
  },
  {
   "cell_type": "code",
   "execution_count": 41,
   "metadata": {},
   "outputs": [
    {
     "data": {
      "text/plain": [
       "<All keys matched successfully>"
      ]
     },
     "execution_count": 41,
     "metadata": {},
     "output_type": "execute_result"
    }
   ],
   "source": [
    "alpha = 0\n",
    "rm = RewardModel(env, device)\n",
    "rm.load_state_dict(th.load(f\"../reward-models/breakout_rm_alpha{alpha}.pt\"))"
   ]
  },
  {
   "cell_type": "code",
   "execution_count": 45,
   "metadata": {},
   "outputs": [],
   "source": [
    "obs = env.reset()\n",
    "for i in range(100):\n",
    "    action, _states = model.predict(obs, deterministic=False)\n",
    "    obs, reward, done, info = env.step(action)\n",
    "#     if reward[0]:\n",
    "#         break"
   ]
  },
  {
   "cell_type": "code",
   "execution_count": 46,
   "metadata": {},
   "outputs": [
    {
     "data": {
      "image/png": "[encoded data removed]",
      "text/plain": [
       "<Figure size 432x432 with 4 Axes>"
      ]
     },
     "metadata": {
      "needs_background": "light"
     },
     "output_type": "display_data"
    }
   ],
   "source": [
    "plt.figure(figsize=(6, 6))\n",
    "for k in range(4):\n",
    "    plt.subplot(2, 2, k+1)\n",
    "    plt.imshow(obs[0, :, :, k])"
   ]
  },
  {
   "cell_type": "code",
   "execution_count": 51,
   "metadata": {},
   "outputs": [],
   "source": [
    "random.randint(0, 100)"
   ]
  },
  {
   "cell_type": "code",
   "execution_count": 53,
   "metadata": {},
   "outputs": [
    {
     "data": {
      "image/png": "[encoded data removed]",
      "text/plain": [
       "<Figure size 576x576 with 6 Axes>"
      ]
     },
     "metadata": {
      "needs_background": "light"
     },
     "output_type": "display_data"
    }
   ],
   "source": [
    "plt.figure(figsize=(8, 8))\n",
    "\n",
    "radius = 5\n",
    "stride = 4\n",
    "k = 0\n",
    "N = 6\n",
    "\n",
    "obs = env.reset()\n",
    "while True:\n",
    "    action, _states = model.predict(obs, deterministic=False)\n",
    "    obs, reward, done, info = env.step(action)\n",
    "    if random.randint(0, 50) == 0:\n",
    "        plt.subplot(2, N//2, k+1)\n",
    "        pairs = max_k_and_values(10, product(range(0, 84, stride), range(0, 84, stride)), key=lambda e: reward_model_saliency(rm, obs, e, radius=radius))\n",
    "        screenshot = env.get_images()[0]\n",
    "        screenshot = screenshot / screenshot.max()\n",
    "        # max_value = pairs[0][1]\n",
    "        for loc, value in pairs:\n",
    "            r, g, b, a = matplotlib.cm.hot(value)\n",
    "            region = create_circular_mask(84, 84, center=loc, radius=radius)\n",
    "            region = skimage.transform.resize(region, (210, 160))\n",
    "            spot = np.zeros((210, 160, 3))\n",
    "            spot[:, :, 0] = r * region\n",
    "            spot[:, :, 1] = g * region\n",
    "            spot[:, :, 2] = b * region\n",
    "            spot = spot * a\n",
    "            screenshot = spot + (1-spot)*screenshot\n",
    "            screenshot = screenshot / screenshot.max()\n",
    "        plt.imshow(screenshot)\n",
    "        k += 1\n",
    "    if k == N:\n",
    "        break"
   ]
  },
  {
   "cell_type": "markdown",
   "metadata": {},
   "source": [
    "## okay so the baseline (alpha=0) reward looks good"
   ]
  },
  {
   "cell_type": "code",
   "execution_count": 54,
   "metadata": {},
   "outputs": [
    {
     "data": {
      "text/plain": [
       "<All keys matched successfully>"
      ]
     },
     "execution_count": 54,
     "metadata": {},
     "output_type": "execute_result"
    }
   ],
   "source": [
    "alpha = 1.5\n",
    "rm = RewardModel(env, device)\n",
    "rm.load_state_dict(th.load(f\"../reward-models/breakout_rm_alpha{alpha}.pt\"))"
   ]
  },
  {
   "cell_type": "code",
   "execution_count": 57,
   "metadata": {},
   "outputs": [
    {
     "data": {
      "image/png": "[encoded data removed]",
      "text/plain": [
       "<Figure size 792x576 with 8 Axes>"
      ]
     },
     "metadata": {
      "needs_background": "light"
     },
     "output_type": "display_data"
    }
   ],
   "source": [
    "plt.figure(figsize=(11, 8))\n",
    "\n",
    "radius = 5\n",
    "stride = 4\n",
    "k = 0\n",
    "N = 8\n",
    "\n",
    "obs = env.reset()\n",
    "while True:\n",
    "    action, _states = model.predict(obs, deterministic=False)\n",
    "    obs, reward, done, info = env.step(action)\n",
    "    if random.randint(0, 50) == 0:\n",
    "        plt.subplot(2, N//2, k+1)\n",
    "        pairs = max_k_and_values(10, product(range(0, 84, stride), range(0, 84, stride)), key=lambda e: reward_model_saliency(rm, obs, e, radius=radius))\n",
    "        screenshot = env.get_images()[0]\n",
    "        screenshot = screenshot / screenshot.max()\n",
    "        # max_value = pairs[0][1]\n",
    "        for loc, value in pairs:\n",
    "            r, g, b, a = matplotlib.cm.hot(value)\n",
    "            region = create_circular_mask(84, 84, center=loc, radius=radius)\n",
    "            region = skimage.transform.resize(region, (210, 160))\n",
    "            spot = np.zeros((210, 160, 3))\n",
    "            spot[:, :, 0] = r * region\n",
    "            spot[:, :, 1] = g * region\n",
    "            spot[:, :, 2] = b * region\n",
    "            spot = spot * a\n",
    "            screenshot = spot + (1-spot)*screenshot\n",
    "            screenshot = screenshot / screenshot.max()\n",
    "        plt.imshow(screenshot)\n",
    "        k += 1\n",
    "    if k == N:\n",
    "        break"
   ]
  },
  {
   "cell_type": "code",
   "execution_count": 58,
   "metadata": {},
   "outputs": [
    {
     "data": {
      "image/png": "[encoded data removed]",
      "text/plain": [
       "<Figure size 792x576 with 8 Axes>"
      ]
     },
     "metadata": {
      "needs_background": "light"
     },
     "output_type": "display_data"
    }
   ],
   "source": [
    "alpha = 0.1\n",
    "rm = RewardModel(env, device)\n",
    "rm.load_state_dict(th.load(f\"../reward-models/breakout_rm_alpha{alpha}.pt\"))\n",
    "\n",
    "plt.figure(figsize=(11, 8))\n",
    "\n",
    "radius = 5\n",
    "stride = 4\n",
    "k = 0\n",
    "N = 8\n",
    "\n",
    "obs = env.reset()\n",
    "while True:\n",
    "    action, _states = model.predict(obs, deterministic=False)\n",
    "    obs, reward, done, info = env.step(action)\n",
    "    if random.randint(0, 50) == 0:\n",
    "        plt.subplot(2, N//2, k+1)\n",
    "        pairs = max_k_and_values(10, product(range(0, 84, stride), range(0, 84, stride)), key=lambda e: reward_model_saliency(rm, obs, e, radius=radius))\n",
    "        screenshot = env.get_images()[0]\n",
    "        screenshot = screenshot / screenshot.max()\n",
    "        # max_value = pairs[0][1]\n",
    "        for loc, value in pairs:\n",
    "            r, g, b, a = matplotlib.cm.hot(value)\n",
    "            region = create_circular_mask(84, 84, center=loc, radius=radius)\n",
    "            region = skimage.transform.resize(region, (210, 160))\n",
    "            spot = np.zeros((210, 160, 3))\n",
    "            spot[:, :, 0] = r * region\n",
    "            spot[:, :, 1] = g * region\n",
    "            spot[:, :, 2] = b * region\n",
    "            spot = spot * a\n",
    "            screenshot = spot + (1-spot)*screenshot\n",
    "            screenshot = screenshot / screenshot.max()\n",
    "        plt.imshow(screenshot)\n",
    "        k += 1\n",
    "    if k == N:\n",
    "        break"
   ]
  },
  {
   "cell_type": "code",
   "execution_count": 59,
   "metadata": {},
   "outputs": [
    {
     "data": {
      "image/png": "[encoded data removed]",
      "text/plain": [
       "<Figure size 792x576 with 8 Axes>"
      ]
     },
     "metadata": {
      "needs_background": "light"
     },
     "output_type": "display_data"
    }
   ],
   "source": [
    "alpha = 0.3\n",
    "rm = RewardModel(env, device)\n",
    "rm.load_state_dict(th.load(f\"../reward-models/breakout_rm_alpha{alpha}.pt\"))\n",
    "\n",
    "plt.figure(figsize=(11, 8))\n",
    "\n",
    "radius = 5\n",
    "stride = 4\n",
    "k = 0\n",
    "N = 8\n",
    "\n",
    "obs = env.reset()\n",
    "while True:\n",
    "    action, _states = model.predict(obs, deterministic=False)\n",
    "    obs, reward, done, info = env.step(action)\n",
    "    if random.randint(0, 50) == 0:\n",
    "        plt.subplot(2, N//2, k+1)\n",
    "        pairs = max_k_and_values(10, product(range(0, 84, stride), range(0, 84, stride)), key=lambda e: reward_model_saliency(rm, obs, e, radius=radius))\n",
    "        screenshot = env.get_images()[0]\n",
    "        screenshot = screenshot / screenshot.max()\n",
    "        # max_value = pairs[0][1]\n",
    "        for loc, value in pairs:\n",
    "            r, g, b, a = matplotlib.cm.hot(value)\n",
    "            region = create_circular_mask(84, 84, center=loc, radius=radius)\n",
    "            region = skimage.transform.resize(region, (210, 160))\n",
    "            spot = np.zeros((210, 160, 3))\n",
    "            spot[:, :, 0] = r * region\n",
    "            spot[:, :, 1] = g * region\n",
    "            spot[:, :, 2] = b * region\n",
    "            spot = spot * a\n",
    "            screenshot = spot + (1-spot)*screenshot\n",
    "            screenshot = screenshot / screenshot.max()\n",
    "        plt.imshow(screenshot)\n",
    "        k += 1\n",
    "    if k == N:\n",
    "        break"
   ]
  },
  {
   "cell_type": "code",
   "execution_count": 60,
   "metadata": {},
   "outputs": [
    {
     "data": {
      "image/png": "[encoded data removed]",
      "text/plain": [
       "<Figure size 792x576 with 8 Axes>"
      ]
     },
     "metadata": {
      "needs_background": "light"
     },
     "output_type": "display_data"
    }
   ],
   "source": [
    "alpha = 0.7\n",
    "rm = RewardModel(env, device)\n",
    "rm.load_state_dict(th.load(f\"../reward-models/breakout_rm_alpha{alpha}.pt\"))\n",
    "\n",
    "plt.figure(figsize=(11, 8))\n",
    "\n",
    "radius = 5\n",
    "stride = 4\n",
    "k = 0\n",
    "N = 8\n",
    "\n",
    "obs = env.reset()\n",
    "while True:\n",
    "    action, _states = model.predict(obs, deterministic=False)\n",
    "    obs, reward, done, info = env.step(action)\n",
    "    if random.randint(0, 50) == 0:\n",
    "        plt.subplot(2, N//2, k+1)\n",
    "        pairs = max_k_and_values(10, product(range(0, 84, stride), range(0, 84, stride)), key=lambda e: reward_model_saliency(rm, obs, e, radius=radius))\n",
    "        screenshot = env.get_images()[0]\n",
    "        screenshot = screenshot / screenshot.max()\n",
    "        # max_value = pairs[0][1]\n",
    "        for loc, value in pairs:\n",
    "            r, g, b, a = matplotlib.cm.hot(value)\n",
    "            region = create_circular_mask(84, 84, center=loc, radius=radius)\n",
    "            region = skimage.transform.resize(region, (210, 160))\n",
    "            spot = np.zeros((210, 160, 3))\n",
    "            spot[:, :, 0] = r * region\n",
    "            spot[:, :, 1] = g * region\n",
    "            spot[:, :, 2] = b * region\n",
    "            spot = spot * a\n",
    "            screenshot = spot + (1-spot)*screenshot\n",
    "            screenshot = screenshot / screenshot.max()\n",
    "        plt.imshow(screenshot)\n",
    "        k += 1\n",
    "    if k == N:\n",
    "        break"
   ]
  },
  {
   "cell_type": "markdown",
   "metadata": {},
   "source": [
    "# Time to generate videos now:"
   ]
  },
  {
   "cell_type": "code",
   "execution_count": 67,
   "metadata": {},
   "outputs": [],
   "source": [
    "matplotlib.use(\"Agg\")\n",
    "import matplotlib.animation as manimation"
   ]
  },
  {
   "cell_type": "code",
   "execution_count": 64,
   "metadata": {},
   "outputs": [
    {
     "data": {
      "text/plain": [
       "[0, 1.5, 0.3]"
      ]
     },
     "execution_count": 64,
     "metadata": {},
     "output_type": "execute_result"
    }
   ],
   "source": [
    "alphas = [0, 0.3, 1.5]\n",
    "random.shuffle(alphas)\n",
    "alphas"
   ]
  },
  {
   "cell_type": "code",
   "execution_count": 68,
   "metadata": {},
   "outputs": [
    {
     "data": {
      "application/vnd.jupyter.widget-view+json": {
       "model_id": "4db9420045864d329fd9a8fb325c47ab",
       "version_major": 2,
       "version_minor": 0
      },
      "text/plain": [
       "HBox(children=(FloatProgress(value=0.0, max=400.0), HTML(value='')))"
      ]
     },
     "metadata": {},
     "output_type": "display_data"
    },
    {
     "name": "stdout",
     "output_type": "stream",
     "text": [
      "\n"
     ]
    },
    {
     "data": {
      "image/png": "[encoded data removed]",
      "text/plain": [
       "<Figure size 720x360 with 3 Axes>"
      ]
     },
     "metadata": {
      "needs_background": "light"
     },
     "output_type": "display_data"
    }
   ],
   "source": [
    "radius = 5\n",
    "stride = 4\n",
    "\n",
    "TIMESTEPS = 400\n",
    "\n",
    "FFMpegWriter = manimation.writers['ffmpeg']\n",
    "metadata = dict(title=f\"Can you tell which is best?\", artist='Matplotlib',\n",
    "                comment='Movie support!')\n",
    "writer = FFMpegWriter(fps=6, metadata=metadata)\n",
    "\n",
    "fig, (axes) = plt.subplots(1, 3, gridspec_kw={'width_ratios': [1, 1, 1]}, figsize=(10, 5))\n",
    "for k in range(len(alphas)):\n",
    "    axes[k].set_title(f\"#{k+1}\")\n",
    "frames = [ax.imshow(env.get_images()[0]) for ax in axes]\n",
    "\n",
    "models = []\n",
    "for k in range(len(alphas)):\n",
    "    rm = RewardModel(env, device)\n",
    "    rm.load_state_dict(th.load(f\"../reward-models/breakout_rm_alpha{alphas[k]}.pt\"))\n",
    "    models.append(rm)\n",
    "\n",
    "obs = env.reset()\n",
    "with writer.saving(fig, \"../videos/breakout/comparing_reward_models.mp4\", dpi=200):\n",
    "    for i in tqdm(range(TIMESTEPS)):\n",
    "        action, _states = model.predict(obs, deterministic=False)\n",
    "        obs, reward, done, info = env.step(action)\n",
    "        if done:\n",
    "            break\n",
    "        for k in range(len(alphas)):\n",
    "            pairs = max_k_and_values(10, product(range(0, 84, stride), range(0, 84, stride)), key=lambda e: reward_model_saliency(models[k], obs, e, radius=radius))\n",
    "            screenshot = env.get_images()[0]\n",
    "            screenshot = screenshot / screenshot.max()\n",
    "#             max_value = pairs[0][1]\n",
    "#             max_saliencies.append(max_value)\n",
    "            for loc, value in pairs:\n",
    "                r, g, b, a = matplotlib.cm.hot(value)\n",
    "                region = create_circular_mask(84, 84, center=loc, radius=radius)\n",
    "                region = skimage.transform.resize(region, (210, 160))\n",
    "                spot = np.zeros((210, 160, 3))\n",
    "                spot[:, :, 0] = r * region\n",
    "                spot[:, :, 1] = g * region\n",
    "                spot[:, :, 2] = b * region\n",
    "                spot = spot * a\n",
    "                screenshot = spot + (1-spot)*screenshot\n",
    "                screenshot = screenshot / screenshot.max()\n",
    "            frames[k].set_data(screenshot)\n",
    "        writer.grab_frame()\n",
    "#         plt.subplots_adjust(wspace=0.2)"
   ]
  },
  {
   "cell_type": "markdown",
   "metadata": {},
   "source": [
    "# Let's do 4 now:"
   ]
  },
  {
   "cell_type": "code",
   "execution_count": 69,
   "metadata": {},
   "outputs": [
    {
     "data": {
      "text/plain": [
       "[1.5, 0.3, 0.7, 0]"
      ]
     },
     "execution_count": 69,
     "metadata": {},
     "output_type": "execute_result"
    }
   ],
   "source": [
    "alphas = [0, 0.3, 0.7, 1.5]\n",
    "random.shuffle(alphas)\n",
    "alphas"
   ]
  },
  {
   "cell_type": "code",
   "execution_count": 71,
   "metadata": {},
   "outputs": [
    {
     "data": {
      "application/vnd.jupyter.widget-view+json": {
       "model_id": "343a8e3abdd64e13b0420c8efd55b103",
       "version_major": 2,
       "version_minor": 0
      },
      "text/plain": [
       "HBox(children=(FloatProgress(value=0.0, max=400.0), HTML(value='')))"
      ]
     },
     "metadata": {},
     "output_type": "display_data"
    },
    {
     "name": "stdout",
     "output_type": "stream",
     "text": [
      "\n"
     ]
    },
    {
     "data": {
      "image/png": "[encoded data removed]",
      "text/plain": [
       "<Figure size 1008x360 with 4 Axes>"
      ]
     },
     "metadata": {
      "needs_background": "light"
     },
     "output_type": "display_data"
    }
   ],
   "source": [
    "radius = 5\n",
    "stride = 4\n",
    "\n",
    "TIMESTEPS = 400\n",
    "\n",
    "FFMpegWriter = manimation.writers['ffmpeg']\n",
    "metadata = dict(title=f\"Can you tell which is best?\", artist='Matplotlib',\n",
    "                comment='Movie support!')\n",
    "writer = FFMpegWriter(fps=6, metadata=metadata)\n",
    "\n",
    "fig, (axes) = plt.subplots(1, 4, gridspec_kw={'width_ratios': [1, 1, 1, 1]}, figsize=(14, 5))\n",
    "for k in range(len(alphas)):\n",
    "    axes[k].set_title(f\"#{k+1}\")\n",
    "frames = [ax.imshow(env.get_images()[0]) for ax in axes]\n",
    "\n",
    "models = []\n",
    "for k in range(len(alphas)):\n",
    "    rm = RewardModel(env, device)\n",
    "    rm.load_state_dict(th.load(f\"../reward-models/breakout_rm_alpha{alphas[k]}.pt\"))\n",
    "    models.append(rm)\n",
    "\n",
    "obs = env.reset()\n",
    "with writer.saving(fig, \"../videos/breakout/comparing4_reward_models.mp4\", dpi=200):\n",
    "    for i in tqdm(range(TIMESTEPS)):\n",
    "        action, _states = model.predict(obs, deterministic=False)\n",
    "        obs, reward, done, info = env.step(action)\n",
    "        if done:\n",
    "            break\n",
    "        for k in range(len(alphas)):\n",
    "            pairs = max_k_and_values(10, product(range(0, 84, stride), range(0, 84, stride)), key=lambda e: reward_model_saliency(models[k], obs, e, radius=radius))\n",
    "            screenshot = env.get_images()[0]\n",
    "            screenshot = screenshot / screenshot.max()\n",
    "#             max_value = pairs[0][1]\n",
    "#             max_saliencies.append(max_value)\n",
    "            for loc, value in pairs:\n",
    "                r, g, b, a = matplotlib.cm.hot(value)\n",
    "                region = create_circular_mask(84, 84, center=loc, radius=radius)\n",
    "                region = skimage.transform.resize(region, (210, 160))\n",
    "                spot = np.zeros((210, 160, 3))\n",
    "                spot[:, :, 0] = r * region\n",
    "                spot[:, :, 1] = g * region\n",
    "                spot[:, :, 2] = b * region\n",
    "                spot = spot * a\n",
    "                screenshot = spot + (1-spot)*screenshot\n",
    "                screenshot = screenshot / screenshot.max()\n",
    "            frames[k].set_data(screenshot)\n",
    "        writer.grab_frame()\n",
    "#         plt.subplots_adjust(wspace=0.2)"
   ]
  },
  {
   "cell_type": "markdown",
   "metadata": {},
   "source": [
    "# Let's try training the reward models more, since the saliency disappears close to the blocks."
   ]
  },
  {
   "cell_type": "code",
   "execution_count": 76,
   "metadata": {},
   "outputs": [
    {
     "name": "stderr",
     "output_type": "stream",
     "text": [
      "/home/eric/Code/miniconda3/envs/interp/lib/python3.7/site-packages/ipykernel_launcher.py:35: UserWarning: To copy construct from a tensor, it is recommended to use sourceTensor.clone().detach() or sourceTensor.clone().detach().requires_grad_(True), rather than torch.tensor(sourceTensor).\n"
     ]
    },
    {
     "name": "stdout",
     "output_type": "stream",
     "text": [
      "Alpha: 0 | Testing Loss: 0.02032\n",
      "Alpha: 0.1 | Testing Loss: 0.04039\n",
      "Alpha: 0.3 | Testing Loss: 0.33325\n",
      "Alpha: 0.7 | Testing Loss: 1.45024\n",
      "Alpha: 1.5 | Testing Loss: 8.01371\n"
     ]
    }
   ],
   "source": [
    "loss_fn = th.nn.MSELoss()\n",
    "for alpha in [0, 0.1, 0.3, 0.7, 1.5]:\n",
    "    rm = RewardModel(env, device)\n",
    "    optimizer = th.optim.Adam(rm.parameters())\n",
    "    for epoch in range(3):\n",
    "        for samples, targets in train_loader:\n",
    "            optimizer.zero_grad()\n",
    "            noise = shaped(rm_noise(samples))\n",
    "            targets = targets.to(device) + alpha*noise\n",
    "            batch_loss = loss_fn(rm(samples), targets)\n",
    "            batch_loss.backward()\n",
    "            optimizer.step()\n",
    "    outof = 0\n",
    "    testing_loss = 0\n",
    "    with th.no_grad():\n",
    "        for samples, target in test_loader:\n",
    "            testing_loss += loss_fn(rm(samples), targets.to(device))\n",
    "            outof += len(target)\n",
    "    testing_loss = float(testing_loss / outof)\n",
    "    print(\"Alpha: {} | Testing Loss: {:.5f}\".format(alpha, testing_loss))\n",
    "    th.save(rm.state_dict(), f\"../reward-models/breakout_rm_moretraining_alpha{alpha}.pt\")"
   ]
  },
  {
   "cell_type": "code",
   "execution_count": 77,
   "metadata": {},
   "outputs": [
    {
     "data": {
      "text/plain": [
       "<All keys matched successfully>"
      ]
     },
     "execution_count": 77,
     "metadata": {},
     "output_type": "execute_result"
    }
   ],
   "source": [
    "alpha = 0\n",
    "rm = RewardModel(env, device)\n",
    "rm.load_state_dict(th.load(f\"../reward-models/breakout_rm_moretraining_alpha{alphas[k]}.pt\"))"
   ]
  },
  {
   "cell_type": "code",
   "execution_count": 80,
   "metadata": {},
   "outputs": [],
   "source": [
    "obs = env.reset()\n",
    "for i in range(1000):\n",
    "    action, _states = model.predict(obs, deterministic=False)\n",
    "    obs, reward, done, info = env.step(action)\n",
    "    if reward[0]:\n",
    "        break"
   ]
  },
  {
   "cell_type": "code",
   "execution_count": 81,
   "metadata": {},
   "outputs": [
    {
     "data": {
      "text/plain": [
       "<matplotlib.image.AxesImage at 0x7f1834d9d190>"
      ]
     },
     "execution_count": 81,
     "metadata": {},
     "output_type": "execute_result"
    },
    {
     "data": {
      "image/png": "[encoded data removed]",
      "text/plain": [
       "<Figure size 432x288 with 1 Axes>"
      ]
     },
     "metadata": {
      "needs_background": "light"
     },
     "output_type": "display_data"
    }
   ],
   "source": [
    "radius = 5\n",
    "stride = 4\n",
    "\n",
    "pairs = max_k_and_values(10, product(range(0, 84, stride), range(0, 84, stride)), key=lambda e: reward_model_saliency(rm, obs, e, radius=radius))\n",
    "screenshot = env.get_images()[0]\n",
    "screenshot = screenshot / screenshot.max()\n",
    "# max_value = pairs[0][1]\n",
    "for loc, value in pairs:\n",
    "    r, g, b, a = matplotlib.cm.hot(value)\n",
    "    region = create_circular_mask(84, 84, center=loc, radius=radius)\n",
    "    region = skimage.transform.resize(region, (210, 160))\n",
    "    spot = np.zeros((210, 160, 3))\n",
    "    spot[:, :, 0] = r * region\n",
    "    spot[:, :, 1] = g * region\n",
    "    spot[:, :, 2] = b * region\n",
    "    spot = spot * a\n",
    "    screenshot = spot + (1-spot)*screenshot\n",
    "    screenshot = screenshot / screenshot.max()\n",
    "plt.imshow(screenshot)"
   ]
  },
  {
   "cell_type": "code",
   "execution_count": 82,
   "metadata": {},
   "outputs": [],
   "source": [
    "alphas = [1.5, 0.3, 0.7, 0]"
   ]
  },
  {
   "cell_type": "code",
   "execution_count": 85,
   "metadata": {},
   "outputs": [
    {
     "data": {
      "application/vnd.jupyter.widget-view+json": {
       "model_id": "2bb10c782d214b5eb7ee9939af7d91a3",
       "version_major": 2,
       "version_minor": 0
      },
      "text/plain": [
       "HBox(children=(FloatProgress(value=0.0, max=300.0), HTML(value='')))"
      ]
     },
     "metadata": {},
     "output_type": "display_data"
    },
    {
     "name": "stdout",
     "output_type": "stream",
     "text": [
      "\n"
     ]
    },
    {
     "data": {
      "image/png": "[encoded data removed]",
      "text/plain": [
       "<Figure size 1008x360 with 4 Axes>"
      ]
     },
     "metadata": {
      "needs_background": "light"
     },
     "output_type": "display_data"
    }
   ],
   "source": [
    "radius = 5\n",
    "stride = 4\n",
    "\n",
    "TIMESTEPS = 300\n",
    "\n",
    "FFMpegWriter = manimation.writers['ffmpeg']\n",
    "metadata = dict(title=f\"Can you tell which is best?\", artist='Matplotlib',\n",
    "                comment='Movie support!')\n",
    "writer = FFMpegWriter(fps=6, metadata=metadata)\n",
    "\n",
    "fig, (axes) = plt.subplots(1, 4, gridspec_kw={'width_ratios': [1, 1, 1, 1]}, figsize=(14, 5))\n",
    "for k in range(len(alphas)):\n",
    "    axes[k].set_title(f\"#{k+1}\")\n",
    "frames = [ax.imshow(env.get_images()[0]) for ax in axes]\n",
    "\n",
    "models = []\n",
    "for k in range(len(alphas)):\n",
    "    rm = RewardModel(env, device)\n",
    "    rm.load_state_dict(th.load(f\"../reward-models/breakout_rm_moretraining_alpha{alphas[k]}.pt\"))\n",
    "    models.append(rm)\n",
    "\n",
    "obs = env.reset()\n",
    "with writer.saving(fig, \"../videos/breakout/comparing4_reward_models_moretraining.mp4\", dpi=200):\n",
    "    for i in tqdm(range(TIMESTEPS)):\n",
    "        action, _states = model.predict(obs, deterministic=False)\n",
    "        obs, reward, done, info = env.step(action)\n",
    "        if done:\n",
    "            break\n",
    "        for k in range(len(alphas)):\n",
    "            pairs = max_k_and_values(10, product(range(0, 84, stride), range(0, 84, stride)), key=lambda e: reward_model_saliency(models[k], obs, e, radius=radius))\n",
    "            screenshot = env.get_images()[0]\n",
    "            screenshot = screenshot / screenshot.max()\n",
    "#             max_value = pairs[0][1]\n",
    "#             max_saliencies.append(max_value)\n",
    "            for loc, value in pairs:\n",
    "                r, g, b, a = matplotlib.cm.hot(value)\n",
    "                region = create_circular_mask(84, 84, center=loc, radius=radius)\n",
    "                region = skimage.transform.resize(region, (210, 160))\n",
    "                spot = np.zeros((210, 160, 3))\n",
    "                spot[:, :, 0] = r * region\n",
    "                spot[:, :, 1] = g * region\n",
    "                spot[:, :, 2] = b * region\n",
    "                spot = spot * a\n",
    "                screenshot = spot + (1-spot)*screenshot\n",
    "                screenshot = screenshot / screenshot.max()\n",
    "            frames[k].set_data(screenshot)\n",
    "        writer.grab_frame()\n",
    "#         plt.subplots_adjust(wspace=0.2)"
   ]
  },
  {
   "cell_type": "code",
   "execution_count": null,
   "metadata": {},
   "outputs": [],
   "source": []
  },
  {
   "cell_type": "code",
   "execution_count": null,
   "metadata": {},
   "outputs": [],
   "source": []
  },
  {
   "cell_type": "code",
   "execution_count": null,
   "metadata": {},
   "outputs": [],
   "source": []
  }
 ],
 "metadata": {
  "kernelspec": {
   "display_name": "Python 3",
   "language": "python",
   "name": "python3"
  },
  "language_info": {
   "codemirror_mode": {
    "name": "ipython",
    "version": 3
   },
   "file_extension": ".py",
   "mimetype": "text/x-python",
   "name": "python",
   "nbconvert_exporter": "python",
   "pygments_lexer": "ipython3",
   "version": "3.7.7"
  }
 },
 "nbformat": 4,
 "nbformat_minor": 4
}
