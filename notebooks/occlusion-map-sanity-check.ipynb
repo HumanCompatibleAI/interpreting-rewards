{
 "cells": [
  {
   "cell_type": "code",
   "execution_count": 1,
   "metadata": {},
   "outputs": [
    {
     "name": "stderr",
     "output_type": "stream",
     "text": [
      "/home/eric/Code/miniconda3/envs/interp/lib/python3.7/site-packages/tensorboard/compat/tensorflow_stub/dtypes.py:541: FutureWarning: Passing (type, 1) or '1type' as a synonym of type is deprecated; in a future version of numpy, it will be understood as (type, (1,)) / '(1,)type'.\n",
      "  _np_qint8 = np.dtype([(\"qint8\", np.int8, 1)])\n",
      "/home/eric/Code/miniconda3/envs/interp/lib/python3.7/site-packages/tensorboard/compat/tensorflow_stub/dtypes.py:542: FutureWarning: Passing (type, 1) or '1type' as a synonym of type is deprecated; in a future version of numpy, it will be understood as (type, (1,)) / '(1,)type'.\n",
      "  _np_quint8 = np.dtype([(\"quint8\", np.uint8, 1)])\n",
      "/home/eric/Code/miniconda3/envs/interp/lib/python3.7/site-packages/tensorboard/compat/tensorflow_stub/dtypes.py:543: FutureWarning: Passing (type, 1) or '1type' as a synonym of type is deprecated; in a future version of numpy, it will be understood as (type, (1,)) / '(1,)type'.\n",
      "  _np_qint16 = np.dtype([(\"qint16\", np.int16, 1)])\n",
      "/home/eric/Code/miniconda3/envs/interp/lib/python3.7/site-packages/tensorboard/compat/tensorflow_stub/dtypes.py:544: FutureWarning: Passing (type, 1) or '1type' as a synonym of type is deprecated; in a future version of numpy, it will be understood as (type, (1,)) / '(1,)type'.\n",
      "  _np_quint16 = np.dtype([(\"quint16\", np.uint16, 1)])\n",
      "/home/eric/Code/miniconda3/envs/interp/lib/python3.7/site-packages/tensorboard/compat/tensorflow_stub/dtypes.py:545: FutureWarning: Passing (type, 1) or '1type' as a synonym of type is deprecated; in a future version of numpy, it will be understood as (type, (1,)) / '(1,)type'.\n",
      "  _np_qint32 = np.dtype([(\"qint32\", np.int32, 1)])\n",
      "/home/eric/Code/miniconda3/envs/interp/lib/python3.7/site-packages/tensorboard/compat/tensorflow_stub/dtypes.py:550: FutureWarning: Passing (type, 1) or '1type' as a synonym of type is deprecated; in a future version of numpy, it will be understood as (type, (1,)) / '(1,)type'.\n",
      "  np_resource = np.dtype([(\"resource\", np.ubyte, 1)])\n"
     ]
    }
   ],
   "source": [
    "import os\n",
    "import sys\n",
    "import importlib\n",
    "from pathlib import Path\n",
    "from itertools import product, islice\n",
    "import h5py\n",
    "import random\n",
    "\n",
    "import gym\n",
    "import numpy as np\n",
    "import matplotlib\n",
    "import matplotlib.pyplot as plt\n",
    "import scipy.ndimage\n",
    "import skimage.transform\n",
    "import torch as th\n",
    "import torch.nn as nn\n",
    "\n",
    "from tqdm.auto import tqdm\n",
    "\n",
    "from stable_baselines3.common.utils import set_random_seed\n",
    "from stable_baselines3.common.vec_env import VecEnvWrapper, VecEnv, DummyVecEnv\n",
    "from stable_baselines3.common.vec_env import VecTransposeImage\n",
    "\n",
    "sys.path.insert(1, \"../rl-baselines3-zoo\")\n",
    "import utils.import_envs  # noqa: F401 pylint: disable=unused-import\n",
    "from utils.utils import StoreDict\n",
    "from utils import ALGOS, create_test_env, get_latest_run_id, get_saved_hyperparams"
   ]
  },
  {
   "cell_type": "code",
   "execution_count": 2,
   "metadata": {},
   "outputs": [
    {
     "name": "stdout",
     "output_type": "stream",
     "text": [
      "Using device: cuda\n"
     ]
    }
   ],
   "source": [
    "########### Set Device ############\n",
    "device = th.device('cuda' if th.cuda.is_available() else 'cpu')\n",
    "dtype = th.float32\n",
    "th.set_default_dtype(dtype)\n",
    "print(\"Using device: {}\".format(device))"
   ]
  },
  {
   "cell_type": "code",
   "execution_count": 3,
   "metadata": {},
   "outputs": [],
   "source": [
    "env_id = \"BreakoutNoFrameskip-v4\"\n",
    "folder = \"../agents\"\n",
    "algo = \"a2c\"\n",
    "n_timesteps = 10000\n",
    "num_threads = -1\n",
    "n_envs = 1\n",
    "exp_id = 3\n",
    "verbose = 1\n",
    "no_render = False\n",
    "deterministic = False\n",
    "load_best = True\n",
    "load_checkpoint = None\n",
    "norm_reward = False\n",
    "seed = 0\n",
    "reward_log = ''\n",
    "env_kwargs = None"
   ]
  },
  {
   "cell_type": "code",
   "execution_count": 4,
   "metadata": {},
   "outputs": [
    {
     "name": "stdout",
     "output_type": "stream",
     "text": [
      "Stacking 4 frames\n"
     ]
    }
   ],
   "source": [
    "# Sanity checks\n",
    "if exp_id > 0:\n",
    "    log_path = os.path.join(folder, algo, '{}_{}'.format(env_id, exp_id))\n",
    "else:\n",
    "    log_path = os.path.join(folder, algo)\n",
    "    \n",
    "found = False\n",
    "for ext in ['zip']:\n",
    "    model_path = os.path.join(log_path, f'{env_id}.{ext}')\n",
    "    found = os.path.isfile(model_path)\n",
    "    if found:\n",
    "        break\n",
    "\n",
    "if load_best:\n",
    "    model_path = os.path.join(log_path, \"best_model.zip\")\n",
    "    found = os.path.isfile(model_path)\n",
    "\n",
    "if load_checkpoint is not None:\n",
    "    model_path = os.path.join(log_path, f\"rl_model_{load_checkpoint}_steps.zip\")\n",
    "    found = os.path.isfile(model_path)\n",
    "\n",
    "if not found:\n",
    "    raise ValueError(f\"No model found for {algo} on {env_id}, path: {model_path}\")\n",
    "\n",
    "if algo in ['dqn', 'ddpg', 'sac', 'td3']:\n",
    "    n_envs = 1\n",
    "\n",
    "set_random_seed(seed)\n",
    "\n",
    "if num_threads > 0:\n",
    "    if verbose > 1:\n",
    "        print(f\"Setting torch.num_threads to {num_threads}\")\n",
    "    th.set_num_threads(num_threads)\n",
    "\n",
    "is_atari = 'NoFrameskip' in env_id\n",
    "\n",
    "stats_path = os.path.join(log_path, env_id)\n",
    "hyperparams, stats_path = get_saved_hyperparams(stats_path, norm_reward=norm_reward, test_mode=True)\n",
    "env_kwargs = {} if env_kwargs is None else env_kwargs\n",
    "\n",
    "log_dir = reward_log if reward_log != '' else None\n",
    "\n",
    "env = create_test_env(env_id, n_envs=n_envs,\n",
    "                      stats_path=stats_path, seed=seed, log_dir=log_dir,\n",
    "                      should_render=not no_render,\n",
    "                      hyperparams=hyperparams,\n",
    "                      env_kwargs=env_kwargs)\n",
    "\n",
    "model = ALGOS[algo].load(model_path, env=env)\n",
    "\n",
    "obs = env.reset()"
   ]
  },
  {
   "cell_type": "code",
   "execution_count": 14,
   "metadata": {},
   "outputs": [],
   "source": [
    "class RewardDataRandomized(th.utils.data.Dataset):\n",
    "    def __init__(self, train=True):\n",
    "        self.f = h5py.File(f\"../datasets/rewards_{env_id}.hdf5\", 'r')\n",
    "        if train:\n",
    "            self.group = self.f['train']\n",
    "        else:\n",
    "            self.group = self.f['test']\n",
    "        self.length = self.group['ones-labels'].shape[0] + self.group['zeros-labels'].shape[0]\n",
    "        self.labels = th.randint(low=0, high=2, size=(self.length, 1)).to(dtype)\n",
    "        \n",
    "    \n",
    "    def __getitem__(self, k):\n",
    "        if k % 2 == 0:\n",
    "            input = self.group['zeros-inputs'][k // 2]\n",
    "            label = self.labels[k // 2]\n",
    "            return (input, label)\n",
    "        else:\n",
    "            input = self.group['ones-inputs'][k // 2]\n",
    "            label = self.labels[k // 2]\n",
    "            return (input, label)\n",
    "    \n",
    "    def __len__(self):\n",
    "        return self.length\n",
    "    \n",
    "    def close(self):\n",
    "        self.f.close()\n",
    "        \n",
    "class RewardNet(nn.Module):\n",
    "    def __init__(self):\n",
    "        self.layer1 = nn.Linear(512, 512)\n",
    "        self.layer2 = nn.Linear(512, 1)\n",
    "    \n",
    "    def forward(self, x):\n",
    "        x = nn.ReLU(self.layer1(x))\n",
    "        return self.layer2(x)\n",
    "        \n",
    "class RewardModelBigger(nn.Module):\n",
    "    \"\"\"A reward model using an A2C feature extractor\"\"\"\n",
    "    def __init__(self, env, device):\n",
    "        super(RewardModel, self).__init__()\n",
    "        self.ac_model = ALGOS['a2c']('CnnPolicy', env).policy\n",
    "        self.reward_net = RewardNet().to(device)\n",
    "        self.device = device\n",
    "    \n",
    "    def forward(self, obs):\n",
    "        obs_transposed = VecTransposeImage.transpose_image(obs)\n",
    "        latent, _, _= self.ac_model._get_latent(th.tensor(obs_transposed).to(self.device))\n",
    "        return self.reward_net(latent)\n",
    "    \n",
    "    def freeze_extractor(self):\n",
    "        for p in self.ac_model.policy.features_extractor.parameters():\n",
    "            p.requires_grad = False"
   ]
  },
  {
   "cell_type": "code",
   "execution_count": 15,
   "metadata": {},
   "outputs": [],
   "source": [
    "def create_circular_mask(h, w, center, radius=5):\n",
    "    Y, X = np.ogrid[:h, :w]\n",
    "    dist_from_center = np.sqrt((X - center[1])**2 + (Y-center[0])**2)\n",
    "    mask = dist_from_center <= radius\n",
    "    return np.array(mask, dtype=np.float32)\n",
    "\n",
    "def max_k(k, iterator, key=lambda x: x):\n",
    "    items = [None for _ in range(k)]\n",
    "    values = [-float('inf') for _ in range(k)]\n",
    "    for item in iterator:\n",
    "        val = key(item)\n",
    "        for i in range(k):\n",
    "            if val > values[i]:\n",
    "                items.insert(i, item)\n",
    "                items.pop()\n",
    "                values.insert(i, val)\n",
    "                values.pop()\n",
    "                break\n",
    "    return items\n",
    "\n",
    "def max_k_and_values(k, iterator, key=lambda x: x):\n",
    "    items = [None for _ in range(k)]\n",
    "    values = [-float('inf') for _ in range(k)]\n",
    "    for item in iterator:\n",
    "        val = key(item)\n",
    "        for i in range(k):\n",
    "            if val > values[i]:\n",
    "                items.insert(i, item)\n",
    "                items.pop()\n",
    "                values.insert(i, val)\n",
    "                values.pop()\n",
    "                break\n",
    "    return list(zip(items, values))\n",
    "\n",
    "loss_fn = th.nn.MSELoss()\n",
    "def reward_model_saliency(model: RewardModel, obs, loc, radius=5, device='cuda'):\n",
    "    obs_copy = np.copy(obs)\n",
    "    baseline = model(obs_copy)\n",
    "    M = create_circular_mask(84, 84, center=loc, radius=radius)\n",
    "    for k in range(4):\n",
    "        img = obs_copy[0, :, :, k]\n",
    "        A = scipy.ndimage.gaussian_filter(img, 3)\n",
    "        obs_copy[0, :, :, k] = img*(1 - M) + A*M\n",
    "    modified = model(obs_copy)\n",
    "    return loss_fn(baseline, modified).item()\n"
   ]
  },
  {
   "cell_type": "code",
   "execution_count": 16,
   "metadata": {},
   "outputs": [
    {
     "data": {
      "text/plain": [
       "<matplotlib.image.AxesImage at 0x7fb2b5bd3790>"
      ]
     },
     "execution_count": 16,
     "metadata": {},
     "output_type": "execute_result"
    },
    {
     "data": {
      "image/png": "[encoded data removed]",
      "text/plain": [
       "<Figure size 432x288 with 1 Axes>"
      ]
     },
     "metadata": {
      "needs_background": "light"
     },
     "output_type": "display_data"
    }
   ],
   "source": [
    "obs = env.reset()\n",
    "for i in range(600):\n",
    "    action, _states = model.predict(obs, deterministic=False)\n",
    "    obs, reward, done, info = env.step(action)\n",
    "    if done:\n",
    "        break\n",
    "\n",
    "plt.imshow(env.get_images()[0])"
   ]
  },
  {
   "cell_type": "markdown",
   "metadata": {},
   "source": [
    "# Train a reward model on random labels"
   ]
  },
  {
   "cell_type": "code",
   "execution_count": 17,
   "metadata": {},
   "outputs": [],
   "source": [
    "train = RewardDataRandomized(train=True)\n",
    "test = RewardDataRandomized(train=False)\n",
    "\n",
    "train_loader = th.utils.data.DataLoader(train, batch_size=20, shuffle=True, num_workers=0)\n",
    "test_loader = th.utils.data.DataLoader(test, batch_size=20, shuffle=False, num_workers=0)"
   ]
  },
  {
   "cell_type": "code",
   "execution_count": 18,
   "metadata": {},
   "outputs": [],
   "source": [
    "rm = RewardModel(env, device)\n",
    "\n",
    "optimizer = th.optim.Adam(rm.parameters())\n",
    "loss_fn = th.nn.MSELoss()\n",
    "loss_fn_sum = th.nn.MSELoss(reduction=\"sum\")"
   ]
  },
  {
   "cell_type": "code",
   "execution_count": 19,
   "metadata": {},
   "outputs": [
    {
     "data": {
      "application/vnd.jupyter.widget-view+json": {
       "model_id": "5821afa37fe44ec7af78b467ecb570d7",
       "version_major": 2,
       "version_minor": 0
      },
      "text/plain": [
       "HBox(children=(FloatProgress(value=0.0, max=5.0), HTML(value='')))"
      ]
     },
     "metadata": {},
     "output_type": "display_data"
    },
    {
     "name": "stderr",
     "output_type": "stream",
     "text": [
      "/home/eric/Code/miniconda3/envs/interp/lib/python3.7/site-packages/ipykernel_launcher.py:38: UserWarning: To copy construct from a tensor, it is recommended to use sourceTensor.clone().detach() or sourceTensor.clone().detach().requires_grad_(True), rather than torch.tensor(sourceTensor).\n"
     ]
    },
    {
     "name": "stdout",
     "output_type": "stream",
     "text": [
      "Training Loss: 0.25117\n",
      "Testing Loss: 0.25117\n",
      "\n",
      "Training Loss: 0.24750\n",
      "Testing Loss: 0.24750\n",
      "\n",
      "Training Loss: 0.25125\n",
      "Testing Loss: 0.25125\n",
      "\n",
      "Training Loss: 0.25015\n",
      "Testing Loss: 0.25015\n",
      "\n",
      "Training Loss: 0.25074\n",
      "Testing Loss: 0.25074\n",
      "\n",
      "\n"
     ]
    }
   ],
   "source": [
    "for epoch in tqdm(range(5)):\n",
    "    for samples, targets in train_loader:\n",
    "        optimizer.zero_grad()\n",
    "        batch_loss = loss_fn(rm(samples), targets.to(device))\n",
    "        batch_loss.backward()\n",
    "        optimizer.step()\n",
    "    outof = 0\n",
    "    training_loss = 0\n",
    "    with th.no_grad():\n",
    "        for samples, target in islice(train_loader, 500):\n",
    "            training_loss += loss_fn_sum(rm(samples), targets.to(device))\n",
    "            outof += len(target)\n",
    "    training_loss = float(training_loss / outof)\n",
    "    print(\"Training Loss: {:.5f}\".format(training_loss))\n",
    "    outof = 0\n",
    "    testing_loss = 0\n",
    "    with th.no_grad():\n",
    "        for samples, target in islice(test_loader, 500):\n",
    "            testing_loss += loss_fn_sum(rm(samples), targets.to(device))\n",
    "            outof += len(target)\n",
    "    testing_loss = float(testing_loss / outof)\n",
    "    print(\"Testing Loss: {:.5f}\\n\".format(testing_loss))"
   ]
  },
  {
   "cell_type": "markdown",
   "metadata": {},
   "source": [
    "# Okay screw it -- too hard to train on random labels. Let's just do sanity check number 1"
   ]
  },
  {
   "cell_type": "code",
   "execution_count": 20,
   "metadata": {},
   "outputs": [],
   "source": [
    "class RewardModel(nn.Module):\n",
    "    \"\"\"A reward model using an A2C feature extractor\"\"\"\n",
    "    def __init__(self, env, device):\n",
    "        super(RewardModel, self).__init__()\n",
    "        self.ac_model = ALGOS['a2c']('CnnPolicy', env).policy\n",
    "        self.reward_net = nn.Linear(512, 1).to(device)\n",
    "        self.device = device\n",
    "    \n",
    "    def forward(self, obs):\n",
    "        obs_transposed = VecTransposeImage.transpose_image(obs)\n",
    "        latent, _, _= self.ac_model._get_latent(th.tensor(obs_transposed).to(self.device))\n",
    "        return self.reward_net(latent)\n",
    "    \n",
    "    def forward_tensor(self, obs):\n",
    "        \"\"\"obs is a tensor which has already been transposed correctly.\"\"\"\n",
    "        latent, _, _= self.ac_model._get_latent(obs.to(self.device))\n",
    "        return self.reward_net(latent)\n",
    "    \n",
    "    def freeze_extractor(self):\n",
    "        for p in self.ac_model.policy.features_extractor.parameters():\n",
    "            p.requires_grad = False"
   ]
  },
  {
   "cell_type": "code",
   "execution_count": 31,
   "metadata": {},
   "outputs": [
    {
     "data": {
      "text/plain": [
       "<All keys matched successfully>"
      ]
     },
     "execution_count": 31,
     "metadata": {},
     "output_type": "execute_result"
    }
   ],
   "source": [
    "rm = RewardModel(env, device)\n",
    "rm.load_state_dict(th.load(\"../reward-models/breakout_rm_v1.pt\"))"
   ]
  },
  {
   "cell_type": "code",
   "execution_count": 32,
   "metadata": {},
   "outputs": [],
   "source": [
    "matplotlib.use(\"Agg\")\n",
    "import matplotlib.animation as manimation"
   ]
  },
  {
   "cell_type": "code",
   "execution_count": 34,
   "metadata": {},
   "outputs": [
    {
     "data": {
      "application/vnd.jupyter.widget-view+json": {
       "model_id": "5917c3d1deb849ff9e93fb6f165c07c5",
       "version_major": 2,
       "version_minor": 0
      },
      "text/plain": [
       "HBox(children=(FloatProgress(value=0.0, max=50.0), HTML(value='')))"
      ]
     },
     "metadata": {},
     "output_type": "display_data"
    },
    {
     "name": "stdout",
     "output_type": "stream",
     "text": [
      "\n"
     ]
    },
    {
     "data": {
      "image/png": "[encoded data removed]",
      "text/plain": [
       "<Figure size 1008x360 with 5 Axes>"
      ]
     },
     "metadata": {
      "needs_background": "light"
     },
     "output_type": "display_data"
    }
   ],
   "source": [
    "radius = 5\n",
    "stride = 4\n",
    "\n",
    "TIMESTEPS = 50\n",
    "\n",
    "FFMpegWriter = manimation.writers['ffmpeg']\n",
    "metadata = dict(title=f\"Can you tell which is best?\", artist='Matplotlib',\n",
    "                comment='Movie support!')\n",
    "writer = FFMpegWriter(fps=6, metadata=metadata)\n",
    "\n",
    "fig, (axes) = plt.subplots(1, 5, gridspec_kw={'width_ratios': [1, 1, 1, 1, 1]}, figsize=(14, 5))\n",
    "axes[0].set_title(\"Unobstructed Game View\")\n",
    "axes[1].set_title(\"True Reward\")\n",
    "for k in range(3):\n",
    "    axes[k+2].set_title(f\"Random #{k+1}\")\n",
    "frames = [ax.imshow(env.get_images()[0]) for ax in axes]\n",
    "\n",
    "models = []\n",
    "for k in range(3):\n",
    "    random_model = RewardModel(env, device)\n",
    "    models.append(random_model)\n",
    "\n",
    "obs = env.reset()\n",
    "with writer.saving(fig, \"../videos/breakout/breakout-occlusion-sanity-check.mp4\", dpi=200):\n",
    "    for i in tqdm(range(TIMESTEPS)):\n",
    "        action, _states = model.predict(obs, deterministic=False)\n",
    "        obs, reward, done, info = env.step(action)\n",
    "        if done:\n",
    "            break\n",
    "        screenshot_baseline = env.get_images()[0]\n",
    "        frames[0].set_data(screenshot_baseline / screenshot_baseline.max())\n",
    "        \n",
    "        pairs = max_k_and_values(10, product(range(0, 84, stride), range(0, 84, stride)), key=lambda e: reward_model_saliency(rm, obs, e, radius=radius))\n",
    "        screenshot = np.copy(screenshot_baseline)\n",
    "        screenshot = screenshot / screenshot.max()\n",
    "        max_value = pairs[0][1]\n",
    "        for loc, value in pairs:\n",
    "            r, g, b, a = matplotlib.cm.hot(value / max_value)\n",
    "            region = create_circular_mask(84, 84, center=loc, radius=radius)\n",
    "            region = skimage.transform.resize(region, (210, 160))\n",
    "            spot = np.zeros((210, 160, 3))\n",
    "            spot[:, :, 0] = r * region\n",
    "            spot[:, :, 1] = g * region\n",
    "            spot[:, :, 2] = b * region\n",
    "            spot = spot * a\n",
    "            screenshot = spot + (1-spot)*screenshot\n",
    "            screenshot = screenshot / screenshot.max()\n",
    "        frames[1].set_data(screenshot)\n",
    "        \n",
    "        for k in range(3):\n",
    "            pairs = max_k_and_values(10, product(range(0, 84, stride), range(0, 84, stride)), key=lambda e: reward_model_saliency(models[k], obs, e, radius=radius))\n",
    "            screenshot = np.copy(screenshot_baseline)\n",
    "            screenshot = screenshot / screenshot.max()\n",
    "            max_value = pairs[0][1]\n",
    "            for loc, value in pairs:\n",
    "                r, g, b, a = matplotlib.cm.hot(value / max_value)\n",
    "                region = create_circular_mask(84, 84, center=loc, radius=radius)\n",
    "                region = skimage.transform.resize(region, (210, 160))\n",
    "                spot = np.zeros((210, 160, 3))\n",
    "                spot[:, :, 0] = r * region\n",
    "                spot[:, :, 1] = g * region\n",
    "                spot[:, :, 2] = b * region\n",
    "                spot = spot * a\n",
    "                screenshot = spot + (1-spot)*screenshot\n",
    "                screenshot = screenshot / screenshot.max()\n",
    "            frames[k+2].set_data(screenshot)\n",
    "        writer.grab_frame()\n",
    "#         plt.subplots_adjust(wspace=0.2)"
   ]
  },
  {
   "cell_type": "code",
   "execution_count": null,
   "metadata": {},
   "outputs": [],
   "source": []
  },
  {
   "cell_type": "code",
   "execution_count": null,
   "metadata": {},
   "outputs": [],
   "source": []
  },
  {
   "cell_type": "code",
   "execution_count": null,
   "metadata": {},
   "outputs": [],
   "source": []
  },
  {
   "cell_type": "code",
   "execution_count": null,
   "metadata": {},
   "outputs": [],
   "source": []
  },
  {
   "cell_type": "code",
   "execution_count": null,
   "metadata": {},
   "outputs": [],
   "source": []
  },
  {
   "cell_type": "code",
   "execution_count": null,
   "metadata": {},
   "outputs": [],
   "source": []
  },
  {
   "cell_type": "code",
   "execution_count": null,
   "metadata": {},
   "outputs": [],
   "source": []
  },
  {
   "cell_type": "code",
   "execution_count": null,
   "metadata": {},
   "outputs": [],
   "source": []
  },
  {
   "cell_type": "code",
   "execution_count": null,
   "metadata": {},
   "outputs": [],
   "source": []
  },
  {
   "cell_type": "code",
   "execution_count": null,
   "metadata": {},
   "outputs": [],
   "source": []
  },
  {
   "cell_type": "code",
   "execution_count": null,
   "metadata": {},
   "outputs": [],
   "source": []
  },
  {
   "cell_type": "code",
   "execution_count": null,
   "metadata": {},
   "outputs": [],
   "source": []
  }
 ],
 "metadata": {
  "kernelspec": {
   "display_name": "Python 3",
   "language": "python",
   "name": "python3"
  },
  "language_info": {
   "codemirror_mode": {
    "name": "ipython",
    "version": 3
   },
   "file_extension": ".py",
   "mimetype": "text/x-python",
   "name": "python",
   "nbconvert_exporter": "python",
   "pygments_lexer": "ipython3",
   "version": "3.7.7"
  }
 },
 "nbformat": 4,
 "nbformat_minor": 4
}
