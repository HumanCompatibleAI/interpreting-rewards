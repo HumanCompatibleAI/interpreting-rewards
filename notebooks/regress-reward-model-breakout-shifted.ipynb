{
 "cells": [
  {
   "cell_type": "code",
   "execution_count": 1,
   "metadata": {},
   "outputs": [],
   "source": [
    "import os\n",
    "import sys\n",
    "import importlib\n",
    "from pathlib import Path\n",
    "from itertools import product\n",
    "import h5py\n",
    "\n",
    "import gym\n",
    "import numpy as np\n",
    "import matplotlib\n",
    "import matplotlib.pyplot as plt\n",
    "import scipy.ndimage\n",
    "import skimage.transform\n",
    "import torch as th\n",
    "import torch.nn as nn\n",
    "\n",
    "from tqdm.auto import tqdm\n",
    "\n",
    "from stable_baselines3.common.utils import set_random_seed\n",
    "from stable_baselines3.common.vec_env import VecEnvWrapper, VecEnv, DummyVecEnv\n",
    "from stable_baselines3.common.vec_env import VecTransposeImage\n",
    "\n",
    "sys.path.insert(1, \"../rl-baselines3-zoo\")\n",
    "import utils.import_envs  # noqa: F401 pylint: disable=unused-import\n",
    "from utils.utils import StoreDict\n",
    "from utils import ALGOS, create_test_env, get_latest_run_id, get_saved_hyperparams"
   ]
  },
  {
   "cell_type": "code",
   "execution_count": 2,
   "metadata": {},
   "outputs": [
    {
     "name": "stdout",
     "output_type": "stream",
     "text": [
      "Using device: cuda\n"
     ]
    }
   ],
   "source": [
    "########### Set Device ############\n",
    "device = th.device('cuda' if th.cuda.is_available() else 'cpu')\n",
    "dtype = th.float32\n",
    "th.set_default_dtype(dtype)\n",
    "print(\"Using device: {}\".format(device))"
   ]
  },
  {
   "cell_type": "code",
   "execution_count": 3,
   "metadata": {},
   "outputs": [],
   "source": [
    "env_id = \"BreakoutNoFrameskip-v4\"\n",
    "folder = \"../agents\"\n",
    "algo = \"a2c\"\n",
    "n_timesteps = 10000\n",
    "num_threads = -1\n",
    "n_envs = 1\n",
    "exp_id = 3\n",
    "verbose = 1\n",
    "no_render = False\n",
    "deterministic = False\n",
    "load_best = True\n",
    "load_checkpoint = None\n",
    "norm_reward = False\n",
    "seed = 0\n",
    "reward_log = ''\n",
    "env_kwargs = None"
   ]
  },
  {
   "cell_type": "code",
   "execution_count": 4,
   "metadata": {},
   "outputs": [
    {
     "name": "stdout",
     "output_type": "stream",
     "text": [
      "Stacking 4 frames\n"
     ]
    }
   ],
   "source": [
    "# Sanity checks\n",
    "if exp_id > 0:\n",
    "    log_path = os.path.join(folder, algo, '{}_{}'.format(env_id, exp_id))\n",
    "else:\n",
    "    log_path = os.path.join(folder, algo)\n",
    "    \n",
    "found = False\n",
    "for ext in ['zip']:\n",
    "    model_path = os.path.join(log_path, f'{env_id}.{ext}')\n",
    "    found = os.path.isfile(model_path)\n",
    "    if found:\n",
    "        break\n",
    "\n",
    "if load_best:\n",
    "    model_path = os.path.join(log_path, \"best_model.zip\")\n",
    "    found = os.path.isfile(model_path)\n",
    "\n",
    "if load_checkpoint is not None:\n",
    "    model_path = os.path.join(log_path, f\"rl_model_{load_checkpoint}_steps.zip\")\n",
    "    found = os.path.isfile(model_path)\n",
    "\n",
    "if not found:\n",
    "    raise ValueError(f\"No model found for {algo} on {env_id}, path: {model_path}\")\n",
    "\n",
    "if algo in ['dqn', 'ddpg', 'sac', 'td3']:\n",
    "    n_envs = 1\n",
    "\n",
    "set_random_seed(seed)\n",
    "\n",
    "if num_threads > 0:\n",
    "    if verbose > 1:\n",
    "        print(f\"Setting torch.num_threads to {num_threads}\")\n",
    "    th.set_num_threads(num_threads)\n",
    "\n",
    "is_atari = 'NoFrameskip' in env_id\n",
    "\n",
    "stats_path = os.path.join(log_path, env_id)\n",
    "hyperparams, stats_path = get_saved_hyperparams(stats_path, norm_reward=norm_reward, test_mode=True)\n",
    "env_kwargs = {} if env_kwargs is None else env_kwargs\n",
    "\n",
    "log_dir = reward_log if reward_log != '' else None\n",
    "\n",
    "env = create_test_env(env_id, n_envs=n_envs,\n",
    "                      stats_path=stats_path, seed=seed, log_dir=log_dir,\n",
    "                      should_render=not no_render,\n",
    "                      hyperparams=hyperparams,\n",
    "                      env_kwargs=env_kwargs)\n",
    "\n",
    "model = ALGOS[algo].load(model_path, env=env)\n",
    "\n",
    "obs = env.reset()"
   ]
  },
  {
   "cell_type": "code",
   "execution_count": 5,
   "metadata": {},
   "outputs": [],
   "source": [
    "class RewardData(th.utils.data.Dataset):\n",
    "    def __init__(self, train=True):\n",
    "        self.f = h5py.File(f\"../datasets/rewards_{env_id}_shifted.hdf5\", 'r')\n",
    "        if train:\n",
    "            self.group = self.f['train']\n",
    "        else:\n",
    "            self.group = self.f['test']\n",
    "    \n",
    "    def __getitem__(self, k):\n",
    "        if k % 2 == 0:\n",
    "            input = self.group['zeros-inputs'][k // 2]\n",
    "            label = self.group['zeros-labels'][k // 2]\n",
    "            return (input, label)\n",
    "        else:\n",
    "            input = self.group['ones-inputs'][k // 2]\n",
    "            label = self.group['ones-labels'][k // 2]\n",
    "            return (input, label)\n",
    "    \n",
    "    def __len__(self):\n",
    "        return self.group['ones-labels'].shape[0] + self.group['zeros-labels'].shape[0]\n",
    "    \n",
    "    def close(self):\n",
    "        self.f.close()\n",
    "        \n",
    "class RewardModel(nn.Module):\n",
    "    \"\"\"A reward model using an A2C feature extractor\"\"\"\n",
    "    def __init__(self, env, device):\n",
    "        super(RewardModel, self).__init__()\n",
    "        self.ac_model = ALGOS['a2c']('CnnPolicy', env).policy\n",
    "        self.reward_net = nn.Linear(512, 1).to(device)\n",
    "        self.device = device\n",
    "    \n",
    "    def forward(self, obs):\n",
    "        obs_transposed = VecTransposeImage.transpose_image(obs)\n",
    "        latent, _, _= self.ac_model._get_latent(th.tensor(obs_transposed).to(self.device))\n",
    "        return self.reward_net(latent)\n",
    "    \n",
    "    def freeze_extractor(self):\n",
    "        for p in self.ac_model.policy.features_extractor.parameters():\n",
    "            p.requires_grad = False"
   ]
  },
  {
   "cell_type": "code",
   "execution_count": 6,
   "metadata": {},
   "outputs": [],
   "source": [
    "def create_circular_mask(h, w, center, radius=5):\n",
    "    Y, X = np.ogrid[:h, :w]\n",
    "    dist_from_center = np.sqrt((X - center[1])**2 + (Y-center[0])**2)\n",
    "    mask = dist_from_center <= radius\n",
    "    return np.array(mask, dtype=np.float32)\n",
    "\n",
    "def max_k(k, iterator, key=lambda x: x):\n",
    "    items = [None for _ in range(k)]\n",
    "    values = [-float('inf') for _ in range(k)]\n",
    "    for item in iterator:\n",
    "        val = key(item)\n",
    "        for i in range(k):\n",
    "            if val > values[i]:\n",
    "                items.insert(i, item)\n",
    "                items.pop()\n",
    "                values.insert(i, val)\n",
    "                values.pop()\n",
    "                break\n",
    "    return items\n",
    "\n",
    "def max_k_and_values(k, iterator, key=lambda x: x):\n",
    "    items = [None for _ in range(k)]\n",
    "    values = [-float('inf') for _ in range(k)]\n",
    "    for item in iterator:\n",
    "        val = key(item)\n",
    "        for i in range(k):\n",
    "            if val > values[i]:\n",
    "                items.insert(i, item)\n",
    "                items.pop()\n",
    "                values.insert(i, val)\n",
    "                values.pop()\n",
    "                break\n",
    "    return list(zip(items, values))\n",
    "\n",
    "loss_fn = th.nn.MSELoss()\n",
    "def policy_saliency(model, obs, loc, radius=5, device='cuda'):\n",
    "    obs_transposed = VecTransposeImage.transpose_image(np.copy(obs))\n",
    "    latent, _, _ = model.policy._get_latent(th.from_numpy(obs_transposed).to(device))\n",
    "    baseline = model.policy.action_net(latent)\n",
    "    M = create_circular_mask(84, 84, center=loc, radius=radius)\n",
    "    for k in range(4):\n",
    "        img = obs_transposed[0, k, :, :]\n",
    "        A = scipy.ndimage.gaussian_filter(img, 3)\n",
    "        obs_transposed[0, k, :, :] = img*(1 - M) + A*M\n",
    "    latent, _, _ = model.policy._get_latent(th.from_numpy(obs_transposed).to(device))\n",
    "    modified = model.policy.action_net(latent)\n",
    "    return loss_fn(baseline, modified).item()\n",
    "\n",
    "def value_saliency(model, obs, loc, radius=5, device='cuda'):\n",
    "    obs_transposed = VecTransposeImage.transpose_image(np.copy(obs))\n",
    "    latent, _, _ = model.policy._get_latent(th.from_numpy(obs_transposed).to(device))\n",
    "    baseline = model.policy.value_net(latent)\n",
    "    M = create_circular_mask(84, 84, center=loc, radius=radius)\n",
    "    for k in range(4):\n",
    "        img = obs_transposed[0, k, :, :]\n",
    "        A = scipy.ndimage.gaussian_filter(img, 3)\n",
    "        obs_transposed[0, k, :, :] = img*(1 - M) + A*M\n",
    "    latent, _, _ = model.policy._get_latent(th.from_numpy(obs_transposed).to(device))\n",
    "    modified = model.policy.value_net(latent)\n",
    "    return loss_fn(baseline, modified).item()\n",
    "\n",
    "def reward_model_saliency(model: RewardModel, obs, loc, radius=5, device='cuda'):\n",
    "    obs_copy = np.copy(obs)\n",
    "    baseline = model(obs_copy)\n",
    "    M = create_circular_mask(84, 84, center=loc, radius=radius)\n",
    "    for k in range(4):\n",
    "        img = obs_copy[0, :, :, k]\n",
    "        A = scipy.ndimage.gaussian_filter(img, 3)\n",
    "        obs_copy[0, :, :, k] = img*(1 - M) + A*M\n",
    "    modified = model(obs_copy)\n",
    "    return loss_fn(baseline, modified).item()\n",
    "\n",
    "def invert_preprocessing(loc):\n",
    "    x, y = loc\n",
    "    return (int(210/84*x), int(160/84*y))"
   ]
  },
  {
   "cell_type": "code",
   "execution_count": 7,
   "metadata": {},
   "outputs": [],
   "source": [
    "obs = env.reset()\n",
    "for i in range(1500):\n",
    "    action, _states = model.predict(obs, deterministic=False)\n",
    "    obs, reward, done, info = env.step(action)\n",
    "    if done:\n",
    "        break"
   ]
  },
  {
   "cell_type": "code",
   "execution_count": 8,
   "metadata": {},
   "outputs": [
    {
     "data": {
      "text/plain": [
       "<matplotlib.image.AxesImage at 0x7fb1334d88d0>"
      ]
     },
     "execution_count": 8,
     "metadata": {},
     "output_type": "execute_result"
    },
    {
     "data": {
      "image/png": "[encoded data removed]",
      "text/plain": [
       "<Figure size 432x288 with 1 Axes>"
      ]
     },
     "metadata": {
      "needs_background": "light"
     },
     "output_type": "display_data"
    }
   ],
   "source": [
    "plt.imshow(env.get_images()[0])"
   ]
  },
  {
   "cell_type": "markdown",
   "metadata": {},
   "source": [
    "# Danger zone: train the reward model:"
   ]
  },
  {
   "cell_type": "code",
   "execution_count": 13,
   "metadata": {},
   "outputs": [],
   "source": [
    "train = RewardData(train=True)\n",
    "test = RewardData(train=False)"
   ]
  },
  {
   "cell_type": "code",
   "execution_count": 14,
   "metadata": {},
   "outputs": [],
   "source": [
    "train_loader = th.utils.data.DataLoader(train, batch_size=20, shuffle=True, num_workers=0)\n",
    "test_loader = th.utils.data.DataLoader(test, batch_size=20, shuffle=False, num_workers=0)"
   ]
  },
  {
   "cell_type": "code",
   "execution_count": 15,
   "metadata": {},
   "outputs": [],
   "source": [
    "rm = RewardModel(env, device)"
   ]
  },
  {
   "cell_type": "code",
   "execution_count": 16,
   "metadata": {},
   "outputs": [],
   "source": [
    "optimizer = th.optim.Adam(rm.parameters())\n",
    "loss_fn = th.nn.MSELoss(reduction=\"sum\")"
   ]
  },
  {
   "cell_type": "code",
   "execution_count": 17,
   "metadata": {},
   "outputs": [
    {
     "data": {
      "application/vnd.jupyter.widget-view+json": {
       "model_id": "3a2c9e2c5e4f42899e5782efe0fdb886",
       "version_major": 2,
       "version_minor": 0
      },
      "text/plain": [
       "HBox(children=(FloatProgress(value=0.0, max=5000.0), HTML(value='')))"
      ]
     },
     "metadata": {},
     "output_type": "display_data"
    },
    {
     "name": "stderr",
     "output_type": "stream",
     "text": [
      "/home/eric/Code/miniconda3/envs/interp/lib/python3.7/site-packages/ipykernel_launcher.py:35: UserWarning: To copy construct from a tensor, it is recommended to use sourceTensor.clone().detach() or sourceTensor.clone().detach().requires_grad_(True), rather than torch.tensor(sourceTensor).\n"
     ]
    },
    {
     "name": "stdout",
     "output_type": "stream",
     "text": [
      "tensor(0.6563, device='cuda:0', grad_fn=<MseLossBackward>)\n",
      "tensor(0.7345, device='cuda:0', grad_fn=<MseLossBackward>)\n",
      "tensor(0.1293, device='cuda:0', grad_fn=<MseLossBackward>)\n",
      "tensor(0.0685, device='cuda:0', grad_fn=<MseLossBackward>)\n",
      "tensor(0.0705, device='cuda:0', grad_fn=<MseLossBackward>)\n",
      "\n"
     ]
    }
   ],
   "source": [
    "num_batches = 0\n",
    "for samples, targets in tqdm(train_loader):\n",
    "    if targets.max() > 1:\n",
    "        print(targets.max())\n",
    "    optimizer.zero_grad()\n",
    "    batch_loss = loss_fn(rm(samples), targets.to(device))\n",
    "    batch_loss.backward()\n",
    "    optimizer.step()\n",
    "    num_batches += 1\n",
    "    if num_batches % 1000 == 0:\n",
    "        print(batch_loss)"
   ]
  },
  {
   "cell_type": "code",
   "execution_count": 18,
   "metadata": {},
   "outputs": [
    {
     "data": {
      "application/vnd.jupyter.widget-view+json": {
       "model_id": "8b54e64c6150464a9bd3ad8357cdf807",
       "version_major": 2,
       "version_minor": 0
      },
      "text/plain": [
       "HBox(children=(FloatProgress(value=0.0, max=2500.0), HTML(value='')))"
      ]
     },
     "metadata": {},
     "output_type": "display_data"
    },
    {
     "name": "stderr",
     "output_type": "stream",
     "text": [
      "/home/eric/Code/miniconda3/envs/interp/lib/python3.7/site-packages/ipykernel_launcher.py:35: UserWarning: To copy construct from a tensor, it is recommended to use sourceTensor.clone().detach() or sourceTensor.clone().detach().requires_grad_(True), rather than torch.tensor(sourceTensor).\n"
     ]
    },
    {
     "name": "stdout",
     "output_type": "stream",
     "text": [
      "\n",
      "0.06579731404781342\n"
     ]
    }
   ],
   "source": [
    "outof = 0\n",
    "testing_loss = 0\n",
    "with th.no_grad():\n",
    "    for sample, target in tqdm(test_loader):\n",
    "        output = rm(sample)\n",
    "        testing_loss += loss_fn(output, target.to(device))\n",
    "        outof += len(target)\n",
    "testing_loss = float(testing_loss / outof)\n",
    "print(testing_loss)"
   ]
  },
  {
   "cell_type": "markdown",
   "metadata": {},
   "source": [
    "# Okay so this is a great reward model. Let's save it."
   ]
  },
  {
   "cell_type": "code",
   "execution_count": 19,
   "metadata": {},
   "outputs": [],
   "source": [
    "th.save(rm.state_dict(), \"../reward-models/breakout_shifted_rm_v1.pt\")"
   ]
  },
  {
   "cell_type": "markdown",
   "metadata": {},
   "source": [
    "# Done saving. Let's illustrate an important point: the block disappears, and the score changes, in the frame __after__ the reward is returned."
   ]
  },
  {
   "cell_type": "code",
   "execution_count": 9,
   "metadata": {},
   "outputs": [],
   "source": [
    "rm = RewardModel(env, device)"
   ]
  },
  {
   "cell_type": "code",
   "execution_count": 20,
   "metadata": {},
   "outputs": [
    {
     "data": {
      "text/plain": [
       "<All keys matched successfully>"
      ]
     },
     "execution_count": 20,
     "metadata": {},
     "output_type": "execute_result"
    }
   ],
   "source": [
    "rm.load_state_dict(th.load(\"../reward-models/breakout_shifted_rm_v1.pt\"))"
   ]
  },
  {
   "cell_type": "code",
   "execution_count": 21,
   "metadata": {},
   "outputs": [],
   "source": [
    "obs = env.reset()\n",
    "for i in range(500):\n",
    "    action, _states = model.predict(obs, deterministic=False)\n",
    "    obs, reward, done, info = env.step(action)\n",
    "    if reward:\n",
    "        break"
   ]
  },
  {
   "cell_type": "code",
   "execution_count": 22,
   "metadata": {},
   "outputs": [
    {
     "data": {
      "image/png": "[encoded data removed]",
      "text/plain": [
       "<Figure size 720x288 with 4 Axes>"
      ]
     },
     "metadata": {
      "needs_background": "light"
     },
     "output_type": "display_data"
    }
   ],
   "source": [
    "plt.figure(figsize=(10, 4))\n",
    "for k in range(4):\n",
    "    plt.subplot(1, 4, k+1)\n",
    "    plt.imshow(obs[0, :, :, k])"
   ]
  },
  {
   "cell_type": "code",
   "execution_count": 13,
   "metadata": {},
   "outputs": [
    {
     "name": "stdout",
     "output_type": "stream",
     "text": [
      "0.0\n"
     ]
    },
    {
     "data": {
      "image/png": "[encoded data removed]",
      "text/plain": [
       "<Figure size 720x288 with 4 Axes>"
      ]
     },
     "metadata": {
      "needs_background": "light"
     },
     "output_type": "display_data"
    }
   ],
   "source": [
    "action, _states = model.predict(obs, deterministic=False)\n",
    "obs, reward, done, info = env.step(action)\n",
    "print(reward[0])\n",
    "\n",
    "plt.figure(figsize=(10, 4))\n",
    "for k in range(4):\n",
    "    plt.subplot(1, 4, k+1)\n",
    "    plt.imshow(obs[0, :, :, k])"
   ]
  },
  {
   "cell_type": "markdown",
   "metadata": {},
   "source": [
    "Let's now tune the saliency map settings"
   ]
  },
  {
   "cell_type": "code",
   "execution_count": 14,
   "metadata": {},
   "outputs": [],
   "source": [
    "obs = env.reset()\n",
    "for i in range(500):\n",
    "    action, _states = model.predict(obs, deterministic=False)\n",
    "    obs, reward, done, info = env.step(action)\n",
    "    if reward:\n",
    "        break"
   ]
  },
  {
   "cell_type": "code",
   "execution_count": 15,
   "metadata": {},
   "outputs": [
    {
     "data": {
      "image/png": "[encoded data removed]",
      "text/plain": [
       "<Figure size 720x288 with 4 Axes>"
      ]
     },
     "metadata": {
      "needs_background": "light"
     },
     "output_type": "display_data"
    }
   ],
   "source": [
    "plt.figure(figsize=(10, 4))\n",
    "for k in range(4):\n",
    "    plt.subplot(1, 4, k+1)\n",
    "    plt.imshow(obs[0, :, :, k])"
   ]
  },
  {
   "cell_type": "code",
   "execution_count": 23,
   "metadata": {},
   "outputs": [],
   "source": [
    "obs = env.reset()\n",
    "for i in range(500):\n",
    "    action, _states = model.predict(obs, deterministic=False)\n",
    "    obs, reward, done, info = env.step(action)\n",
    "    if reward:\n",
    "        break"
   ]
  },
  {
   "cell_type": "code",
   "execution_count": 25,
   "metadata": {},
   "outputs": [
    {
     "name": "stdout",
     "output_type": "stream",
     "text": [
      "0.040659867227077484\n",
      "0.034052349627017975\n",
      "0.02468189224600792\n",
      "0.023679660633206367\n",
      "0.0009675180190242827\n",
      "0.0008390228031203151\n",
      "0.000810560944955796\n",
      "0.0007693655206821859\n",
      "0.0006617245962843299\n",
      "0.000553661200683564\n"
     ]
    },
    {
     "data": {
      "text/plain": [
       "<matplotlib.image.AxesImage at 0x7fb131648050>"
      ]
     },
     "execution_count": 25,
     "metadata": {},
     "output_type": "execute_result"
    },
    {
     "data": {
      "image/png": "[encoded data removed]",
      "text/plain": [
       "<Figure size 432x288 with 1 Axes>"
      ]
     },
     "metadata": {
      "needs_background": "light"
     },
     "output_type": "display_data"
    }
   ],
   "source": [
    "radius = 5\n",
    "stride = 4\n",
    "\n",
    "pairs = max_k_and_values(10, product(range(0, 84, stride), range(0, 84, stride)), key=lambda e: reward_model_saliency(rm, obs, e, radius=radius))\n",
    "screenshot = env.get_images()[0]\n",
    "screenshot = screenshot / screenshot.max()\n",
    "max_value = pairs[0][1]\n",
    "for loc, value in pairs:\n",
    "    print(value)\n",
    "    spot = value/max_value*create_circular_mask(84, 84, center=loc, radius=radius)\n",
    "    spot = skimage.transform.resize(spot, (210, 160))\n",
    "    screenshot[:, :, 1] = spot + (1-spot)*screenshot[:, :, 1]\n",
    "    screenshot = screenshot / screenshot.max()\n",
    "plt.imshow(screenshot)"
   ]
  },
  {
   "cell_type": "code",
   "execution_count": 27,
   "metadata": {},
   "outputs": [],
   "source": [
    "matplotlib.use(\"Agg\")\n",
    "import matplotlib.animation as manimation\n",
    "\n",
    "import warnings\n",
    "warnings.filterwarnings(\"ignore\")"
   ]
  },
  {
   "cell_type": "code",
   "execution_count": 28,
   "metadata": {},
   "outputs": [
    {
     "data": {
      "application/vnd.jupyter.widget-view+json": {
       "model_id": "2aae9ad9d4ab4bf4b86ab3ccebf8a762",
       "version_major": 2,
       "version_minor": 0
      },
      "text/plain": [
       "HBox(children=(FloatProgress(value=0.0, max=300.0), HTML(value='')))"
      ]
     },
     "metadata": {},
     "output_type": "display_data"
    },
    {
     "name": "stdout",
     "output_type": "stream",
     "text": [
      "\n"
     ]
    },
    {
     "data": {
      "image/png": "[encoded data removed]",
      "text/plain": [
       "<Figure size 432x288 with 1 Axes>"
      ]
     },
     "metadata": {
      "needs_background": "light"
     },
     "output_type": "display_data"
    }
   ],
   "source": [
    "radius = 5\n",
    "stride = 4\n",
    "\n",
    "TIMESTEPS = 300\n",
    "\n",
    "FFMpegWriter = manimation.writers['ffmpeg']\n",
    "metadata = dict(title=f\"Breakout Policy Saliency Map\", artist='Matplotlib',\n",
    "                comment='Movie support!')\n",
    "writer = FFMpegWriter(fps=20, metadata=metadata)\n",
    "\n",
    "fig, ax = plt.subplots(1, 1)\n",
    "\n",
    "obs = env.reset()\n",
    "imshow = ax.imshow(env.get_images()[0])\n",
    "with writer.saving(fig, \"../videos/breakout_shifted_reward_model_saliency_old.mp4\", dpi=200):\n",
    "    for i in tqdm(range(TIMESTEPS)):\n",
    "        action, _states = model.predict(obs, deterministic=False)\n",
    "        obs, reward, done, info = env.step(action)\n",
    "        if done:\n",
    "            break\n",
    "        pairs = max_k_and_values(5, product(range(0, 84, stride), range(0, 84, stride)), key=lambda e: reward_model_saliency(rm, obs, e, radius=radius))\n",
    "        screenshot = env.get_images()[0]\n",
    "        screenshot = screenshot / screenshot.max()\n",
    "#         screenshot = screenshot * 0.4\n",
    "        max_value = pairs[0][1]\n",
    "        for loc, value in pairs:\n",
    "            spot = value/max_value*create_circular_mask(84, 84, center=loc, radius=radius)\n",
    "            spot = skimage.transform.resize(spot, (210, 160))\n",
    "            screenshot[:, :, 1] = spot + (1-spot)*screenshot[:, :, 1]\n",
    "            screenshot = screenshot / screenshot.max()\n",
    "        imshow.set_data(screenshot)\n",
    "        writer.grab_frame()"
   ]
  },
  {
   "cell_type": "code",
   "execution_count": 81,
   "metadata": {},
   "outputs": [
    {
     "data": {
      "application/vnd.jupyter.widget-view+json": {
       "model_id": "c6a0f641755240a9801a3be361564620",
       "version_major": 2,
       "version_minor": 0
      },
      "text/plain": [
       "HBox(children=(FloatProgress(value=0.0, max=300.0), HTML(value='')))"
      ]
     },
     "metadata": {},
     "output_type": "display_data"
    },
    {
     "name": "stdout",
     "output_type": "stream",
     "text": [
      "\n"
     ]
    },
    {
     "data": {
      "image/png": "[encoded data removed]",
      "text/plain": [
       "<Figure size 432x288 with 1 Axes>"
      ]
     },
     "metadata": {
      "needs_background": "light"
     },
     "output_type": "display_data"
    }
   ],
   "source": [
    "radius = 7\n",
    "stride = 6\n",
    "\n",
    "TIMESTEPS = 300\n",
    "\n",
    "FFMpegWriter = manimation.writers['ffmpeg']\n",
    "metadata = dict(title=f\"Breakout Policy Saliency Map\", artist='Matplotlib',\n",
    "                comment='Movie support!')\n",
    "writer = FFMpegWriter(fps=20, metadata=metadata)\n",
    "\n",
    "fig, ax = plt.subplots(1, 1)\n",
    "\n",
    "obs = env.reset()\n",
    "for i in range(1100):\n",
    "    action, _states = model.predict(obs, deterministic=False)\n",
    "    obs, reward, done, info = env.step(action)\n",
    "    if done:\n",
    "        break\n",
    "\n",
    "imshow = ax.imshow(env.get_images()[0])\n",
    "with writer.saving(fig, \"../videos/breakout_reward_model_saliency_later.mp4\", dpi=200):\n",
    "    for i in tqdm(range(TIMESTEPS)):\n",
    "        action, _states = model.predict(obs, deterministic=False)\n",
    "        obs, reward, done, info = env.step(action)\n",
    "        if done:\n",
    "            break\n",
    "        locs = max_k(5, product(range(0, 84, stride), range(0, 84, stride)), key=lambda e: reward_model_saliency(rm, obs, e, radius=radius))\n",
    "        screenshot = env.get_images()[0]\n",
    "        screenshot = screenshot / screenshot.max()\n",
    "#         screenshot = screenshot * 0.4\n",
    "        for loc in locs:\n",
    "            spot = 1.0*create_circular_mask(84, 84, center=loc, radius=radius)\n",
    "            spot = skimage.transform.resize(spot, (210, 160))\n",
    "            screenshot[:, :, 2] = spot + (1-spot)*screenshot[:, :, 2]\n",
    "            screenshot = screenshot / screenshot.max()\n",
    "        imshow.set_data(screenshot)\n",
    "        writer.grab_frame()"
   ]
  },
  {
   "cell_type": "code",
   "execution_count": null,
   "metadata": {},
   "outputs": [],
   "source": []
  },
  {
   "cell_type": "code",
   "execution_count": null,
   "metadata": {},
   "outputs": [],
   "source": []
  },
  {
   "cell_type": "code",
   "execution_count": null,
   "metadata": {},
   "outputs": [],
   "source": []
  },
  {
   "cell_type": "code",
   "execution_count": null,
   "metadata": {},
   "outputs": [],
   "source": []
  },
  {
   "cell_type": "code",
   "execution_count": null,
   "metadata": {},
   "outputs": [],
   "source": []
  },
  {
   "cell_type": "code",
   "execution_count": null,
   "metadata": {},
   "outputs": [],
   "source": []
  },
  {
   "cell_type": "code",
   "execution_count": null,
   "metadata": {},
   "outputs": [],
   "source": []
  },
  {
   "cell_type": "code",
   "execution_count": null,
   "metadata": {},
   "outputs": [],
   "source": []
  },
  {
   "cell_type": "code",
   "execution_count": null,
   "metadata": {},
   "outputs": [],
   "source": []
  },
  {
   "cell_type": "code",
   "execution_count": null,
   "metadata": {},
   "outputs": [],
   "source": []
  }
 ],
 "metadata": {
  "kernelspec": {
   "display_name": "Python 3",
   "language": "python",
   "name": "python3"
  },
  "language_info": {
   "codemirror_mode": {
    "name": "ipython",
    "version": 3
   },
   "file_extension": ".py",
   "mimetype": "text/x-python",
   "name": "python",
   "nbconvert_exporter": "python",
   "pygments_lexer": "ipython3",
   "version": "3.7.7"
  }
 },
 "nbformat": 4,
 "nbformat_minor": 4
}
