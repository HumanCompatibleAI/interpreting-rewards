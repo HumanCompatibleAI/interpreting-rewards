{
 "cells": [
  {
   "cell_type": "code",
   "execution_count": 34,
   "metadata": {},
   "outputs": [],
   "source": [
    "import os\n",
    "import sys\n",
    "import importlib\n",
    "from pathlib import Path\n",
    "from itertools import product\n",
    "import h5py\n",
    "\n",
    "import gym\n",
    "import numpy as np\n",
    "import matplotlib\n",
    "import matplotlib.cm\n",
    "import matplotlib.pyplot as plt\n",
    "import scipy.ndimage\n",
    "import skimage.transform\n",
    "import torch as th\n",
    "import torch.nn as nn\n",
    "\n",
    "from tqdm.auto import tqdm\n",
    "\n",
    "from stable_baselines3.common.utils import set_random_seed\n",
    "from stable_baselines3.common.vec_env import VecEnvWrapper, VecEnv, DummyVecEnv\n",
    "from stable_baselines3.common.vec_env import VecTransposeImage\n",
    "\n",
    "sys.path.insert(1, \"../rl-baselines3-zoo\")\n",
    "import utils.import_envs  # noqa: F401 pylint: disable=unused-import\n",
    "from utils.utils import StoreDict\n",
    "from utils import ALGOS, create_test_env, get_latest_run_id, get_saved_hyperparams\n",
    "\n",
    "from interp.common.wrappers import CustomRewardWrapper, BlurBreakoutScore, BlurSeaquestScore"
   ]
  },
  {
   "cell_type": "code",
   "execution_count": 35,
   "metadata": {},
   "outputs": [
    {
     "name": "stdout",
     "output_type": "stream",
     "text": [
      "Using device: cuda\n"
     ]
    }
   ],
   "source": [
    "########### Set Device ############\n",
    "device = th.device('cuda' if th.cuda.is_available() else 'cpu')\n",
    "dtype = th.float32\n",
    "th.set_default_dtype(dtype)\n",
    "print(\"Using device: {}\".format(device))"
   ]
  },
  {
   "cell_type": "code",
   "execution_count": 36,
   "metadata": {},
   "outputs": [],
   "source": [
    "env_id = \"BreakoutNoFrameskip-v4\"\n",
    "folder = \"../agents\"\n",
    "algo = \"a2c\"\n",
    "n_timesteps = 10000\n",
    "num_threads = -1\n",
    "n_envs = 1\n",
    "exp_id = 3\n",
    "verbose = 1\n",
    "no_render = False\n",
    "deterministic = False\n",
    "load_best = True\n",
    "load_checkpoint = None\n",
    "norm_reward = False\n",
    "seed = 0\n",
    "reward_log = ''\n",
    "env_kwargs = None"
   ]
  },
  {
   "cell_type": "code",
   "execution_count": 37,
   "metadata": {},
   "outputs": [
    {
     "name": "stdout",
     "output_type": "stream",
     "text": [
      "Stacking 4 frames\n"
     ]
    }
   ],
   "source": [
    "# Sanity checks\n",
    "if exp_id > 0:\n",
    "    log_path = os.path.join(folder, algo, '{}_{}'.format(env_id, exp_id))\n",
    "else:\n",
    "    log_path = os.path.join(folder, algo)\n",
    "    \n",
    "found = False\n",
    "for ext in ['zip']:\n",
    "    model_path = os.path.join(log_path, f'{env_id}.{ext}')\n",
    "    found = os.path.isfile(model_path)\n",
    "    if found:\n",
    "        break\n",
    "\n",
    "if load_best:\n",
    "    model_path = os.path.join(log_path, \"best_model.zip\")\n",
    "    found = os.path.isfile(model_path)\n",
    "\n",
    "if load_checkpoint is not None:\n",
    "    model_path = os.path.join(log_path, f\"rl_model_{load_checkpoint}_steps.zip\")\n",
    "    found = os.path.isfile(model_path)\n",
    "\n",
    "if not found:\n",
    "    raise ValueError(f\"No model found for {algo} on {env_id}, path: {model_path}\")\n",
    "\n",
    "if algo in ['dqn', 'ddpg', 'sac', 'td3']:\n",
    "    n_envs = 1\n",
    "\n",
    "set_random_seed(seed)\n",
    "\n",
    "if num_threads > 0:\n",
    "    if verbose > 1:\n",
    "        print(f\"Setting torch.num_threads to {num_threads}\")\n",
    "    th.set_num_threads(num_threads)\n",
    "\n",
    "is_atari = 'NoFrameskip' in env_id\n",
    "\n",
    "stats_path = os.path.join(log_path, env_id)\n",
    "hyperparams, stats_path = get_saved_hyperparams(stats_path, norm_reward=norm_reward, test_mode=True)\n",
    "env_kwargs = {} if env_kwargs is None else env_kwargs\n",
    "\n",
    "log_dir = reward_log if reward_log != '' else None\n",
    "\n",
    "env = create_test_env(env_id, \n",
    "                      n_envs=n_envs,\n",
    "                      stats_path=stats_path, \n",
    "                      seed=seed, \n",
    "                      log_dir=log_dir,\n",
    "                      should_render=not no_render,\n",
    "                      hyperparams=hyperparams,\n",
    "                      env_kwargs=env_kwargs)\n",
    "\n",
    "# model = ALGOS[algo].load(model_path, env=env)\n",
    "\n",
    "obs = env.reset()"
   ]
  },
  {
   "cell_type": "raw",
   "metadata": {},
   "source": [
    "class RewardModel(nn.Module):\n",
    "    \"\"\"A reward model using an A2C feature extractor\"\"\"\n",
    "    def __init__(self, env, device):\n",
    "        super(RewardModel, self).__init__()\n",
    "        self.ac_model = ALGOS['a2c']('CnnPolicy', env).policy\n",
    "        self.reward_net = nn.Linear(512, 1).to(device)\n",
    "        self.device = device\n",
    "    \n",
    "    def forward(self, obs):\n",
    "        obs_transposed = VecTransposeImage.transpose_image(obs)\n",
    "        latent, _, _= self.ac_model._get_latent(th.tensor(obs_transposed).to(self.device))\n",
    "        return self.reward_net(latent)\n",
    "    \n",
    "    def forward_tensor(self, obs):\n",
    "        \"\"\"obs is a tensor which has already been transposed correctly.\"\"\"\n",
    "        latent, _, _= self.ac_model._get_latent(obs.to(self.device))\n",
    "        return self.reward_net(latent)\n",
    "    \n",
    "    def freeze_extractor(self):\n",
    "        for p in self.ac_model.policy.features_extractor.parameters():\n",
    "            p.requires_grad = False"
   ]
  },
  {
   "cell_type": "code",
   "execution_count": 6,
   "metadata": {},
   "outputs": [
    {
     "data": {
      "text/plain": [
       "<All keys matched successfully>"
      ]
     },
     "execution_count": 6,
     "metadata": {},
     "output_type": "execute_result"
    }
   ],
   "source": [
    "rm = RewardModel(env, device)\n",
    "rm.load_state_dict(th.load(\"../reward-models/breakout_rm_v1.pt\"))"
   ]
  },
  {
   "cell_type": "markdown",
   "metadata": {},
   "source": [
    "# Compare blurred vs. non-blurred rewards"
   ]
  },
  {
   "cell_type": "code",
   "execution_count": 22,
   "metadata": {},
   "outputs": [],
   "source": [
    "blurred = CustomRewardWrapper(BlurBreakoutScore(env), rm)\n",
    "blurred_obs = blurred.reset()\n",
    "non_blurred = CustomRewardWrapper(env, rm)\n",
    "non_blurred_obs = non_blurred.reset()"
   ]
  },
  {
   "cell_type": "code",
   "execution_count": 23,
   "metadata": {},
   "outputs": [
    {
     "data": {
      "image/png": "[encoded data removed]",
      "text/plain": [
       "<Figure size 432x288 with 8 Axes>"
      ]
     },
     "metadata": {
      "needs_background": "light"
     },
     "output_type": "display_data"
    }
   ],
   "source": [
    "for k in range(4):\n",
    "    plt.subplot(2, 4, k+1)\n",
    "    plt.imshow(blurred_obs[0, :, :, k])\n",
    "for k in range(4):\n",
    "    plt.subplot(2, 4, 4+k+1)\n",
    "    plt.imshow(non_blurred_obs[0, :, :, k])"
   ]
  },
  {
   "cell_type": "code",
   "execution_count": 25,
   "metadata": {},
   "outputs": [
    {
     "name": "stdout",
     "output_type": "stream",
     "text": [
      "Baseline: 0.00442592054605484\n",
      "Blured:   -0.0008994713425636292\n",
      "Baseline: 0.008044153451919556\n",
      "Blured:   0.0036692731082439423\n",
      "Baseline: 0.009029045701026917\n",
      "Blured:   0.0078512504696846\n",
      "Baseline: 0.0019236057996749878\n",
      "Blured:   0.002749081701040268\n",
      "Baseline: -0.0014254599809646606\n",
      "Blured:   -0.018477119505405426\n",
      "Baseline: 0.009193278849124908\n",
      "Blured:   0.011905387043952942\n",
      "Baseline: -0.0007374584674835205\n",
      "Blured:   -0.0012349411845207214\n",
      "Baseline: 0.003374435007572174\n",
      "Blured:   0.005270332098007202\n",
      "Baseline: -0.00029508769512176514\n",
      "Blured:   0.00023503601551055908\n",
      "Baseline: -0.010874062776565552\n",
      "Blured:   0.3269747495651245\n"
     ]
    }
   ],
   "source": [
    "for _ in range(10):\n",
    "    obs, reward, done, info = non_blurred.step([0])\n",
    "    print(f\"Baseline: {reward.item()}\")\n",
    "    obs, reward, done, info = blurred.step([0])\n",
    "    print(f\"Blured:   {reward.item()}\")"
   ]
  },
  {
   "cell_type": "markdown",
   "metadata": {},
   "source": [
    "# meh seems like blurring doesn't change the rewards too much on breakout. let's see about seaquest"
   ]
  },
  {
   "cell_type": "code",
   "execution_count": 26,
   "metadata": {},
   "outputs": [],
   "source": [
    "env_id = \"SeaquestNoFrameskip-v4\"\n",
    "folder = \"../agents\"\n",
    "algo = \"a2c\"\n",
    "n_timesteps = 10000\n",
    "num_threads = -1\n",
    "n_envs = 1\n",
    "exp_id = 1\n",
    "verbose = 1\n",
    "no_render = False\n",
    "deterministic = False\n",
    "load_best = True\n",
    "load_checkpoint = None\n",
    "norm_reward = False\n",
    "seed = 0\n",
    "reward_log = ''\n",
    "env_kwargs = None"
   ]
  },
  {
   "cell_type": "code",
   "execution_count": 27,
   "metadata": {},
   "outputs": [
    {
     "name": "stdout",
     "output_type": "stream",
     "text": [
      "Stacking 4 frames\n"
     ]
    }
   ],
   "source": [
    "# Sanity checks\n",
    "if exp_id > 0:\n",
    "    log_path = os.path.join(folder, algo, '{}_{}'.format(env_id, exp_id))\n",
    "else:\n",
    "    log_path = os.path.join(folder, algo)\n",
    "    \n",
    "found = False\n",
    "for ext in ['zip']:\n",
    "    model_path = os.path.join(log_path, f'{env_id}.{ext}')\n",
    "    found = os.path.isfile(model_path)\n",
    "    if found:\n",
    "        break\n",
    "\n",
    "if load_best:\n",
    "    model_path = os.path.join(log_path, \"best_model.zip\")\n",
    "    found = os.path.isfile(model_path)\n",
    "\n",
    "if load_checkpoint is not None:\n",
    "    model_path = os.path.join(log_path, f\"rl_model_{load_checkpoint}_steps.zip\")\n",
    "    found = os.path.isfile(model_path)\n",
    "\n",
    "if not found:\n",
    "    raise ValueError(f\"No model found for {algo} on {env_id}, path: {model_path}\")\n",
    "\n",
    "if algo in ['dqn', 'ddpg', 'sac', 'td3']:\n",
    "    n_envs = 1\n",
    "\n",
    "set_random_seed(seed)\n",
    "\n",
    "if num_threads > 0:\n",
    "    if verbose > 1:\n",
    "        print(f\"Setting torch.num_threads to {num_threads}\")\n",
    "    th.set_num_threads(num_threads)\n",
    "\n",
    "is_atari = 'NoFrameskip' in env_id\n",
    "\n",
    "stats_path = os.path.join(log_path, env_id)\n",
    "hyperparams, stats_path = get_saved_hyperparams(stats_path, norm_reward=norm_reward, test_mode=True)\n",
    "env_kwargs = {} if env_kwargs is None else env_kwargs\n",
    "\n",
    "log_dir = reward_log if reward_log != '' else None\n",
    "\n",
    "env = create_test_env(env_id, \n",
    "                      n_envs=n_envs,\n",
    "                      stats_path=stats_path, \n",
    "                      seed=seed, \n",
    "                      log_dir=log_dir,\n",
    "                      should_render=not no_render,\n",
    "                      hyperparams=hyperparams,\n",
    "                      env_kwargs=env_kwargs)\n",
    "\n",
    "# model = ALGOS[algo].load(model_path, env=env)\n",
    "\n",
    "obs = env.reset()"
   ]
  },
  {
   "cell_type": "code",
   "execution_count": 29,
   "metadata": {},
   "outputs": [
    {
     "data": {
      "text/plain": [
       "<All keys matched successfully>"
      ]
     },
     "execution_count": 29,
     "metadata": {},
     "output_type": "execute_result"
    }
   ],
   "source": [
    "rm = RewardModel(env, device)\n",
    "rm.load_state_dict(th.load(\"../reward-models/seaquest_rm_v1.pt\"))"
   ]
  },
  {
   "cell_type": "code",
   "execution_count": 30,
   "metadata": {},
   "outputs": [],
   "source": [
    "blurred = CustomRewardWrapper(BlurSeaquestScore(env), rm)\n",
    "blurred_obs = blurred.reset()\n",
    "non_blurred = CustomRewardWrapper(env, rm)\n",
    "non_blurred_obs = non_blurred.reset()"
   ]
  },
  {
   "cell_type": "code",
   "execution_count": 31,
   "metadata": {},
   "outputs": [
    {
     "data": {
      "image/png": "[encoded data removed]",
      "text/plain": [
       "<Figure size 432x288 with 8 Axes>"
      ]
     },
     "metadata": {
      "needs_background": "light"
     },
     "output_type": "display_data"
    }
   ],
   "source": [
    "for k in range(4):\n",
    "    plt.subplot(2, 4, k+1)\n",
    "    plt.imshow(blurred_obs[0, :, :, k])\n",
    "for k in range(4):\n",
    "    plt.subplot(2, 4, 4+k+1)\n",
    "    plt.imshow(non_blurred_obs[0, :, :, k])"
   ]
  },
  {
   "cell_type": "code",
   "execution_count": 32,
   "metadata": {},
   "outputs": [
    {
     "name": "stdout",
     "output_type": "stream",
     "text": [
      "Baseline: 0.02186793088912964\n",
      "Blured:   0.01074950397014618\n",
      "Baseline: 0.021976187825202942\n",
      "Blured:   -0.0041172802448272705\n",
      "Baseline: 0.02351723611354828\n",
      "Blured:   -0.01067216694355011\n",
      "Baseline: 0.024495944380760193\n",
      "Blured:   -0.004491761326789856\n",
      "Baseline: 0.026918485760688782\n",
      "Blured:   -0.0036377757787704468\n",
      "Baseline: 0.028194919228553772\n",
      "Blured:   -0.002283245325088501\n",
      "Baseline: 0.0292675644159317\n",
      "Blured:   -0.0004720240831375122\n",
      "Baseline: 0.03135572373867035\n",
      "Blured:   -0.0004504173994064331\n",
      "Baseline: 0.028633669018745422\n",
      "Blured:   0.0006993860006332397\n",
      "Baseline: 0.028686881065368652\n",
      "Blured:   -0.0018397718667984009\n"
     ]
    }
   ],
   "source": [
    "for _ in range(10):\n",
    "    obs, reward, done, info = non_blurred.step([0])\n",
    "    print(f\"Baseline: {reward.item()}\")\n",
    "    obs, reward, done, info = blurred.step([0])\n",
    "    print(f\"Blured:   {reward.item()}\")"
   ]
  },
  {
   "cell_type": "markdown",
   "metadata": {},
   "source": [
    "# So it also seems similar here, however it hasn't scored yet... so I bet it would be quite different if it scored"
   ]
  },
  {
   "cell_type": "code",
   "execution_count": null,
   "metadata": {},
   "outputs": [],
   "source": []
  },
  {
   "cell_type": "code",
   "execution_count": null,
   "metadata": {},
   "outputs": [],
   "source": []
  },
  {
   "cell_type": "code",
   "execution_count": null,
   "metadata": {},
   "outputs": [],
   "source": []
  },
  {
   "cell_type": "code",
   "execution_count": null,
   "metadata": {},
   "outputs": [],
   "source": []
  },
  {
   "cell_type": "code",
   "execution_count": null,
   "metadata": {},
   "outputs": [],
   "source": []
  },
  {
   "cell_type": "code",
   "execution_count": null,
   "metadata": {},
   "outputs": [],
   "source": []
  },
  {
   "cell_type": "code",
   "execution_count": null,
   "metadata": {},
   "outputs": [],
   "source": []
  },
  {
   "cell_type": "code",
   "execution_count": null,
   "metadata": {},
   "outputs": [],
   "source": []
  }
 ],
 "metadata": {
  "kernelspec": {
   "display_name": "Python 3",
   "language": "python",
   "name": "python3"
  },
  "language_info": {
   "codemirror_mode": {
    "name": "ipython",
    "version": 3
   },
   "file_extension": ".py",
   "mimetype": "text/x-python",
   "name": "python",
   "nbconvert_exporter": "python",
   "pygments_lexer": "ipython3",
   "version": "3.7.7"
  }
 },
 "nbformat": 4,
 "nbformat_minor": 4
}
